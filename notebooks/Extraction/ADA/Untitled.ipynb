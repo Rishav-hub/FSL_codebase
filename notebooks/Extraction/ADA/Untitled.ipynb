{
 "cells": [
  {
   "cell_type": "code",
   "execution_count": 1,
   "id": "277fbcb2-2645-4acb-919e-316465000470",
   "metadata": {},
   "outputs": [],
   "source": [
    "import pandas as pd"
   ]
  },
  {
   "cell_type": "code",
   "execution_count": 20,
   "id": "4fc5b060-fe8e-42b5-92cb-9cb8b8475224",
   "metadata": {},
   "outputs": [],
   "source": [
    "BBOX_HCFA_DONUT_Mapping_Dict = {\n",
    "\"10. IS PATIENT’S CONDITION RELATED TO:\": [\"10A_PatConditionEmpN\", \"10A_PatConditionEmpY\", \"10B_PatConditionAutoN\",\\\n",
    "                                           \"10B_PatConditionAutoY\",\"10C_PatConditionOtherN\",\"10C_PatConditionOtherY\",\n",
    "                                          \"10B_PatAAState\"],\n",
    "\"10D_Claim_Codes\": \"10D_ClaimCodes\",\n",
    "\"11. INSURED’S POLICY GROUP OR FECA NUMBER\": \"11_PriInsPolGrpNumber\",\n",
    "\"11. d. IS THERE ANOTHER HEALTH BENEFIT PLAN?\": [\"11D_PriInsOtherPlanN\", \"11D_PriInsOtherPlanY\"],\n",
    "\"11A_Ins_DOB\":  [\"11A_PriInsDOB\",'11A_PriInsSexF', '11A_PriInsSexM'],\n",
    "\"11B_Other_Claim_Id\": [\"11B_OtherClaimIdCode\", \"11B_OtherClaimIdCodeQual\", \"11B_PriInsEmpName\"],\n",
    "\"11C_Ins_Plan_Name\": \"11C_PriInsPlanName\",\n",
    "\"12_Patient_Auth_Sign\": \"12_PatSignonFile\",\n",
    "\"13. INSURED’S OR AUTHORIZED PERSON’S SIGNATURE\":  \"13_PriSignonFileList\", \n",
    "\"14. DATE OF CURRENT\": [\"14_PatCurrentDate\",\"14_PatCurrentDateQual\"],\n",
    "\"15_Other_Date\": [\"15_PatFirstDateOfIllQual\", \"15_PatFirstDateOfIll\"],\n",
    "\"16_Date\": [\"16_Date\", '16_PatUTWFromDate', '16_PatUTWToDate'],\n",
    "\"17. NAME OF REFERRING PHYSICIAN OR OTHER SOURCE\": [\"17_RefProvFullName\", \"17_RefProvOrgName\", \"17_RefProvFullNameQual\"],\n",
    "\"17a. Qual\": [\"17A_RefProvOtherId\", \"17A_RefProvOtherIdQual\"],\n",
    "\"17b. NPI\": \"17B_RefProvNPI\",\n",
    "\"19. Additional Claim Information\": [\"19A_ProvCredential\", \"19A_ProvFName\", \"19A_ProvLName\",\\\n",
    "                \"19A_ProvMI\", \"19A_ProvPrefix\", \"19A_ProvFullNameQual\", \"19A_ProvSuffix\", \\\n",
    "                \"19B_ProvCredential\", \"19B_ProvFName\", \"19B_ProvLName\", \"19B_ProvMI\",\\\n",
    "                \"19B_ProvPrefix\", \"19B_ProvFullNameQual\", \"19B_ProvSuffix\",\\\n",
    "                \"19_LocalUsePrefix\"],\n",
    "\"19_Hospitalization_Date\": ['Box19B_Provider', 'Box19B_NPI', 'Box19A_QQ', 'Box19A_Provider', 'Box19A_NPI', '19_LocalUse', '18_PatHospFromDate',\n",
    " '18_PatHospToDate'],\n",
    "\"1_InsType\":  \"1_InsType\",\n",
    "\"1a. INSURED’S I.D. NUMBER\": \"1A_PriInsIDNumber\",\n",
    "\"2. PATIENT’S NAME (Last Name, First Name, Middle Initial)\": \"2_PatFullName\",\n",
    "\"20_Outside_Lab\": [\"20_Outside_Lab\", \"MissApp\", '20_OSLabCharges', '20_OSLabN', '20_OSLabY',],\n",
    "\"21. DIAGNOSIS OR NATURE OF ILLNESS OR INJURY.\": [\"21_DiagDescription\",\"21_DiagCode\", \"21_ICDInd\"],\n",
    "\"22. MEDICAID RESUBMISSION CODE and Original Ref No\": [\"22_MedicaidCode\", \"22_MedicaidRefNum\"],\n",
    "\"23. PRIOR AUTHORIZATION NUMBER\": \"23_PriorAuthNum\",\n",
    "\"24. Table\": [\"24_HCT\", \"24_MedicaidPaidAmount\", \"24_NDC\", \"24_NDCUnits\", \"24_NDCUnitsQual\", \"24_ProcDesc\", \\\n",
    "              \"24_ClmTaxAmount\", \"24A_FromDate\", \"24A_ToDate\", \"24B_POS\", \"24C_EMG\", \"24D_Modifier\", \"24D_ProcCode\",\\\n",
    "                \"24E_DiagPtr\", \"24F_LineCharges\", \"24G_Units\", \"24H_EPSDT\", \"24H_EPSDT1\", \"24J_RenProvNPIId\", \\\n",
    "                \"24J_RenProvOtherId\", \"24_ClmNYSurChargeAmount\", \"24_ClmDiscountAmount\", \"24J_RenProvFullName\",\n",
    "                 \"24J_RenProvOtherIdQual\", '24_AnesEndTime', '24_AnesMod','24_AnesStartTime', '24_AnesTotalMin',\\\n",
    "                '24_AnesTotalTime', '24_AnesUnits', '24_NDCCharges','24_NDCQualifier'],\n",
    "\"25. FEDERAL TAX I.D. NUMBER_SSN_EIN\": [\"25_BillProvFedIdCode\", \"25_BillProvEIN\", \"25_BillProvSSN\"],\n",
    "\"26. PATIENT’S ACCOUNT NO.\": \"26_PatAcctNo\", \n",
    "\"27. ACCEPT ASSIGNMENT?\": [\"27_AcceptAssignmentN\", \"27_AcceptAssignmentY\"],\n",
    "\"28. TOTAL CHARGE\": \"28_TotalCharges\",\n",
    "\"29. AMOUNT PAID\":\"29_AmountPaid\",\n",
    "\"3. PATIENT’S BIRTH DATE\": [\"3_PatSexF\", \"3_PatSexM\", \"3_PatDOB\"],\n",
    "\"30_Reserved_NUCC\": \"30_BalanceDue\",\n",
    "\"31. SIGNATURE OF PHYSICIAN OR SUPPLIER  INCLUDING DEGREES OR CREDENTIALS\": [\"31_RenProvTaxonomyCode\", \\\n",
    "                                                                             \"31_PrnRenProvFullName\", \"31_RenProvOrgName\", '31_RenDateSigned'],\n",
    "\"32. SERVICE FACILITY LOCATION INFORMATION\": [\"32_AmbToFacProvAddr1\" ,\"32_AmbToFacProvAddr2\", \"32_AmbToFacProvCity\",\\\n",
    "                \"32_AmbToFacProvCredential\", \"32_AmbToFacProvFName\" , \"32_AmbToFacProvFullPost\", \"32_AmbToFacProvLName\",\\\n",
    "                \"32_MedicaidTaxId\", \"32_AmbToFacProvMI\", \"32_AmbToFacProvNPIId\", \"32_AmbToFacProvOrgName\", \\\n",
    "                \"32_AmbToFacProvOtherId\", \"32_AmbToFacProvOtherIdFull\", \"32_AmbToFacProvPostCode\", \\\n",
    "                \"32_AmbToFacProvPostCode5\", \"32_AmbToFacProvPostCodeExt\", \"32_AmbToFacProvPrefix\", \"32_FacProvOrgName\", \\\n",
    "                \"32_FacProvAddr1\", \"32_FacProvCity\", \"32_FacProvCredential\", \"32_FacProvFName\", \"32_FacProvLName\", \\\n",
    "                \"32_FacProvMI\", \"32_FacProvNPIId\", \"32_FacProvOtherId\", \"32_FacProvOtherIdFull\", \"32_FacProvPostCode\", \\\n",
    "                \"32_FacProvPrefix\", \"32_FacProvState\", \"32_FacProvSuffix\", \"32_AmbToFacProvState\", \"32_AmbToFacProvSuffix\", \\\n",
    "                '32_AmbToFacProvFullName', '32_FacProvFullName'],\n",
    "\"32A_NPI_Code\": \"32_FacProvNPIId\",\n",
    "\"32B_Code\": \"32_FacProvOtherId\", \n",
    "\"33. PHYSICIAN’S, SUPPLIER’S BILLING NAME, ADDRESS\": [\"33_BillProvAddr1\", \"33_BillProvCity\",\"33_BillProvFullName\",\\\n",
    "\"33_MedicaidTaxId\",\"33_MediBillProvAddr1\",\"33_MediBillProvAddr2\",\"33_MediBillProvCity\",\"33_MediBillProvCredential\",\\\n",
    "\"33_MediBillProvFName\",\"33_MediBillProvFullPost\",\"33_MediBillProvLName\",\"33_MediBillProvMI\",\"33_MediBillProvNPIId\",\\\n",
    "\"33_MediBillProvOrgName\",\"33_MediBillProvOtherId\",\"33_MediBillProvOtherIdFull\",\"33_MediBillProvPhone\",\"33_MediBillProvPostCode\",\\\n",
    "\"33_MediBillProvPostCode5\",\"33_MediBillProvPostCodeExt\",\"33_MediBillProvPrefix\",\"33_MediBillProvState\",\"33_MediBillProvSuffix\",\\\n",
    "\"33_BillProvNPIId\",\"33_BillProvOrgName\",\"33_BillProvOtherIdFull\",\"33_BillProvPhone\",\"33_BillProvPostCode\",\"33_BillProvState\"],\n",
    "\"33. PHYSICIAN’S, SUPPLIER’S FullID\": \"33_BillProvOtherIdFull\", \n",
    "\"33. PHYSICIAN’S, SUPPLIER’S NPI\": \"33_BillProvNPIId\",\n",
    "\"4. INSURED’S NAME (Last Name, First Name, Middle Initial)\":\"4_PriInsFullName\",\n",
    "\"5. PATIENT’S ADDRESS (No., Street)\":  \"5_PatAddr1\", \n",
    "\"5. Pat_CITY\": \"5_PatCity\", \n",
    "\"5. Pat_STATE\": \"5_PatState\", \n",
    "\"5. Pat_ZIP CODE\": \"5_PatPostCode\", \n",
    "\"5_Telephone\": \"5_PatPhoneNumber\", \n",
    "\"6. PATIENT RELATIONSHIP TO INSURED\": [\"6_PatRelShipChild\", \"6_PatRelShipOther\", \"6_PatRelShipSelf\", \"6_PatRelShipSpouse\"],\n",
    "\"7. INSURED’S ADDRESS (No., Street)\": \"7_PriInsAddr1\", \n",
    "\"7. Insurer_CITY\":  \"7_PriInsCity\", \n",
    "\"7. Insurer_STATE\":\"7_PriInsState\", \n",
    "\"7. Insurer_ZIP CODE\": \"7_PriInsPostCode\", \n",
    "\"7_Telephone\": \"7_PriInsPhoneNumber\",\n",
    "\"8_Reserved_NUCC\" :  [\"8_PatEmpStatusCode\", \"8_PatStatus\", \"8_PatStatusMarried\", \"8_PatStatusOther\", \"8_PatStatusSingle\", \\\n",
    "                      \"8_PatStudent\", \"8_PatStudentStatusCodeFT\", \"8_PatStudentStatusCodePT\"],\n",
    "\"9. a. OTHER INSURED’S POLICY OR GROUP NUMBER\": \"9A_SecInsPolGrpNumber\",\n",
    "\"9. d. INSURANCE PLAN NAME OR PROGRAM NAME\": \"9D_SecInsPlanName\",\n",
    "\"9B_Reserved_NUCC\": [\"9B_SecInsDOB\", \"9B_SecInsSexF\", \"9B_SecInsSexM\"],\n",
    "\"9C_Reserved_NUCC\" : [\"9B_SecInsDOB\", \"9B_SecInsSexF\", \"9B_SecInsSexM\"],\n",
    "\"9_Other_InsName\": [\"9_SecInsFName\", \"9_SecInsFullName\", \"9_SecInsLName\", \"9_SecInsMI\", \"9_SecInsPrefix\", \"9_SecInsSuffix\"]\n",
    "}"
   ]
  },
  {
   "cell_type": "code",
   "execution_count": 5,
   "id": "9fd7e035-36ee-47a1-8e90-595167ed8d5a",
   "metadata": {},
   "outputs": [
    {
     "data": {
      "text/plain": [
       "dict_values([['10A_PatConditionEmpN', '10A_PatConditionEmpY', '10B_PatConditionAutoN', '10B_PatConditionAutoY', '10C_PatConditionOtherN', '10C_PatConditionOtherY'], '10D_ClaimCodes', '11_PriInsPolGrpNumber', ['11D_PriInsOtherPlanN', '11D_PriInsOtherPlanY'], '11A_PriInsDOB', ['11B_OtherClaimIdCode', '11B_OtherClaimIdCodeQual'], '11C_PriInsPlanName', '12_PatSignonFile', '13_PriSignonFileList', ['14_PatCurrentDate', '14_PatCurrentDateQual'], ['15_PatFirstDateOfIllQual'], '16_Date', ['17_RefProvFullName', '17_RefProvOrgName'], ['17A_RefProvOtherId', '17A_RefProvOtherIdQual'], '17B_RefProvNPI', ['19A_ProvCredential', '19A_ProvFName', '19A_ProvLName', '19A_ProvMI', '19A_ProvPrefix', '19A_ProvFullNameQual', '19A_ProvSuffix', '19B_ProvCredential', '19B_ProvFName', '19B_ProvLName', '19B_ProvMI', '19B_ProvPrefix', '19B_ProvFullNameQual', '19B_ProvSuffix'], ['Box19B_Provider', 'Box19B_NPI', 'Box19A_QQ', 'Box19A_Provider', 'Box19A_NPI', '19_LocalUse'], '1_InsType', '1A_PriInsIDNumber', '2_PatFullName', ['20_Outside_Lab', 'MissApp'], ['21_DiagDescription', '21_DiagCode', '21_ICDInd'], ['22_MedicaidCode', '22_MedicaidRefNum'], '23_PriorAuthNum', ['24_HCT', '24_MedicaidPaidAmount', '24_NDC', '24_NDCUnits', '24_NDCUnitsQual', '24_ProcDesc', '24_ClmTaxAmount', '24A_FromDate', '24A_ToDate', '24B_POS', '24C_EMG', '24D_Modifier', '24D_ProcCode', '24E_DiagPtr', '24F_LineCharges', '24G_Units', '24H_EPSDT', '24H_EPSDT1', '24J_RenProvNPIId', '24J_RenProvOtherId', '24_ClmNYSurChargeAmount', '24_ClmDiscountAmount'], ['25_BillProvFedIdCode', '25_BillProvEIN', '25_BillProvSSN'], '26_PatAcctNo', ['27_AcceptAssignmentN', '27_AcceptAssignmentY'], '28_TotalCharges', '29_AmountPaid', ['3_PatSexF', '3_PatSexM', '3_PatDOB'], '30_BalanceDue', ['31_RenProvTaxonomyCode', '31_PrnRenProvFullName', '31_RenProvOrgName'], ['32_AmbToFacProvAddr1', '32_AmbToFacProvAddr2', '32_AmbToFacProvCity', '32_AmbToFacProvCredential', '32_AmbToFacProvFName', '32_AmbToFacProvFullPost', '32_AmbToFacProvLName', '32_MedicaidTaxId', '32_AmbToFacProvMI', '32_AmbToFacProvNPIId', '32_AmbToFacProvOrgName', '32_AmbToFacProvOtherId', '32_AmbToFacProvOtherIdFull', '32_AmbToFacProvPostCode', '32_AmbToFacProvPostCode5', '32_AmbToFacProvPostCodeExt', '32_AmbToFacProvPrefix', '32_FacProvOrgName', '32_FacProvAddr1', '32_FacProvCity', '32_FacProvCredential', '32_FacProvFName', '32_FacProvLName', '32_FacProvMI', '32_FacProvNPIId', '32_FacProvOtherId', '32_FacProvOtherIdFull', '32_FacProvPostCode', '32_FacProvPrefix', '32_FacProvState', '32_FacProvSuffix', '32_AmbToFacProvState', '32_AmbToFacProvSuffix'], '32_FacProvNPIId', '32_FacProvOtherId', ['33_BillProvAddr1', '33_BillProvCity', '33_BillProvFullName', '33_MedicaidTaxId', '33_MediBillProvAddr1', '33_MediBillProvAddr2', '33_MediBillProvCity', '33_MediBillProvCredential', '33_MediBillProvFName', '33_MediBillProvFullPost', '33_MediBillProvLName', '33_MediBillProvMI', '33_MediBillProvNPIId', '33_MediBillProvOrgName', '33_MediBillProvOtherId', '33_MediBillProvOtherIdFull', '33_MediBillProvPhone', '33_MediBillProvPostCode', '33_MediBillProvPostCode5', '33_MediBillProvPostCodeExt', '33_MediBillProvPrefix', '33_MediBillProvState', '33_MediBillProvSuffix', '33_BillProvNPIId', '33_BillProvOrgName', '33_BillProvOtherIdFull', '33_BillProvPhone', '33_BillProvPostCode', '33_BillProvState'], '33_BillProvOtherIdFull', '33_BillProvNPIId', '4_PriInsFullName', '5_PatAddr1', '5_PatCity', '5_PatState', '5_PatPostCode', '5_PatPhoneNumber', ['6_PatRelShipChild', '6_PatRelShipOther', '6_PatRelShipSelf', '6_PatRelShipSpouse'], '7_PriInsAddr1', '7_PriInsCity', '7_PriInsState', '7_PriInsPostCode', '7_PriInsPhoneNumber', ['8_PatEmpStatusCode', '8_PatStatus', '8_PatStatusMarried', '8_PatStatusOther', '8_PatStatusSingle', '8_PatStudent', '8_PatStudentStatusCodeFT', '8_PatStudentStatusCodePT'], '9A_SecInsPolGrpNumber', '9D_SecInsPlanName', ['9B_SecInsDOB', '9B_SecInsSexF', '9B_SecInsSexM'], ['9B_SecInsDOB', '9B_SecInsSexF', '9B_SecInsSexM'], ['9_SecInsFName', '9_SecInsFullName', '9_SecInsLName', '9_SecInsMI', '9_SecInsPrefix', '9_SecInsSuffix']])"
      ]
     },
     "execution_count": 5,
     "metadata": {},
     "output_type": "execute_result"
    }
   ],
   "source": [
    "original_keys = []\n",
    "\n",
    "BBOX_HCFA_DONUT_Mapping_Dict.values()"
   ]
  },
  {
   "cell_type": "code",
   "execution_count": 8,
   "id": "ce27acc7-45b9-4824-992e-c54352946c28",
   "metadata": {},
   "outputs": [],
   "source": [
    "import pandas as pd"
   ]
  },
  {
   "cell_type": "code",
   "execution_count": 46,
   "id": "fbdbd7cd-7118-467c-80c8-1a5bd0c8f810",
   "metadata": {},
   "outputs": [],
   "source": [
    "merged_df = pd.read_parquet(\"merged_bsc_uhg_test.parquet\")\n",
    "HCFA_FORM_KEY_MAPPING = r\"D:\\project\\FSL\\FSL_codebase\\api\\HCFA\\artifacts\\HCFA_Keys_All.xlsx\"\n",
    "hcfa_form_df = pd.read_excel(HCFA_FORM_KEY_MAPPING)"
   ]
  },
  {
   "cell_type": "code",
   "execution_count": null,
   "id": "eca794ad-9ccf-464f-a893-ab871ea6bb38",
   "metadata": {
    "scrolled": true
   },
   "outputs": [],
   "source": [
    "merged_df['Field_Name'].unique()"
   ]
  },
  {
   "cell_type": "code",
   "execution_count": null,
   "id": "1a89bf16-6a0c-4f5f-98fe-cefaf52a49f4",
   "metadata": {},
   "outputs": [],
   "source": [
    "hcfa_form_df[\"Key_Name\"].unique()"
   ]
  },
  {
   "cell_type": "code",
   "execution_count": null,
   "id": "7e03ae80-e943-413c-9e74-c261c38958d3",
   "metadata": {
    "scrolled": true
   },
   "outputs": [],
   "source": [
    "set(hcfa_form_df[\"Key_Name\"].unique()) - set(merged_df['Field_Name'].unique())"
   ]
  },
  {
   "cell_type": "code",
   "execution_count": 18,
   "id": "7c105896-7389-468c-a2be-814cd731c578",
   "metadata": {},
   "outputs": [
    {
     "data": {
      "text/plain": [
       "{'10B_PatAAState',\n",
       " '11A_PriInsSexF',\n",
       " '11A_PriInsSexM',\n",
       " '11B_PriInsEmpName',\n",
       " '15_PatFirstDateOfIll',\n",
       " '16_PatUTWFromDate',\n",
       " '16_PatUTWToDate',\n",
       " '17_RefProvFullNameQual',\n",
       " '18_PatHospFromDate',\n",
       " '18_PatHospToDate',\n",
       " '19_LocalUsePrefix',\n",
       " '20_OSLabCharges',\n",
       " '20_OSLabN',\n",
       " '20_OSLabY',\n",
       " '24J_RenProvFullName',\n",
       " '24J_RenProvOtherIdQual',\n",
       " '24_AnesEndTime',\n",
       " '24_AnesMod',\n",
       " '24_AnesStartTime',\n",
       " '24_AnesTotalMin',\n",
       " '24_AnesTotalTime',\n",
       " '24_AnesUnits',\n",
       " '24_NDCCharges',\n",
       " '24_NDCQualifier',\n",
       " '31_RenDateSigned',\n",
       " '32_AmbToFacProvFullName',\n",
       " '32_FacProvFullName'}"
      ]
     },
     "execution_count": 18,
     "metadata": {},
     "output_type": "execute_result"
    }
   ],
   "source": [
    "set(merged_df['Field_Name'].unique()) - set(hcfa_form_df[\"Key_Name\"].unique())"
   ]
  },
  {
   "cell_type": "code",
   "execution_count": 21,
   "id": "075691fc-d4dd-490a-875e-db2d4a90f93d",
   "metadata": {},
   "outputs": [
    {
     "name": "stdout",
     "output_type": "stream",
     "text": [
      "Missing Field Names: []\n"
     ]
    }
   ],
   "source": [
    "import itertools\n",
    "\n",
    "# Flatten the dictionary values into a single list\n",
    "dict_values = list(itertools.chain(*[v if isinstance(v, list) else [v] for v in BBOX_HCFA_DONUT_Mapping_Dict.values()]))\n",
    "\n",
    "# Get the unique Field_Name values from the dataframe\n",
    "field_names = merged_df['Field_Name'].unique()\n",
    "\n",
    "# Find which Field_Name values are not present in the dictionary values\n",
    "missing_field_names = [field for field in field_names if field not in dict_values]\n",
    "\n",
    "# Print the missing field names\n",
    "print(\"Missing Field Names:\", missing_field_names)\n"
   ]
  },
  {
   "cell_type": "code",
   "execution_count": 22,
   "id": "80930fd7-6178-4ecc-9f3c-fed68a7c9f95",
   "metadata": {},
   "outputs": [
    {
     "name": "stdout",
     "output_type": "stream",
     "text": [
      "Extra values in BBOX_HCFA_DONUT_Mapping_Dict: ['16_Date', '19A_ProvCredential', '19A_ProvFName', '19A_ProvLName', '19A_ProvMI', '19A_ProvPrefix', '19A_ProvFullNameQual', '19A_ProvSuffix', '19B_ProvCredential', '19B_ProvFName', '19B_ProvLName', '19B_ProvMI', '19B_ProvPrefix', '19B_ProvFullNameQual', '19B_ProvSuffix', 'Box19B_Provider', 'Box19B_NPI', 'Box19A_QQ', 'Box19A_Provider', 'Box19A_NPI', '1_InsType', '20_Outside_Lab', 'MissApp', '24H_EPSDT1', '32_AmbToFacProvAddr2', '32_AmbToFacProvCredential', '32_AmbToFacProvFName', '32_AmbToFacProvFullPost', '32_AmbToFacProvLName', '32_AmbToFacProvMI', '32_AmbToFacProvOtherId', '32_AmbToFacProvPostCode5', '32_AmbToFacProvPrefix', '32_FacProvCredential', '32_FacProvFName', '32_FacProvLName', '32_FacProvMI', '32_FacProvOtherId', '32_FacProvPrefix', '32_FacProvSuffix', '32_AmbToFacProvSuffix', '32_FacProvOtherId', '33_MediBillProvAddr2', '33_MediBillProvCredential', '33_MediBillProvFName', '33_MediBillProvFullPost', '33_MediBillProvLName', '33_MediBillProvMI', '33_MediBillProvOtherId', '33_MediBillProvPostCode5', '33_MediBillProvPostCodeExt', '33_MediBillProvPrefix', '33_MediBillProvSuffix', '8_PatStatus', '8_PatStudent', '9_SecInsFName', '9_SecInsLName', '9_SecInsMI', '9_SecInsPrefix', '9_SecInsSuffix']\n"
     ]
    }
   ],
   "source": [
    "import itertools\n",
    "\n",
    "# Flatten the dictionary values into a single list\n",
    "dict_values = list(itertools.chain(*[v if isinstance(v, list) else [v] for v in BBOX_HCFA_DONUT_Mapping_Dict.values()]))\n",
    "\n",
    "# Get the unique Field_Name values from the dataframe\n",
    "field_names = merged_df['Field_Name'].unique()\n",
    "\n",
    "# Find the extra values in the dictionary that are not in the Field_Name column\n",
    "extra_dict_values = [value for value in dict_values if value not in field_names]\n",
    "\n",
    "# Print the extra values\n",
    "print(\"Extra values in BBOX_HCFA_DONUT_Mapping_Dict:\", extra_dict_values)\n"
   ]
  },
  {
   "cell_type": "code",
   "execution_count": 23,
   "id": "343e7c49-72ee-410f-a508-d2e68386df99",
   "metadata": {},
   "outputs": [],
   "source": [
    "import itertools\n",
    "\n",
    "# Step 1: Flatten the dictionary values into a single list (as done previously)\n",
    "dict_values = list(itertools.chain(*[v if isinstance(v, list) else [v] for v in BBOX_HCFA_DONUT_Mapping_Dict.values()]))\n",
    "\n",
    "# Step 2: Get the unique Field_Name values from the dataframe\n",
    "field_names = merged_df['Field_Name'].unique()\n",
    "\n",
    "# Step 3: Find extra values in the dictionary that are not in the Field_Name column\n",
    "extra_dict_values = [value for value in dict_values if value not in field_names]\n",
    "\n",
    "# Step 4: Create a new dictionary excluding extra values\n",
    "new_BBOX_HCFA_DONUT_Mapping_Dict = {}\n",
    "\n",
    "for key, value in BBOX_HCFA_DONUT_Mapping_Dict.items():\n",
    "    if isinstance(value, list):\n",
    "        # Filter out extra values from lists\n",
    "        new_value = [v for v in value if v not in extra_dict_values]\n",
    "    else:\n",
    "        # If it's a string, only include it if it's not an extra value\n",
    "        new_value = value if value not in extra_dict_values else None\n",
    "    \n",
    "    # Add to the new dictionary if new_value is not empty or None\n",
    "    if new_value:\n",
    "        new_BBOX_HCFA_DONUT_Mapping_Dict[key] = new_value"
   ]
  },
  {
   "cell_type": "code",
   "execution_count": 24,
   "id": "c31f2010-0f47-4c0e-9a20-a497125634ec",
   "metadata": {},
   "outputs": [
    {
     "name": "stdout",
     "output_type": "stream",
     "text": [
      "Updated BBOX_HCFA_DONUT_Mapping_Dict: {'10. IS PATIENT’S CONDITION RELATED TO:': ['10A_PatConditionEmpN', '10A_PatConditionEmpY', '10B_PatConditionAutoN', '10B_PatConditionAutoY', '10C_PatConditionOtherN', '10C_PatConditionOtherY', '10B_PatAAState'], '10D_Claim_Codes': '10D_ClaimCodes', '11. INSURED’S POLICY GROUP OR FECA NUMBER': '11_PriInsPolGrpNumber', '11. d. IS THERE ANOTHER HEALTH BENEFIT PLAN?': ['11D_PriInsOtherPlanN', '11D_PriInsOtherPlanY'], '11A_Ins_DOB': ['11A_PriInsDOB', '11A_PriInsSexF', '11A_PriInsSexM'], '11B_Other_Claim_Id': ['11B_OtherClaimIdCode', '11B_OtherClaimIdCodeQual', '11B_PriInsEmpName'], '11C_Ins_Plan_Name': '11C_PriInsPlanName', '12_Patient_Auth_Sign': '12_PatSignonFile', '13. INSURED’S OR AUTHORIZED PERSON’S SIGNATURE': '13_PriSignonFileList', '14. DATE OF CURRENT': ['14_PatCurrentDate', '14_PatCurrentDateQual'], '15_Other_Date': ['15_PatFirstDateOfIllQual', '15_PatFirstDateOfIll'], '16_Date': ['16_PatUTWFromDate', '16_PatUTWToDate'], '17. NAME OF REFERRING PHYSICIAN OR OTHER SOURCE': ['17_RefProvFullName', '17_RefProvOrgName', '17_RefProvFullNameQual'], '17a. Qual': ['17A_RefProvOtherId', '17A_RefProvOtherIdQual'], '17b. NPI': '17B_RefProvNPI', '19. Additional Claim Information': ['19_LocalUsePrefix'], '19_Hospitalization_Date': ['19_LocalUse', '18_PatHospFromDate', '18_PatHospToDate'], '1a. INSURED’S I.D. NUMBER': '1A_PriInsIDNumber', '2. PATIENT’S NAME (Last Name, First Name, Middle Initial)': '2_PatFullName', '20_Outside_Lab': ['20_OSLabCharges', '20_OSLabN', '20_OSLabY'], '21. DIAGNOSIS OR NATURE OF ILLNESS OR INJURY.': ['21_DiagDescription', '21_DiagCode', '21_ICDInd'], '22. MEDICAID RESUBMISSION CODE and Original Ref No': ['22_MedicaidCode', '22_MedicaidRefNum'], '23. PRIOR AUTHORIZATION NUMBER': '23_PriorAuthNum', '24. Table': ['24_HCT', '24_MedicaidPaidAmount', '24_NDC', '24_NDCUnits', '24_NDCUnitsQual', '24_ProcDesc', '24_ClmTaxAmount', '24A_FromDate', '24A_ToDate', '24B_POS', '24C_EMG', '24D_Modifier', '24D_ProcCode', '24E_DiagPtr', '24F_LineCharges', '24G_Units', '24H_EPSDT', '24J_RenProvNPIId', '24J_RenProvOtherId', '24_ClmNYSurChargeAmount', '24_ClmDiscountAmount', '24J_RenProvFullName', '24J_RenProvOtherIdQual', '24_AnesEndTime', '24_AnesMod', '24_AnesStartTime', '24_AnesTotalMin', '24_AnesTotalTime', '24_AnesUnits', '24_NDCCharges', '24_NDCQualifier'], '25. FEDERAL TAX I.D. NUMBER_SSN_EIN': ['25_BillProvFedIdCode', '25_BillProvEIN', '25_BillProvSSN'], '26. PATIENT’S ACCOUNT NO.': '26_PatAcctNo', '27. ACCEPT ASSIGNMENT?': ['27_AcceptAssignmentN', '27_AcceptAssignmentY'], '28. TOTAL CHARGE': '28_TotalCharges', '29. AMOUNT PAID': '29_AmountPaid', '3. PATIENT’S BIRTH DATE': ['3_PatSexF', '3_PatSexM', '3_PatDOB'], '30_Reserved_NUCC': '30_BalanceDue', '31. SIGNATURE OF PHYSICIAN OR SUPPLIER  INCLUDING DEGREES OR CREDENTIALS': ['31_RenProvTaxonomyCode', '31_PrnRenProvFullName', '31_RenProvOrgName', '31_RenDateSigned'], '32. SERVICE FACILITY LOCATION INFORMATION': ['32_AmbToFacProvAddr1', '32_AmbToFacProvCity', '32_MedicaidTaxId', '32_AmbToFacProvNPIId', '32_AmbToFacProvOrgName', '32_AmbToFacProvOtherIdFull', '32_AmbToFacProvPostCode', '32_AmbToFacProvPostCodeExt', '32_FacProvOrgName', '32_FacProvAddr1', '32_FacProvCity', '32_FacProvNPIId', '32_FacProvOtherIdFull', '32_FacProvPostCode', '32_FacProvState', '32_AmbToFacProvState', '32_AmbToFacProvFullName', '32_FacProvFullName'], '32A_NPI_Code': '32_FacProvNPIId', '33. PHYSICIAN’S, SUPPLIER’S BILLING NAME, ADDRESS': ['33_BillProvAddr1', '33_BillProvCity', '33_BillProvFullName', '33_MedicaidTaxId', '33_MediBillProvAddr1', '33_MediBillProvCity', '33_MediBillProvNPIId', '33_MediBillProvOrgName', '33_MediBillProvOtherIdFull', '33_MediBillProvPhone', '33_MediBillProvPostCode', '33_MediBillProvState', '33_BillProvNPIId', '33_BillProvOrgName', '33_BillProvOtherIdFull', '33_BillProvPhone', '33_BillProvPostCode', '33_BillProvState'], '33. PHYSICIAN’S, SUPPLIER’S FullID': '33_BillProvOtherIdFull', '33. PHYSICIAN’S, SUPPLIER’S NPI': '33_BillProvNPIId', '4. INSURED’S NAME (Last Name, First Name, Middle Initial)': '4_PriInsFullName', '5. PATIENT’S ADDRESS (No., Street)': '5_PatAddr1', '5. Pat_CITY': '5_PatCity', '5. Pat_STATE': '5_PatState', '5. Pat_ZIP CODE': '5_PatPostCode', '5_Telephone': '5_PatPhoneNumber', '6. PATIENT RELATIONSHIP TO INSURED': ['6_PatRelShipChild', '6_PatRelShipOther', '6_PatRelShipSelf', '6_PatRelShipSpouse'], '7. INSURED’S ADDRESS (No., Street)': '7_PriInsAddr1', '7. Insurer_CITY': '7_PriInsCity', '7. Insurer_STATE': '7_PriInsState', '7. Insurer_ZIP CODE': '7_PriInsPostCode', '7_Telephone': '7_PriInsPhoneNumber', '8_Reserved_NUCC': ['8_PatEmpStatusCode', '8_PatStatusMarried', '8_PatStatusOther', '8_PatStatusSingle', '8_PatStudentStatusCodeFT', '8_PatStudentStatusCodePT'], '9. a. OTHER INSURED’S POLICY OR GROUP NUMBER': '9A_SecInsPolGrpNumber', '9. d. INSURANCE PLAN NAME OR PROGRAM NAME': '9D_SecInsPlanName', '9B_Reserved_NUCC': ['9B_SecInsDOB', '9B_SecInsSexF', '9B_SecInsSexM'], '9C_Reserved_NUCC': ['9B_SecInsDOB', '9B_SecInsSexF', '9B_SecInsSexM'], '9_Other_InsName': ['9_SecInsFullName']}\n"
     ]
    }
   ],
   "source": [
    "# Print the updated dictionary\n",
    "print(\"Updated BBOX_HCFA_DONUT_Mapping_Dict:\", new_BBOX_HCFA_DONUT_Mapping_Dict)"
   ]
  },
  {
   "cell_type": "code",
   "execution_count": 28,
   "id": "400fedbb-519d-42fa-93f7-94369c407043",
   "metadata": {},
   "outputs": [
    {
     "data": {
      "text/plain": [
       "{'10. IS PATIENT’S CONDITION RELATED TO:',\n",
       " '10D_Claim_Codes',\n",
       " '11. INSURED’S POLICY GROUP OR FECA NUMBER',\n",
       " '11. d. IS THERE ANOTHER HEALTH BENEFIT PLAN?',\n",
       " '11A_Ins_DOB',\n",
       " '11B_Other_Claim_Id',\n",
       " '11C_Ins_Plan_Name',\n",
       " '12_Patient_Auth_Sign',\n",
       " '13. INSURED’S OR AUTHORIZED PERSON’S SIGNATURE',\n",
       " '14. DATE OF CURRENT',\n",
       " '15_Other_Date',\n",
       " '16_Date',\n",
       " '17. NAME OF REFERRING PHYSICIAN OR OTHER SOURCE',\n",
       " '17a. Qual',\n",
       " '17b. NPI',\n",
       " '19. Additional Claim Information',\n",
       " '19_Hospitalization_Date',\n",
       " '1a. INSURED’S I.D. NUMBER',\n",
       " '2. PATIENT’S NAME (Last Name, First Name, Middle Initial)',\n",
       " '20_Outside_Lab',\n",
       " '21. DIAGNOSIS OR NATURE OF ILLNESS OR INJURY.',\n",
       " '22. MEDICAID RESUBMISSION CODE and Original Ref No',\n",
       " '23. PRIOR AUTHORIZATION NUMBER',\n",
       " '24. Table',\n",
       " '25. FEDERAL TAX I.D. NUMBER_SSN_EIN',\n",
       " '26. PATIENT’S ACCOUNT NO.',\n",
       " '27. ACCEPT ASSIGNMENT?',\n",
       " '28. TOTAL CHARGE',\n",
       " '29. AMOUNT PAID',\n",
       " '3. PATIENT’S BIRTH DATE',\n",
       " '30_Reserved_NUCC',\n",
       " '31. SIGNATURE OF PHYSICIAN OR SUPPLIER  INCLUDING DEGREES OR CREDENTIALS',\n",
       " '32. SERVICE FACILITY LOCATION INFORMATION',\n",
       " '32A_NPI_Code',\n",
       " '33. PHYSICIAN’S, SUPPLIER’S BILLING NAME, ADDRESS',\n",
       " '33. PHYSICIAN’S, SUPPLIER’S FullID',\n",
       " '33. PHYSICIAN’S, SUPPLIER’S NPI',\n",
       " '4. INSURED’S NAME (Last Name, First Name, Middle Initial)',\n",
       " '5. PATIENT’S ADDRESS (No., Street)',\n",
       " '5. Pat_CITY',\n",
       " '5. Pat_STATE',\n",
       " '5. Pat_ZIP CODE',\n",
       " '5_Telephone',\n",
       " '6. PATIENT RELATIONSHIP TO INSURED',\n",
       " '7. INSURED’S ADDRESS (No., Street)',\n",
       " '7. Insurer_CITY',\n",
       " '7. Insurer_STATE',\n",
       " '7. Insurer_ZIP CODE',\n",
       " '7_Telephone',\n",
       " '8_Reserved_NUCC',\n",
       " '9. a. OTHER INSURED’S POLICY OR GROUP NUMBER',\n",
       " '9. d. INSURANCE PLAN NAME OR PROGRAM NAME',\n",
       " '9B_Reserved_NUCC',\n",
       " '9C_Reserved_NUCC',\n",
       " '9_Other_InsName'}"
      ]
     },
     "execution_count": 28,
     "metadata": {},
     "output_type": "execute_result"
    }
   ],
   "source": [
    "set(new_BBOX_HCFA_DONUT_Mapping_Dict.keys())"
   ]
  },
  {
   "cell_type": "code",
   "execution_count": 29,
   "id": "aae4a4a9-a2bb-43b1-941d-3f6683d4f874",
   "metadata": {},
   "outputs": [
    {
     "data": {
      "text/plain": [
       "{'1_InsType', '32B_Code'}"
      ]
     },
     "execution_count": 29,
     "metadata": {},
     "output_type": "execute_result"
    }
   ],
   "source": [
    "set(BBOX_HCFA_DONUT_Mapping_Dict.keys()) - set(new_BBOX_HCFA_DONUT_Mapping_Dict.keys())\n"
   ]
  },
  {
   "cell_type": "code",
   "execution_count": 30,
   "id": "af0835b7-e002-4821-bf58-3dfa3692defc",
   "metadata": {},
   "outputs": [],
   "source": [
    "response = {'file_path': 'D:\\\\project\\\\FSL\\\\FSL_codebase\\\\api\\\\HCFA\\\\images\\\\1149142YAZ006_001.png', 'result': {'MissApp': {'coordinates': {'x1': 0.0, 'y1': 1435.0740966796875, 'x2': 1753.0001220703125, 'y2': 1879.1309814453125}, 'text': [{'value': '[BLANK]'}]}, \"Box19B_QQ'\": {'coordinates': {'x1': 1, 'y1': 1, 'x2': 100, 'y2': 100}, 'text': [{'value': '[BLANK]'}]}, 'Box19B_Provider': {'coordinates': {'x1': 1, 'y1': 1, 'x2': 100, 'y2': 100}, 'text': [{'value': '[BLANK]'}]}, 'Box19B_NPI': {'coordinates': {'x1': 1, 'y1': 1, 'x2': 100, 'y2': 100}, 'text': [{'value': '[BLANK]'}]}, 'Box19A_QQ': {'coordinates': {'x1': 1, 'y1': 1, 'x2': 100, 'y2': 100}, 'text': [{'value': '[BLANK]'}]}, 'Box19A_Provider': {'coordinates': {'x1': 1, 'y1': 1, 'x2': 100, 'y2': 100}, 'text': [{'value': '[BLANK]'}]}, 'Box19A_NPI': {'coordinates': {'x1': 1, 'y1': 1, 'x2': 100, 'y2': 100}, 'text': [{'value': '[BLANK]'}]}, '9_SecInsSuffix': {'coordinates': {'x1': 46.847164154052734, 'y1': 592.3572387695312, 'x2': 649.7222290039062, 'y2': 942.4849853515625}, 'text': [{'value': '[BLANK]'}]}, '9_SecInsPrefix': {'coordinates': {'x1': 46.847164154052734, 'y1': 592.3572387695312, 'x2': 649.7222290039062, 'y2': 942.4849853515625}, 'text': [{'value': '[BLANK]'}]}, '9_SecInsMI': {'coordinates': {'x1': 46.847164154052734, 'y1': 592.3572387695312, 'x2': 649.7222290039062, 'y2': 942.4849853515625}, 'text': [{'value': '[BLANK]'}]}, '9_SecInsLName': {'coordinates': {'x1': 46.847164154052734, 'y1': 592.3572387695312, 'x2': 649.7222290039062, 'y2': 942.4849853515625}, 'text': [{'value': '[BLANK]'}]}, '9_SecInsFullName': {'coordinates': {'x1': 46.847164154052734, 'y1': 592.3572387695312, 'x2': 649.7222290039062, 'y2': 942.4849853515625}, 'text': [{'value': '[BLANK]'}]}, '9_SecInsFName': {'coordinates': {'x1': 46.847164154052734, 'y1': 592.3572387695312, 'x2': 649.7222290039062, 'y2': 942.4849853515625}, 'text': [{'value': '[BLANK]'}]}, '9D_SecInsPlanName': {'coordinates': {'x1': 46.847164154052734, 'y1': 592.3572387695312, 'x2': 649.7222290039062, 'y2': 942.4849853515625}, 'text': [{'value': '[BLANK]'}]}, '9B_SecInsSexM': {'coordinates': {'x1': 46.847164154052734, 'y1': 592.3572387695312, 'x2': 649.7222290039062, 'y2': 942.4849853515625}, 'text': [{'value': '[BLANK]'}]}, '9B_SecInsSexF': {'coordinates': {'x1': 46.847164154052734, 'y1': 592.3572387695312, 'x2': 649.7222290039062, 'y2': 942.4849853515625}, 'text': [{'value': '[BLANK]'}]}, '9B_SecInsDOB': {'coordinates': {'x1': 46.847164154052734, 'y1': 592.3572387695312, 'x2': 649.7222290039062, 'y2': 942.4849853515625}, 'text': [{'value': '[BLANK]'}]}, '9A_SecInsPolGrpNumber': {'coordinates': {'x1': 46.847164154052734, 'y1': 592.3572387695312, 'x2': 649.7222290039062, 'y2': 942.4849853515625}, 'text': [{'value': '[BLANK]'}]}, '8_PatStudentStatusCodePT': {'coordinates': {'x1': 659.6019897460938, 'y1': 474.4801330566406, 'x2': 1032.9866943359375, 'y2': 614.0148315429688}, 'text': [{'value': '[BLANK]'}]}, '8_PatStudentStatusCodeFT': {'coordinates': {'x1': 659.6019897460938, 'y1': 474.4801330566406, 'x2': 1032.9866943359375, 'y2': 614.0148315429688}, 'text': [{'value': '[BLANK]'}]}, '8_PatStudent': {'coordinates': {'x1': 0, 'y1': 0, 'x2': 0, 'y2': 0}, 'text': [{'value': '[BLANK]'}]}, '8_PatStatusSingle': {'coordinates': {'x1': 659.6019897460938, 'y1': 474.4801330566406, 'x2': 1032.9866943359375, 'y2': 614.0148315429688}, 'text': [{'value': '[BLANK]'}]}, '8_PatStatusOther': {'coordinates': {'x1': 659.6019897460938, 'y1': 474.4801330566406, 'x2': 1032.9866943359375, 'y2': 614.0148315429688}, 'text': [{'value': '[BLANK]'}]}, '8_PatStatusMarried': {'coordinates': {'x1': 659.6019897460938, 'y1': 474.4801330566406, 'x2': 1032.9866943359375, 'y2': 614.0148315429688}, 'text': [{'value': '[BLANK]'}]}, '8_PatStatus': {'coordinates': {'x1': 0, 'y1': 0, 'x2': 0, 'y2': 0}, 'text': [{'value': '[BLANK]'}]}, '8_PatEmpStatusCode': {'coordinates': {'x1': 659.6019897460938, 'y1': 474.4801330566406, 'x2': 1032.9866943359375, 'y2': 614.0148315429688}, 'text': [{'value': '[BLANK]'}]}, '7_PriInsState': {'coordinates': {'x1': 1034.4381103515625, 'y1': 340.84814453125, 'x2': 1653.5462646484375, 'y2': 604.1516723632812}, 'text': [{'value': 'WA'}]}, '7_PriInsPostCode': {'coordinates': {'x1': 1034.4381103515625, 'y1': 340.84814453125, 'x2': 1653.5462646484375, 'y2': 604.1516723632812}, 'text': [{'value': '981332946'}]}, '7_PriInsPhoneNumber': {'coordinates': {'x1': 1034.4381103515625, 'y1': 340.84814453125, 'x2': 1653.5462646484375, 'y2': 604.1516723632812}, 'text': [{'value': '[BLANK]'}]}, '7_PriInsCity': {'coordinates': {'x1': 1034.4381103515625, 'y1': 340.84814453125, 'x2': 1653.5462646484375, 'y2': 604.1516723632812}, 'text': [{'value': 'SHORELINE'}]}, '7_PriInsAddr1': {'coordinates': {'x1': 1034.4381103515625, 'y1': 340.84814453125, 'x2': 1653.5462646484375, 'y2': 604.1516723632812}, 'text': [{'value': '1140 N 192ND ST'}]}, '6_PatRelShipSpouse': {'coordinates': {'x1': 694.5409545898438, 'y1': 405.9815979003906, 'x2': 926.4688110351562, 'y2': 462.9613037109375}, 'text': [{'value': '[BLANK]'}]}, '6_PatRelShipSelf': {'coordinates': {'x1': 694.5409545898438, 'y1': 405.9815979003906, 'x2': 926.4688110351562, 'y2': 462.9613037109375}, 'text': [{'value': 'X'}]}, '6_PatRelShipOther': {'coordinates': {'x1': 694.5409545898438, 'y1': 405.9815979003906, 'x2': 926.4688110351562, 'y2': 462.9613037109375}, 'text': [{'value': '[BLANK]'}]}, '6_PatRelShipChild': {'coordinates': {'x1': 694.5409545898438, 'y1': 405.9815979003906, 'x2': 926.4688110351562, 'y2': 462.9613037109375}, 'text': [{'value': '[BLANK]'}]}, '5_PatState': {'coordinates': {'x1': 53.15249252319336, 'y1': 341.24072265625, 'x2': 644.67822265625, 'y2': 607.1461181640625}, 'text': [{'value': 'WA'}]}, '5_PatPostCode': {'coordinates': {'x1': 53.15249252319336, 'y1': 341.24072265625, 'x2': 644.67822265625, 'y2': 607.1461181640625}, 'text': [{'value': '981332946'}]}, '5_PatPhoneNumber': {'coordinates': {'x1': 53.15249252319336, 'y1': 341.24072265625, 'x2': 644.67822265625, 'y2': 607.1461181640625}, 'text': [{'value': '[BLANK]'}]}, '5_PatCity': {'coordinates': {'x1': 53.15249252319336, 'y1': 341.24072265625, 'x2': 644.67822265625, 'y2': 607.1461181640625}, 'text': [{'value': 'SHORELINE'}]}, '5_PatAddr1': {'coordinates': {'x1': 53.15249252319336, 'y1': 341.24072265625, 'x2': 644.67822265625, 'y2': 607.1461181640625}, 'text': [{'value': '1140 N 192ND ST'}]}, '4_PriInsFullName': {'coordinates': {'x1': 1037.671875, 'y1': 349.4368896484375, 'x2': 1344.909423828125, 'y2': 372.5643005371094}, 'text': [{'value': 'BROTZMAN, MAIYA'}]}, '3_PatDOB': {'coordinates': {'x1': 657.0179443359375, 'y1': 343.2881164550781, 'x2': 1000.9056396484375, 'y2': 399.4752502441406}, 'text': [{'value': '01011957'}]}, '3_PatSexM': {'coordinates': {'x1': 657.0179443359375, 'y1': 343.2881164550781, 'x2': 1000.9056396484375, 'y2': 399.4752502441406}, 'text': [{'value': '[BLANK]'}]}, '3_PatSexF': {'coordinates': {'x1': 657.0179443359375, 'y1': 343.2881164550781, 'x2': 1000.9056396484375, 'y2': 399.4752502441406}, 'text': [{'value': 'X'}]}, '33_BillProvState': {'coordinates': {'x1': 1034.4744873046875, 'y1': 1928.1268310546875, 'x2': 1683.9356689453125, 'y2': 2189.0}, 'text': [{'value': 'CA'}]}, '33_BillProvPostCode': {'coordinates': {'x1': 1034.4744873046875, 'y1': 1928.1268310546875, 'x2': 1683.9356689453125, 'y2': 2189.0}, 'text': [{'value': '911892936'}]}, '33_BillProvPhone': {'coordinates': {'x1': 1034.4744873046875, 'y1': 1928.1268310546875, 'x2': 1683.9356689453125, 'y2': 2189.0}, 'text': [{'value': '[BLANK]'}]}, '33_BillProvOtherIdFull': {'coordinates': {'x1': 1034.4744873046875, 'y1': 1928.1268310546875, 'x2': 1683.9356689453125, 'y2': 2189.0}, 'text': [{'value': 'ZZ193200000X'}]}, '33_BillProvOrgName': {'coordinates': {'x1': 1034.4744873046875, 'y1': 1928.1268310546875, 'x2': 1683.9356689453125, 'y2': 2189.0}, 'text': [{'value': 'IORA HEALTH WA PHYS PC DBA ON'}]}, '33_BillProvNPIId': {'coordinates': {'x1': 1034.4744873046875, 'y1': 1928.1268310546875, 'x2': 1683.9356689453125, 'y2': 2189.0}, 'text': [{'value': '1023547072'}]}, '33_MediBillProvSuffix': {'coordinates': {'x1': 1034.4744873046875, 'y1': 1928.1268310546875, 'x2': 1683.9356689453125, 'y2': 2189.0}, 'text': [{'value': '[BLANK]'}]}, '33_MediBillProvState': {'coordinates': {'x1': 1034.4744873046875, 'y1': 1928.1268310546875, 'x2': 1683.9356689453125, 'y2': 2189.0}, 'text': [{'value': '[BLANK]'}]}, '33_MediBillProvPrefix': {'coordinates': {'x1': 1034.4744873046875, 'y1': 1928.1268310546875, 'x2': 1683.9356689453125, 'y2': 2189.0}, 'text': [{'value': '[BLANK]'}]}, '33_MediBillProvPostCodeExt': {'coordinates': {'x1': 1034.4744873046875, 'y1': 1928.1268310546875, 'x2': 1683.9356689453125, 'y2': 2189.0}, 'text': [{'value': '[BLANK]'}]}, '33_MediBillProvPostCode5': {'coordinates': {'x1': 1034.4744873046875, 'y1': 1928.1268310546875, 'x2': 1683.9356689453125, 'y2': 2189.0}, 'text': [{'value': '[BLANK]'}]}, '33_MediBillProvPostCode': {'coordinates': {'x1': 1034.4744873046875, 'y1': 1928.1268310546875, 'x2': 1683.9356689453125, 'y2': 2189.0}, 'text': [{'value': '[BLANK]'}]}, '33_MediBillProvPhone': {'coordinates': {'x1': 1034.4744873046875, 'y1': 1928.1268310546875, 'x2': 1683.9356689453125, 'y2': 2189.0}, 'text': [{'value': '[BLANK]'}]}, '33_MediBillProvOtherIdFull': {'coordinates': {'x1': 1034.4744873046875, 'y1': 1928.1268310546875, 'x2': 1683.9356689453125, 'y2': 2189.0}, 'text': [{'value': '[BLANK]'}]}, '33_MediBillProvOtherId': {'coordinates': {'x1': 1034.4744873046875, 'y1': 1928.1268310546875, 'x2': 1683.9356689453125, 'y2': 2189.0}, 'text': [{'value': '[BLANK]'}]}, '33_MediBillProvOrgName': {'coordinates': {'x1': 1034.4744873046875, 'y1': 1928.1268310546875, 'x2': 1683.9356689453125, 'y2': 2189.0}, 'text': [{'value': '[BLANK]'}]}, '33_MediBillProvNPIId': {'coordinates': {'x1': 1034.4744873046875, 'y1': 1928.1268310546875, 'x2': 1683.9356689453125, 'y2': 2189.0}, 'text': [{'value': '[BLANK]'}]}, '33_MediBillProvMI': {'coordinates': {'x1': 1034.4744873046875, 'y1': 1928.1268310546875, 'x2': 1683.9356689453125, 'y2': 2189.0}, 'text': [{'value': '[BLANK]'}]}, '33_MediBillProvLName': {'coordinates': {'x1': 1034.4744873046875, 'y1': 1928.1268310546875, 'x2': 1683.9356689453125, 'y2': 2189.0}, 'text': [{'value': '[BLANK]'}]}, '33_MediBillProvFullPost': {'coordinates': {'x1': 1034.4744873046875, 'y1': 1928.1268310546875, 'x2': 1683.9356689453125, 'y2': 2189.0}, 'text': [{'value': '[BLANK]'}]}, '33_MediBillProvFName': {'coordinates': {'x1': 1034.4744873046875, 'y1': 1928.1268310546875, 'x2': 1683.9356689453125, 'y2': 2189.0}, 'text': [{'value': '[BLANK]'}]}, '33_MediBillProvCredential': {'coordinates': {'x1': 1034.4744873046875, 'y1': 1928.1268310546875, 'x2': 1683.9356689453125, 'y2': 2189.0}, 'text': [{'value': '[BLANK]'}]}, '33_MediBillProvCity': {'coordinates': {'x1': 1034.4744873046875, 'y1': 1928.1268310546875, 'x2': 1683.9356689453125, 'y2': 2189.0}, 'text': [{'value': '[BLANK]'}]}, '33_MediBillProvAddr2': {'coordinates': {'x1': 1034.4744873046875, 'y1': 1928.1268310546875, 'x2': 1683.9356689453125, 'y2': 2189.0}, 'text': [{'value': '[BLANK]'}]}, '33_MediBillProvAddr1': {'coordinates': {'x1': 1034.4744873046875, 'y1': 1928.1268310546875, 'x2': 1683.9356689453125, 'y2': 2189.0}, 'text': [{'value': '[BLANK]'}]}, '33_MedicaidTaxId': {'coordinates': {'x1': 1034.4744873046875, 'y1': 1928.1268310546875, 'x2': 1683.9356689453125, 'y2': 2189.0}, 'text': [{'value': '[BLANK]'}]}, '33_BillProvFullName': {'coordinates': {'x1': 1034.4744873046875, 'y1': 1928.1268310546875, 'x2': 1683.9356689453125, 'y2': 2189.0}, 'text': [{'value': '[BLANK]'}]}, '33_BillProvCity': {'coordinates': {'x1': 1034.4744873046875, 'y1': 1928.1268310546875, 'x2': 1683.9356689453125, 'y2': 2189.0}, 'text': [{'value': 'PASADENA'}]}, '33_BillProvAddr1': {'coordinates': {'x1': 1034.4744873046875, 'y1': 1928.1268310546875, 'x2': 1683.9356689453125, 'y2': 2189.0}, 'text': [{'value': 'PO BOX 102936'}]}, '32_AmbToFacProvSuffix': {'coordinates': {'x1': 503.6505126953125, 'y1': 1920.6611328125, 'x2': 1032.6375732421875, 'y2': 2189.0}, 'text': [{'value': '[BLANK]'}]}, '32_AmbToFacProvState': {'coordinates': {'x1': 503.6505126953125, 'y1': 1920.6611328125, 'x2': 1032.6375732421875, 'y2': 2189.0}, 'text': [{'value': '[BLANK]'}]}, '32_FacProvSuffix': {'coordinates': {'x1': 503.6505126953125, 'y1': 1920.6611328125, 'x2': 1032.6375732421875, 'y2': 2189.0}, 'text': [{'value': '[BLANK]'}]}, '32_FacProvState': {'coordinates': {'x1': 503.6505126953125, 'y1': 1920.6611328125, 'x2': 1032.6375732421875, 'y2': 2189.0}, 'text': [{'value': 'WA'}]}, '32_FacProvPrefix': {'coordinates': {'x1': 503.6505126953125, 'y1': 1920.6611328125, 'x2': 1032.6375732421875, 'y2': 2189.0}, 'text': [{'value': '[BLANK]'}]}, '32_FacProvPostCode': {'coordinates': {'x1': 503.6505126953125, 'y1': 1920.6611328125, 'x2': 1032.6375732421875, 'y2': 2189.0}, 'text': [{'value': '981336143'}]}, '32_FacProvOtherIdFull': {'coordinates': {'x1': 503.6505126953125, 'y1': 1920.6611328125, 'x2': 1032.6375732421875, 'y2': 2189.0}, 'text': [{'value': '[BLANK]'}]}, '32_FacProvOtherId': {'coordinates': {'x1': 503.6505126953125, 'y1': 1920.6611328125, 'x2': 1032.6375732421875, 'y2': 2189.0}, 'text': [{'value': '[BLANK]'}]}, '32_FacProvNPIId': {'coordinates': {'x1': 503.6505126953125, 'y1': 1920.6611328125, 'x2': 1032.6375732421875, 'y2': 2189.0}, 'text': [{'value': '1023547072'}]}, '32_FacProvMI': {'coordinates': {'x1': 503.6505126953125, 'y1': 1920.6611328125, 'x2': 1032.6375732421875, 'y2': 2189.0}, 'text': [{'value': '[BLANK]'}]}, '32_FacProvLName': {'coordinates': {'x1': 503.6505126953125, 'y1': 1920.6611328125, 'x2': 1032.6375732421875, 'y2': 2189.0}, 'text': [{'value': '[BLANK]'}]}, '32_FacProvFName': {'coordinates': {'x1': 503.6505126953125, 'y1': 1920.6611328125, 'x2': 1032.6375732421875, 'y2': 2189.0}, 'text': [{'value': '[BLANK]'}]}, '32_FacProvCredential': {'coordinates': {'x1': 503.6505126953125, 'y1': 1920.6611328125, 'x2': 1032.6375732421875, 'y2': 2189.0}, 'text': [{'value': '[BLANK]'}]}, '32_FacProvCity': {'coordinates': {'x1': 503.6505126953125, 'y1': 1920.6611328125, 'x2': 1032.6375732421875, 'y2': 2189.0}, 'text': [{'value': 'SHORELINE'}]}, '32_FacProvAddr1': {'coordinates': {'x1': 503.6505126953125, 'y1': 1920.6611328125, 'x2': 1032.6375732421875, 'y2': 2189.0}, 'text': [{'value': '15214 AURORA AVE N'}]}, '32_FacProvOrgName': {'coordinates': {'x1': 503.6505126953125, 'y1': 1920.6611328125, 'x2': 1032.6375732421875, 'y2': 2189.0}, 'text': [{'value': 'IORA SENIOR HEALTH INC-AUR'}]}, '32_AmbToFacProvPrefix': {'coordinates': {'x1': 503.6505126953125, 'y1': 1920.6611328125, 'x2': 1032.6375732421875, 'y2': 2189.0}, 'text': [{'value': '[BLANK]'}]}, '32_AmbToFacProvPostCodeExt': {'coordinates': {'x1': 503.6505126953125, 'y1': 1920.6611328125, 'x2': 1032.6375732421875, 'y2': 2189.0}, 'text': [{'value': '[BLANK]'}]}, '32_AmbToFacProvPostCode5': {'coordinates': {'x1': 503.6505126953125, 'y1': 1920.6611328125, 'x2': 1032.6375732421875, 'y2': 2189.0}, 'text': [{'value': '[BLANK]'}]}, '32_AmbToFacProvPostCode': {'coordinates': {'x1': 503.6505126953125, 'y1': 1920.6611328125, 'x2': 1032.6375732421875, 'y2': 2189.0}, 'text': [{'value': '[BLANK]'}]}, '32_AmbToFacProvOtherIdFull': {'coordinates': {'x1': 503.6505126953125, 'y1': 1920.6611328125, 'x2': 1032.6375732421875, 'y2': 2189.0}, 'text': [{'value': '[BLANK]'}]}, '32_AmbToFacProvOtherId': {'coordinates': {'x1': 503.6505126953125, 'y1': 1920.6611328125, 'x2': 1032.6375732421875, 'y2': 2189.0}, 'text': [{'value': '[BLANK]'}]}, '32_AmbToFacProvOrgName': {'coordinates': {'x1': 503.6505126953125, 'y1': 1920.6611328125, 'x2': 1032.6375732421875, 'y2': 2189.0}, 'text': [{'value': '[BLANK]'}]}, '32_AmbToFacProvNPIId': {'coordinates': {'x1': 503.6505126953125, 'y1': 1920.6611328125, 'x2': 1032.6375732421875, 'y2': 2189.0}, 'text': [{'value': '[BLANK]'}]}, '32_MedicaidTaxId': {'coordinates': {'x1': 1, 'y1': 1, 'x2': 1753, 'y2': 2189}, 'text': [{'value': '[BLANK]'}]}, '32_AmbToFacProvMI': {'coordinates': {'x1': 503.6505126953125, 'y1': 1920.6611328125, 'x2': 1032.6375732421875, 'y2': 2189.0}, 'text': [{'value': '[BLANK]'}]}, '32_AmbToFacProvLName': {'coordinates': {'x1': 503.6505126953125, 'y1': 1920.6611328125, 'x2': 1032.6375732421875, 'y2': 2189.0}, 'text': [{'value': '[BLANK]'}]}, '32_AmbToFacProvFullPost': {'coordinates': {'x1': 503.6505126953125, 'y1': 1920.6611328125, 'x2': 1032.6375732421875, 'y2': 2189.0}, 'text': [{'value': '[BLANK]'}]}, '32_AmbToFacProvFName': {'coordinates': {'x1': 503.6505126953125, 'y1': 1920.6611328125, 'x2': 1032.6375732421875, 'y2': 2189.0}, 'text': [{'value': '[BLANK]'}]}, '32_AmbToFacProvCredential': {'coordinates': {'x1': 503.6505126953125, 'y1': 1920.6611328125, 'x2': 1032.6375732421875, 'y2': 2189.0}, 'text': [{'value': '[BLANK]'}]}, '32_AmbToFacProvCity': {'coordinates': {'x1': 503.6505126953125, 'y1': 1920.6611328125, 'x2': 1032.6375732421875, 'y2': 2189.0}, 'text': [{'value': '[BLANK]'}]}, '32_AmbToFacProvAddr2': {'coordinates': {'x1': 503.6505126953125, 'y1': 1920.6611328125, 'x2': 1032.6375732421875, 'y2': 2189.0}, 'text': [{'value': '[BLANK]'}]}, '32_AmbToFacProvAddr1': {'coordinates': {'x1': 503.6505126953125, 'y1': 1920.6611328125, 'x2': 1032.6375732421875, 'y2': 2189.0}, 'text': [{'value': '[BLANK]'}]}, '31_RenProvOrgName': {'coordinates': {'x1': 46.324363708496094, 'y1': 1909.670654296875, 'x2': 489.2355041503906, 'y2': 2070.936279296875}, 'text': [{'value': '[BLANK]'}]}, '31_PrnRenProvFullName': {'coordinates': {'x1': 46.324363708496094, 'y1': 1909.670654296875, 'x2': 489.2355041503906, 'y2': 2070.936279296875}, 'text': [{'value': 'JULIE WILLIAMS'}]}, '31_RenProvTaxonomyCode': {'coordinates': {'x1': 46.324363708496094, 'y1': 1909.670654296875, 'x2': 489.2355041503906, 'y2': 2070.936279296875}, 'text': [{'value': '[BLANK]'}]}, '30_BalanceDue': {'coordinates': {'x1': 1022.4675903320312, 'y1': 1878.14990234375, 'x2': 1700.7696533203125, 'y2': 1905.8111572265625}, 'text': [{'value': '[BLANK]'}]}, '2_PatFullName': {'coordinates': {'x1': 55.17534255981445, 'y1': 351.27032470703125, 'x2': 360.0440979003906, 'y2': 374.6470642089844}, 'text': [{'value': 'BROTZMAN, MAIYA'}]}, '29_AmountPaid': {'coordinates': {'x1': 1022.4675903320312, 'y1': 1878.14990234375, 'x2': 1700.7696533203125, 'y2': 1905.8111572265625}, 'text': [{'value': '000'}]}, '28_TotalCharges': {'coordinates': {'x1': 1022.4675903320312, 'y1': 1878.14990234375, 'x2': 1700.7696533203125, 'y2': 1905.8111572265625}, 'text': [{'value': '25300'}]}, '27_AcceptAssignmentY': {'coordinates': {'x1': 793.7567749023438, 'y1': 1879.7857666015625, 'x2': 970.3443603515625, 'y2': 1906.215087890625}, 'text': [{'value': 'X'}]}, '27_AcceptAssignmentN': {'coordinates': {'x1': 793.7567749023438, 'y1': 1879.7857666015625, 'x2': 970.3443603515625, 'y2': 1906.215087890625}, 'text': [{'value': '[BLANK]'}]}, '26_PatAcctNo': {'coordinates': {'x1': 500.5848083496094, 'y1': 1880.7337646484375, 'x2': 787.5919189453125, 'y2': 1902.0032958984375}, 'text': [{'value': '19661476A'}]}, '25_BillProvSSN': {'coordinates': {'x1': 50.27544021606445, 'y1': 1879.23779296875, 'x2': 432.5963134765625, 'y2': 1905.4794921875}, 'text': [{'value': '[BLANK]'}]}, '25_BillProvEIN': {'coordinates': {'x1': 50.27544021606445, 'y1': 1879.23779296875, 'x2': 432.5963134765625, 'y2': 1905.4794921875}, 'text': [{'value': 'X'}]}, '25_BillProvFedIdCode': {'coordinates': {'x1': 50.27544021606445, 'y1': 1879.23779296875, 'x2': 432.5963134765625, 'y2': 1905.4794921875}, 'text': [{'value': '471228605'}]}, '24_ClmTaxAmount': {'coordinates': {'x1': 0.0, 'y1': 1435.0740966796875, 'x2': 1753.0001220703125, 'y2': 1879.1309814453125}, 'text': [{'value': '[BLANK]'}]}, '24_ProcDesc': {'coordinates': {'x1': 0.0, 'y1': 1435.0740966796875, 'x2': 1753.0001220703125, 'y2': 1879.1309814453125}, 'text': [{'value': '[BLANK]'}]}, '24_NDCUnitsQual': {'coordinates': {'x1': 0.0, 'y1': 1435.0740966796875, 'x2': 1753.0001220703125, 'y2': 1879.1309814453125}, 'text': [{'value': '[BLANK]'}]}, '24_NDCUnits': {'coordinates': {'x1': 0.0, 'y1': 1435.0740966796875, 'x2': 1753.0001220703125, 'y2': 1879.1309814453125}, 'text': [{'value': '[BLANK]'}]}, '24_NDC': {'coordinates': {'x1': 0.0, 'y1': 1435.0740966796875, 'x2': 1753.0001220703125, 'y2': 1879.1309814453125}, 'text': [{'value': '[BLANK]'}]}, '24_MedicaidPaidAmount': {'coordinates': {'x1': 0.0, 'y1': 1435.0740966796875, 'x2': 1753.0001220703125, 'y2': 1879.1309814453125}, 'text': [{'value': '000'}]}, '24_HCT': {'coordinates': {'x1': 0.0, 'y1': 1435.0740966796875, 'x2': 1753.0001220703125, 'y2': 1879.1309814453125}, 'text': [{'value': '[BLANK]'}]}, '24_ClmNYSurChargeAmount': {'coordinates': {'x1': 0.0, 'y1': 1435.0740966796875, 'x2': 1753.0001220703125, 'y2': 1879.1309814453125}, 'text': [{'value': '[BLANK]'}]}, '24_ClmDiscountAmount': {'coordinates': {'x1': 0.0, 'y1': 1435.0740966796875, 'x2': 1753.0001220703125, 'y2': 1879.1309814453125}, 'text': [{'value': '[BLANK]'}]}, '24J_RenProvOtherId': {'coordinates': {'x1': 0.0, 'y1': 1435.0740966796875, 'x2': 1753.0001220703125, 'y2': 1879.1309814453125}, 'text': [{'value': '471228605'}]}, '24J_RenProvNPIId': {'coordinates': {'x1': 0.0, 'y1': 1435.0740966796875, 'x2': 1753.0001220703125, 'y2': 1879.1309814453125}, 'text': [{'value': '1215312475'}]}, '24H_EPSDT1': {'coordinates': {'x1': 0.0, 'y1': 1435.0740966796875, 'x2': 1753.0001220703125, 'y2': 1879.1309814453125}, 'text': [{'value': '[BLANK]'}]}, '24H_EPSDT': {'coordinates': {'x1': 0.0, 'y1': 1435.0740966796875, 'x2': 1753.0001220703125, 'y2': 1879.1309814453125}, 'text': [{'value': '[BLANK]'}]}, '24G_Units': {'coordinates': {'x1': 0.0, 'y1': 1435.0740966796875, 'x2': 1753.0001220703125, 'y2': 1879.1309814453125}, 'text': [{'value': '1'}]}, '24F_LineCharges': {'coordinates': {'x1': 0.0, 'y1': 1435.0740966796875, 'x2': 1753.0001220703125, 'y2': 1879.1309814453125}, 'text': [{'value': '25300'}]}, '24E_DiagPtr': {'coordinates': {'x1': 0.0, 'y1': 1435.0740966796875, 'x2': 1753.0001220703125, 'y2': 1879.1309814453125}, 'text': [{'value': 'AB'}]}, '24D_ProcCode': {'coordinates': {'x1': 0.0, 'y1': 1435.0740966796875, 'x2': 1753.0001220703125, 'y2': 1879.1309814453125}, 'text': [{'value': '99214'}]}, '24D_Modifier': {'coordinates': {'x1': 0.0, 'y1': 1435.0740966796875, 'x2': 1753.0001220703125, 'y2': 1879.1309814453125}, 'text': [{'value': '[BLANK]'}]}, '24C_EMG': {'coordinates': {'x1': 0.0, 'y1': 1435.0740966796875, 'x2': 1753.0001220703125, 'y2': 1879.1309814453125}, 'text': [{'value': '[BLANK]'}]}, '24B_POS': {'coordinates': {'x1': 0.0, 'y1': 1435.0740966796875, 'x2': 1753.0001220703125, 'y2': 1879.1309814453125}, 'text': [{'value': '11'}]}, '24A_ToDate': {'coordinates': {'x1': 0.0, 'y1': 1435.0740966796875, 'x2': 1753.0001220703125, 'y2': 1879.1309814453125}, 'text': [{'value': '08082023'}]}, '24A_FromDate': {'coordinates': {'x1': 0.0, 'y1': 1435.0740966796875, 'x2': 1753.0001220703125, 'y2': 1879.1309814453125}, 'text': [{'value': '08082023'}]}, '23_PriorAuthNum': {'coordinates': {'x1': 1033.714111328125, 'y1': 1261.3646240234375, 'x2': 1666.85009765625, 'y2': 1406.2314453125}, 'text': [{'value': '[BLANK]'}]}, '22_MedicaidRefNum': {'coordinates': {'x1': 1033.714111328125, 'y1': 1261.3646240234375, 'x2': 1666.85009765625, 'y2': 1406.2314453125}, 'text': [{'value': '[BLANK]'}]}, '22_MedicaidCode': {'coordinates': {'x1': 1033.714111328125, 'y1': 1261.3646240234375, 'x2': 1666.85009765625, 'y2': 1406.2314453125}, 'text': [{'value': '[BLANK]'}]}, '21_ICDInd': {'coordinates': {'x1': 82.76195526123047, 'y1': 1243.934814453125, 'x2': 961.9183959960938, 'y2': 1300.8707275390625}, 'text': [{'value': '0'}]}, '1A_PriInsIDNumber': {'coordinates': {'x1': 1031.7359619140625, 'y1': 282.826416015625, 'x2': 1602.7965087890625, 'y2': 305.0795593261719}, 'text': [{'value': '114071519'}]}, '19_LocalUse': {'coordinates': {'x1': 44.7805290222168, 'y1': 1215.021240234375, 'x2': 1004.6364135742188, 'y2': 1234.0372314453125}, 'text': [{'value': '[BLANK]'}]}, '19B_ProvSuffix': {'coordinates': {'x1': 1, 'y1': 1, 'x2': 100, 'y2': 100}, 'text': [{'value': '[BLANK]'}]}, '19B_ProvFullNameQual': {'coordinates': {'x1': 1, 'y1': 1, 'x2': 100, 'y2': 100}, 'text': [{'value': '[BLANK]'}]}, '19B_ProvPrefix': {'coordinates': {'x1': 1, 'y1': 1, 'x2': 100, 'y2': 100}, 'text': [{'value': '[BLANK]'}]}, '19B_ProvMI': {'coordinates': {'x1': 1, 'y1': 1, 'x2': 100, 'y2': 100}, 'text': [{'value': '[BLANK]'}]}, '19B_ProvLName': {'coordinates': {'x1': 1, 'y1': 1, 'x2': 100, 'y2': 100}, 'text': [{'value': '[BLANK]'}]}, '19B_ProvFName': {'coordinates': {'x1': 1, 'y1': 1, 'x2': 100, 'y2': 100}, 'text': [{'value': '[BLANK]'}]}, '19B_ProvCredential': {'coordinates': {'x1': 1, 'y1': 1, 'x2': 100, 'y2': 100}, 'text': [{'value': '[BLANK]'}]}, '19A_ProvSuffix': {'coordinates': {'x1': 1, 'y1': 1, 'x2': 100, 'y2': 100}, 'text': [{'value': '[BLANK]'}]}, '19A_ProvFullNameQual': {'coordinates': {'x1': 1, 'y1': 1, 'x2': 100, 'y2': 100}, 'text': [{'value': '[BLANK]'}]}, '19A_ProvPrefix': {'coordinates': {'x1': 1, 'y1': 1, 'x2': 100, 'y2': 100}, 'text': [{'value': '[BLANK]'}]}, '19A_ProvMI': {'coordinates': {'x1': 1, 'y1': 1, 'x2': 100, 'y2': 100}, 'text': [{'value': '[BLANK]'}]}, '19A_ProvLName': {'coordinates': {'x1': 1, 'y1': 1, 'x2': 100, 'y2': 100}, 'text': [{'value': '[BLANK]'}]}, '19A_ProvFName': {'coordinates': {'x1': 1, 'y1': 1, 'x2': 100, 'y2': 100}, 'text': [{'value': '[BLANK]'}]}, '19A_ProvCredential': {'coordinates': {'x1': 1, 'y1': 1, 'x2': 100, 'y2': 100}, 'text': [{'value': '[BLANK]'}]}, '17_RefProvOrgName': {'coordinates': {'x1': 37.652713775634766, 'y1': 1096.1070556640625, 'x2': 989.6532592773438, 'y2': 1192.772705078125}, 'text': [{'value': '[BLANK]'}]}, '17_RefProvFullName': {'coordinates': {'x1': 37.652713775634766, 'y1': 1096.1070556640625, 'x2': 989.6532592773438, 'y2': 1192.772705078125}, 'text': [{'value': 'MIMI NGOC NGUYEN'}]}, '17B_RefProvNPI': {'coordinates': {'x1': 37.652713775634766, 'y1': 1096.1070556640625, 'x2': 989.6532592773438, 'y2': 1192.772705078125}, 'text': [{'value': '1063754075'}]}, '17A_RefProvOtherIdQual': {'coordinates': {'x1': 37.652713775634766, 'y1': 1096.1070556640625, 'x2': 989.6532592773438, 'y2': 1192.772705078125}, 'text': [{'value': '[BLANK]'}]}, '17A_RefProvOtherId': {'coordinates': {'x1': 37.652713775634766, 'y1': 1096.1070556640625, 'x2': 989.6532592773438, 'y2': 1192.772705078125}, 'text': [{'value': '[BLANK]'}]}, '15_PatFirstDateOfIllQual': {'coordinates': {'x1': 638.7926025390625, 'y1': 1061.9583740234375, 'x2': 1020.7431030273438, 'y2': 1095.3843994140625}, 'text': [{'value': '[BLANK]'}]}, '14_PatCurrentDateQual': {'coordinates': {'x1': 48.367408752441406, 'y1': 1054.441162109375, 'x2': 382.8655700683594, 'y2': 1098.2845458984375}, 'text': [{'value': '[BLANK]'}]}, '14_PatCurrentDate': {'coordinates': {'x1': 48.367408752441406, 'y1': 1054.441162109375, 'x2': 382.8655700683594, 'y2': 1098.2845458984375}, 'text': [{'value': '[BLANK]'}]}, '13_PriSignonFileList': {'coordinates': {'x1': 1046.915283203125, 'y1': 1006.2809448242188, 'x2': 1671.48876953125, 'y2': 1027.9466552734375}, 'text': [{'value': 'SIGNATURE ON FILE'}]}, '12_PatSignonFile': {'coordinates': {'x1': 9.44217586517334, 'y1': 1005.9044189453125, 'x2': 597.1504516601562, 'y2': 1032.4830322265625}, 'text': [{'value': 'Blank'}]}, '11_PriInsPolGrpNumber': {'coordinates': {'x1': 1013.0830688476562, 'y1': 588.7002563476562, 'x2': 1698.552001953125, 'y2': 941.380859375}, 'text': [{'value': '[BLANK]'}]}, '11D_PriInsOtherPlanY': {'coordinates': {'x1': 1013.0830688476562, 'y1': 588.7002563476562, 'x2': 1698.552001953125, 'y2': 941.380859375}, 'text': [{'value': '[BLANK]'}]}, '11D_PriInsOtherPlanN': {'coordinates': {'x1': 1013.0830688476562, 'y1': 588.7002563476562, 'x2': 1698.552001953125, 'y2': 941.380859375}, 'text': [{'value': 'X'}]}, '11C_PriInsPlanName': {'coordinates': {'x1': 1013.0830688476562, 'y1': 588.7002563476562, 'x2': 1698.552001953125, 'y2': 941.380859375}, 'text': [{'value': '[BLANK]'}]}, '11B_OtherClaimIdCodeQual': {'coordinates': {'x1': 1013.0830688476562, 'y1': 588.7002563476562, 'x2': 1698.552001953125, 'y2': 941.380859375}, 'text': [{'value': '[BLANK]'}]}, '11B_OtherClaimIdCode': {'coordinates': {'x1': 1013.0830688476562, 'y1': 588.7002563476562, 'x2': 1698.552001953125, 'y2': 941.380859375}, 'text': [{'value': '[BLANK]'}]}, '11A_PriInsDOB': {'coordinates': {'x1': 1013.0830688476562, 'y1': 588.7002563476562, 'x2': 1698.552001953125, 'y2': 941.380859375}, 'text': [{'value': '[BLANK]'}]}, '10D_ClaimCodes': {'coordinates': {'x1': 660.2395629882812, 'y1': 674.7356567382812, 'x2': 922.9180297851562, 'y2': 928.2763671875}, 'text': [{'value': '[BLANK]'}]}, '10C_PatConditionOtherY': {'coordinates': {'x1': 660.2395629882812, 'y1': 674.7356567382812, 'x2': 922.9180297851562, 'y2': 928.2763671875}, 'text': [{'value': '[BLANK]'}]}, '10C_PatConditionOtherN': {'coordinates': {'x1': 660.2395629882812, 'y1': 674.7356567382812, 'x2': 922.9180297851562, 'y2': 928.2763671875}, 'text': [{'value': 'X'}]}, '10B_PatConditionAutoY': {'coordinates': {'x1': 660.2395629882812, 'y1': 674.7356567382812, 'x2': 922.9180297851562, 'y2': 928.2763671875}, 'text': [{'value': '[BLANK]'}]}, '10B_PatConditionAutoN': {'coordinates': {'x1': 660.2395629882812, 'y1': 674.7356567382812, 'x2': 922.9180297851562, 'y2': 928.2763671875}, 'text': [{'value': 'X'}]}, '10A_PatConditionEmpY': {'coordinates': {'x1': 660.2395629882812, 'y1': 674.7356567382812, 'x2': 922.9180297851562, 'y2': 928.2763671875}, 'text': [{'value': '[BLANK]'}]}, '10A_PatConditionEmpN': {'coordinates': {'x1': 660.2395629882812, 'y1': 674.7356567382812, 'x2': 922.9180297851562, 'y2': 928.2763671875}, 'text': [{'value': 'X'}]}, '21_DiagCode': {'coordinates': {'x1': 82.76195526123047, 'y1': 1243.934814453125, 'x2': 961.9183959960938, 'y2': 1300.8707275390625}, 'text': [{'value': 'F4310'}, {'value': ' G4700'}]}, '21_DiagDescription': {'coordinates': {'x1': 82.76195526123047, 'y1': 1243.934814453125, 'x2': 961.9183959960938, 'y2': 1300.8707275390625}, 'text': [{'value': '[BLANK] '}, {'value': ' [BLANK]'}]}}}"
   ]
  },
  {
   "cell_type": "code",
   "execution_count": 56,
   "id": "95ad0e6e-8006-41d2-805a-2dc8107cf2ea",
   "metadata": {},
   "outputs": [
    {
     "data": {
      "text/plain": [
       "set()"
      ]
     },
     "execution_count": 56,
     "metadata": {},
     "output_type": "execute_result"
    }
   ],
   "source": [
    "set(merged_df['Field_Name'].unique()) - set(response['result'].keys())"
   ]
  },
  {
   "cell_type": "code",
   "execution_count": 54,
   "id": "c85c23bb-e928-480b-a7e2-677bb6270a25",
   "metadata": {},
   "outputs": [],
   "source": [
    "response = {'file_path': 'D:\\\\project\\\\FSL\\\\FSL_codebase\\\\api\\\\HCFA\\\\images\\\\1149142YAZ006_001.PNG', 'result': {'9_SecInsFullName': {'coordinates': {'x1': 46.847164154052734, 'y1': 592.3572387695312, 'x2': 649.7222290039062, 'y2': 942.4849853515625}, 'text': [{'value': '[BLANK]'}]}, '9D_SecInsPlanName': {'coordinates': {'x1': 46.847164154052734, 'y1': 592.3572387695312, 'x2': 649.7222290039062, 'y2': 942.4849853515625}, 'text': [{'value': '[BLANK]'}]}, '9B_SecInsSexM': {'coordinates': {'x1': 46.847164154052734, 'y1': 592.3572387695312, 'x2': 649.7222290039062, 'y2': 942.4849853515625}, 'text': [{'value': '[BLANK]'}]}, '9B_SecInsSexF': {'coordinates': {'x1': 46.847164154052734, 'y1': 592.3572387695312, 'x2': 649.7222290039062, 'y2': 942.4849853515625}, 'text': [{'value': '[BLANK]'}]}, '9B_SecInsDOB': {'coordinates': {'x1': 46.847164154052734, 'y1': 592.3572387695312, 'x2': 649.7222290039062, 'y2': 942.4849853515625}, 'text': [{'value': '[BLANK]'}]}, '9A_SecInsPolGrpNumber': {'coordinates': {'x1': 46.847164154052734, 'y1': 592.3572387695312, 'x2': 649.7222290039062, 'y2': 942.4849853515625}, 'text': [{'value': '[BLANK]'}]}, '8_PatStudentStatusCodePT': {'coordinates': {'x1': 659.6019897460938, 'y1': 474.4801330566406, 'x2': 1032.9866943359375, 'y2': 614.0148315429688}, 'text': [{'value': '[BLANK]'}]}, '8_PatStudentStatusCodeFT': {'coordinates': {'x1': 659.6019897460938, 'y1': 474.4801330566406, 'x2': 1032.9866943359375, 'y2': 614.0148315429688}, 'text': [{'value': '[BLANK]'}]}, '8_PatStatusSingle': {'coordinates': {'x1': 659.6019897460938, 'y1': 474.4801330566406, 'x2': 1032.9866943359375, 'y2': 614.0148315429688}, 'text': [{'value': '[BLANK]'}]}, '8_PatStatusOther': {'coordinates': {'x1': 659.6019897460938, 'y1': 474.4801330566406, 'x2': 1032.9866943359375, 'y2': 614.0148315429688}, 'text': [{'value': '[BLANK]'}]}, '8_PatStatusMarried': {'coordinates': {'x1': 659.6019897460938, 'y1': 474.4801330566406, 'x2': 1032.9866943359375, 'y2': 614.0148315429688}, 'text': [{'value': '[BLANK]'}]}, '8_PatEmpStatusCode': {'coordinates': {'x1': 659.6019897460938, 'y1': 474.4801330566406, 'x2': 1032.9866943359375, 'y2': 614.0148315429688}, 'text': [{'value': '[BLANK]'}]}, '7_PriInsState': {'coordinates': {'x1': 1034.4381103515625, 'y1': 340.84814453125, 'x2': 1653.5462646484375, 'y2': 604.1516723632812}, 'text': [{'value': 'WA'}]}, '7_PriInsPostCode': {'coordinates': {'x1': 1034.4381103515625, 'y1': 340.84814453125, 'x2': 1653.5462646484375, 'y2': 604.1516723632812}, 'text': [{'value': '981332946'}]}, '7_PriInsPhoneNumber': {'coordinates': {'x1': 1034.4381103515625, 'y1': 340.84814453125, 'x2': 1653.5462646484375, 'y2': 604.1516723632812}, 'text': [{'value': '[BLANK]'}]}, '7_PriInsCity': {'coordinates': {'x1': 1034.4381103515625, 'y1': 340.84814453125, 'x2': 1653.5462646484375, 'y2': 604.1516723632812}, 'text': [{'value': 'SHORELINE'}]}, '7_PriInsAddr1': {'coordinates': {'x1': 1034.4381103515625, 'y1': 340.84814453125, 'x2': 1653.5462646484375, 'y2': 604.1516723632812}, 'text': [{'value': '1140 N 192ND ST'}]}, '6_PatRelShipSpouse': {'coordinates': {'x1': 694.5409545898438, 'y1': 405.9815979003906, 'x2': 926.4688110351562, 'y2': 462.9613037109375}, 'text': [{'value': '[BLANK]'}]}, '6_PatRelShipSelf': {'coordinates': {'x1': 694.5409545898438, 'y1': 405.9815979003906, 'x2': 926.4688110351562, 'y2': 462.9613037109375}, 'text': [{'value': 'X'}]}, '6_PatRelShipOther': {'coordinates': {'x1': 694.5409545898438, 'y1': 405.9815979003906, 'x2': 926.4688110351562, 'y2': 462.9613037109375}, 'text': [{'value': '[BLANK]'}]}, '6_PatRelShipChild': {'coordinates': {'x1': 694.5409545898438, 'y1': 405.9815979003906, 'x2': 926.4688110351562, 'y2': 462.9613037109375}, 'text': [{'value': '[BLANK]'}]}, '5_PatState': {'coordinates': {'x1': 53.15249252319336, 'y1': 341.24072265625, 'x2': 644.67822265625, 'y2': 607.1461181640625}, 'text': [{'value': 'WA'}]}, '5_PatPostCode': {'coordinates': {'x1': 53.15249252319336, 'y1': 341.24072265625, 'x2': 644.67822265625, 'y2': 607.1461181640625}, 'text': [{'value': '981332946'}]}, '5_PatPhoneNumber': {'coordinates': {'x1': 53.15249252319336, 'y1': 341.24072265625, 'x2': 644.67822265625, 'y2': 607.1461181640625}, 'text': [{'value': '[BLANK]'}]}, '5_PatCity': {'coordinates': {'x1': 53.15249252319336, 'y1': 341.24072265625, 'x2': 644.67822265625, 'y2': 607.1461181640625}, 'text': [{'value': 'SHORELINE'}]}, '5_PatAddr1': {'coordinates': {'x1': 53.15249252319336, 'y1': 341.24072265625, 'x2': 644.67822265625, 'y2': 607.1461181640625}, 'text': [{'value': '1140 N 192ND ST'}]}, '4_PriInsFullName': {'coordinates': {'x1': 1037.671875, 'y1': 349.4368896484375, 'x2': 1344.909423828125, 'y2': 372.5643005371094}, 'text': [{'value': 'BROTZMAN, MAIYA'}]}, '3_PatSexM': {'coordinates': {'x1': 657.0179443359375, 'y1': 343.2881164550781, 'x2': 1000.9056396484375, 'y2': 399.4752502441406}, 'text': [{'value': '[BLANK]'}]}, '3_PatSexF': {'coordinates': {'x1': 657.0179443359375, 'y1': 343.2881164550781, 'x2': 1000.9056396484375, 'y2': 399.4752502441406}, 'text': [{'value': 'X'}]}, '3_PatDOB': {'coordinates': {'x1': 657.0179443359375, 'y1': 343.2881164550781, 'x2': 1000.9056396484375, 'y2': 399.4752502441406}, 'text': [{'value': '01011957'}]}, '33_MedicaidTaxId': {'coordinates': {'x1': 1034.4744873046875, 'y1': 1928.1268310546875, 'x2': 1683.9356689453125, 'y2': 2189.0}, 'text': [{'value': '[BLANK]'}]}, '33_MediBillProvState': {'coordinates': {'x1': 1034.4744873046875, 'y1': 1928.1268310546875, 'x2': 1683.9356689453125, 'y2': 2189.0}, 'text': [{'value': '[BLANK]'}]}, '33_MediBillProvPostCode': {'coordinates': {'x1': 1034.4744873046875, 'y1': 1928.1268310546875, 'x2': 1683.9356689453125, 'y2': 2189.0}, 'text': [{'value': '[BLANK]'}]}, '33_MediBillProvPhone': {'coordinates': {'x1': 1034.4744873046875, 'y1': 1928.1268310546875, 'x2': 1683.9356689453125, 'y2': 2189.0}, 'text': [{'value': '[BLANK]'}]}, '33_MediBillProvOtherIdFull': {'coordinates': {'x1': 1034.4744873046875, 'y1': 1928.1268310546875, 'x2': 1683.9356689453125, 'y2': 2189.0}, 'text': [{'value': '[BLANK]'}]}, '33_MediBillProvOrgName': {'coordinates': {'x1': 1034.4744873046875, 'y1': 1928.1268310546875, 'x2': 1683.9356689453125, 'y2': 2189.0}, 'text': [{'value': '[BLANK]'}]}, '33_MediBillProvNPIId': {'coordinates': {'x1': 1034.4744873046875, 'y1': 1928.1268310546875, 'x2': 1683.9356689453125, 'y2': 2189.0}, 'text': [{'value': '[BLANK]'}]}, '33_MediBillProvCity': {'coordinates': {'x1': 1034.4744873046875, 'y1': 1928.1268310546875, 'x2': 1683.9356689453125, 'y2': 2189.0}, 'text': [{'value': '[BLANK]'}]}, '33_MediBillProvAddr1': {'coordinates': {'x1': 1034.4744873046875, 'y1': 1928.1268310546875, 'x2': 1683.9356689453125, 'y2': 2189.0}, 'text': [{'value': '[BLANK]'}]}, '33_BillProvState': {'coordinates': {'x1': 1034.4744873046875, 'y1': 1928.1268310546875, 'x2': 1683.9356689453125, 'y2': 2189.0}, 'text': [{'value': 'CA'}]}, '33_BillProvPostCode': {'coordinates': {'x1': 1034.4744873046875, 'y1': 1928.1268310546875, 'x2': 1683.9356689453125, 'y2': 2189.0}, 'text': [{'value': '911892936'}]}, '33_BillProvPhone': {'coordinates': {'x1': 1034.4744873046875, 'y1': 1928.1268310546875, 'x2': 1683.9356689453125, 'y2': 2189.0}, 'text': [{'value': '[BLANK]'}]}, '33_BillProvOtherIdFull': {'coordinates': {'x1': 1034.4744873046875, 'y1': 1928.1268310546875, 'x2': 1683.9356689453125, 'y2': 2189.0}, 'text': [{'value': 'ZZ193200000X'}]}, '33_BillProvOrgName': {'coordinates': {'x1': 1034.4744873046875, 'y1': 1928.1268310546875, 'x2': 1683.9356689453125, 'y2': 2189.0}, 'text': [{'value': 'IORA HEALTH WA PHYS PC DBA ON'}]}, '33_BillProvNPIId': {'coordinates': {'x1': 1034.4744873046875, 'y1': 1928.1268310546875, 'x2': 1683.9356689453125, 'y2': 2189.0}, 'text': [{'value': '1023547072'}]}, '33_BillProvFullName': {'coordinates': {'x1': 1034.4744873046875, 'y1': 1928.1268310546875, 'x2': 1683.9356689453125, 'y2': 2189.0}, 'text': [{'value': '[BLANK]'}]}, '33_BillProvCity': {'coordinates': {'x1': 1034.4744873046875, 'y1': 1928.1268310546875, 'x2': 1683.9356689453125, 'y2': 2189.0}, 'text': [{'value': 'PASADENA'}]}, '33_BillProvAddr1': {'coordinates': {'x1': 1034.4744873046875, 'y1': 1928.1268310546875, 'x2': 1683.9356689453125, 'y2': 2189.0}, 'text': [{'value': 'PO BOX 102936'}]}, '32_MedicaidTaxId': {'coordinates': {'x1': 503.6505126953125, 'y1': 1920.6611328125, 'x2': 1032.6375732421875, 'y2': 2189.0}, 'text': [{'value': '[BLANK]'}]}, '32_FacProvState': {'coordinates': {'x1': 503.6505126953125, 'y1': 1920.6611328125, 'x2': 1032.6375732421875, 'y2': 2189.0}, 'text': [{'value': 'WA'}]}, '32_FacProvPostCode': {'coordinates': {'x1': 503.6505126953125, 'y1': 1920.6611328125, 'x2': 1032.6375732421875, 'y2': 2189.0}, 'text': [{'value': '981336143'}]}, '32_FacProvOtherIdFull': {'coordinates': {'x1': 503.6505126953125, 'y1': 1920.6611328125, 'x2': 1032.6375732421875, 'y2': 2189.0}, 'text': [{'value': '[BLANK]'}]}, '32_FacProvOrgName': {'coordinates': {'x1': 503.6505126953125, 'y1': 1920.6611328125, 'x2': 1032.6375732421875, 'y2': 2189.0}, 'text': [{'value': 'IORA SENIOR HEALTH INC-AUR'}]}, '32_FacProvNPIId': {'coordinates': {'x1': 503.6505126953125, 'y1': 1920.6611328125, 'x2': 1032.6375732421875, 'y2': 2189.0}, 'text': [{'value': '1023547072'}]}, '32_FacProvFullName': {'coordinates': {'x1': 503.6505126953125, 'y1': 1920.6611328125, 'x2': 1032.6375732421875, 'y2': 2189.0}, 'text': [{'value': '[BLANK]'}]}, '32_FacProvCity': {'coordinates': {'x1': 503.6505126953125, 'y1': 1920.6611328125, 'x2': 1032.6375732421875, 'y2': 2189.0}, 'text': [{'value': 'SHORELINE'}]}, '32_FacProvAddr1': {'coordinates': {'x1': 503.6505126953125, 'y1': 1920.6611328125, 'x2': 1032.6375732421875, 'y2': 2189.0}, 'text': [{'value': '15214 AURORA AVE N'}]}, '32_AmbToFacProvState': {'coordinates': {'x1': 503.6505126953125, 'y1': 1920.6611328125, 'x2': 1032.6375732421875, 'y2': 2189.0}, 'text': [{'value': '[BLANK]'}]}, '32_AmbToFacProvPostCodeExt': {'coordinates': {'x1': 503.6505126953125, 'y1': 1920.6611328125, 'x2': 1032.6375732421875, 'y2': 2189.0}, 'text': [{'value': '[BLANK]'}]}, '32_AmbToFacProvPostCode': {'coordinates': {'x1': 503.6505126953125, 'y1': 1920.6611328125, 'x2': 1032.6375732421875, 'y2': 2189.0}, 'text': [{'value': '[BLANK]'}]}, '32_AmbToFacProvOtherIdFull': {'coordinates': {'x1': 503.6505126953125, 'y1': 1920.6611328125, 'x2': 1032.6375732421875, 'y2': 2189.0}, 'text': [{'value': '[BLANK]'}]}, '32_AmbToFacProvOrgName': {'coordinates': {'x1': 503.6505126953125, 'y1': 1920.6611328125, 'x2': 1032.6375732421875, 'y2': 2189.0}, 'text': [{'value': '[BLANK]'}]}, '32_AmbToFacProvNPIId': {'coordinates': {'x1': 503.6505126953125, 'y1': 1920.6611328125, 'x2': 1032.6375732421875, 'y2': 2189.0}, 'text': [{'value': '[BLANK]'}]}, '32_AmbToFacProvFullName': {'coordinates': {'x1': 503.6505126953125, 'y1': 1920.6611328125, 'x2': 1032.6375732421875, 'y2': 2189.0}, 'text': [{'value': '[BLANK]'}]}, '32_AmbToFacProvCity': {'coordinates': {'x1': 503.6505126953125, 'y1': 1920.6611328125, 'x2': 1032.6375732421875, 'y2': 2189.0}, 'text': [{'value': '[BLANK]'}]}, '32_AmbToFacProvAddr1': {'coordinates': {'x1': 503.6505126953125, 'y1': 1920.6611328125, 'x2': 1032.6375732421875, 'y2': 2189.0}, 'text': [{'value': '[BLANK]'}]}, '31_RenProvTaxonomyCode': {'coordinates': {'x1': 46.324363708496094, 'y1': 1909.670654296875, 'x2': 489.2355041503906, 'y2': 2070.936279296875}, 'text': [{'value': '[BLANK]'}]}, '31_RenProvOrgName': {'coordinates': {'x1': 46.324363708496094, 'y1': 1909.670654296875, 'x2': 489.2355041503906, 'y2': 2070.936279296875}, 'text': [{'value': '[BLANK]'}]}, '31_RenDateSigned': {'coordinates': {'x1': 46.324363708496094, 'y1': 1909.670654296875, 'x2': 489.2355041503906, 'y2': 2070.936279296875}, 'text': [{'value': '08242023'}]}, '31_PrnRenProvFullName': {'coordinates': {'x1': 46.324363708496094, 'y1': 1909.670654296875, 'x2': 489.2355041503906, 'y2': 2070.936279296875}, 'text': [{'value': 'JULIE WILLIAMS'}]}, '30_BalanceDue': {'coordinates': {'x1': 1022.4675903320312, 'y1': 1878.14990234375, 'x2': 1700.7696533203125, 'y2': 1905.8111572265625}, 'text': [{'value': '[BLANK]'}]}, '2_PatFullName': {'coordinates': {'x1': 55.17534255981445, 'y1': 351.27032470703125, 'x2': 360.0440979003906, 'y2': 374.6470642089844}, 'text': [{'value': 'BROTZMAN, MAIYA'}]}, '29_AmountPaid': {'coordinates': {'x1': 1022.4675903320312, 'y1': 1878.14990234375, 'x2': 1700.7696533203125, 'y2': 1905.8111572265625}, 'text': [{'value': '[BLANK]'}]}, '28_TotalCharges': {'coordinates': {'x1': 1022.4675903320312, 'y1': 1878.14990234375, 'x2': 1700.7696533203125, 'y2': 1905.8111572265625}, 'text': [{'value': '25300'}]}, '27_AcceptAssignmentY': {'coordinates': {'x1': 793.7567749023438, 'y1': 1879.7857666015625, 'x2': 970.3443603515625, 'y2': 1906.215087890625}, 'text': [{'value': 'X'}]}, '27_AcceptAssignmentN': {'coordinates': {'x1': 793.7567749023438, 'y1': 1879.7857666015625, 'x2': 970.3443603515625, 'y2': 1906.215087890625}, 'text': [{'value': '[BLANK]'}]}, '26_PatAcctNo': {'coordinates': {'x1': 500.5848083496094, 'y1': 1880.7337646484375, 'x2': 787.5919189453125, 'y2': 1902.0032958984375}, 'text': [{'value': '19661476A'}]}, '25_BillProvSSN': {'coordinates': {'x1': 50.27544021606445, 'y1': 1879.23779296875, 'x2': 432.5963134765625, 'y2': 1905.4794921875}, 'text': [{'value': '[BLANK]'}]}, '25_BillProvFedIdCode': {'coordinates': {'x1': 50.27544021606445, 'y1': 1879.23779296875, 'x2': 432.5963134765625, 'y2': 1905.4794921875}, 'text': [{'value': '471228605'}]}, '25_BillProvEIN': {'coordinates': {'x1': 50.27544021606445, 'y1': 1879.23779296875, 'x2': 432.5963134765625, 'y2': 1905.4794921875}, 'text': [{'value': 'X'}]}, '24_ProcDesc': {'coordinates': {'x1': 0.0, 'y1': 1435.0740966796875, 'x2': 1753.0001220703125, 'y2': 1879.1309814453125}, 'text': [{'value': '[BLANK]'}]}, '24_NDCUnitsQual': {'coordinates': {'x1': 0.0, 'y1': 1435.0740966796875, 'x2': 1753.0001220703125, 'y2': 1879.1309814453125}, 'text': [{'value': '[BLANK]'}]}, '24_NDCUnits': {'coordinates': {'x1': 0.0, 'y1': 1435.0740966796875, 'x2': 1753.0001220703125, 'y2': 1879.1309814453125}, 'text': [{'value': '[BLANK]'}]}, '24_NDCQualifier': {'coordinates': {'x1': 0.0, 'y1': 1435.0740966796875, 'x2': 1753.0001220703125, 'y2': 1879.1309814453125}, 'text': [{'value': '[BLANK]'}]}, '24_NDCCharges': {'coordinates': {'x1': 0.0, 'y1': 1435.0740966796875, 'x2': 1753.0001220703125, 'y2': 1879.1309814453125}, 'text': [{'value': '[BLANK]'}]}, '24_NDC': {'coordinates': {'x1': 0.0, 'y1': 1435.0740966796875, 'x2': 1753.0001220703125, 'y2': 1879.1309814453125}, 'text': [{'value': '[BLANK]'}]}, '24_MedicaidPaidAmount': {'coordinates': {'x1': 0.0, 'y1': 1435.0740966796875, 'x2': 1753.0001220703125, 'y2': 1879.1309814453125}, 'text': [{'value': '[BLANK]'}]}, '24_HCT': {'coordinates': {'x1': 0.0, 'y1': 1435.0740966796875, 'x2': 1753.0001220703125, 'y2': 1879.1309814453125}, 'text': [{'value': '[BLANK]'}]}, '24_ClmTaxAmount': {'coordinates': {'x1': 0.0, 'y1': 1435.0740966796875, 'x2': 1753.0001220703125, 'y2': 1879.1309814453125}, 'text': [{'value': '[BLANK]'}]}, '24_ClmNYSurChargeAmount': {'coordinates': {'x1': 0.0, 'y1': 1435.0740966796875, 'x2': 1753.0001220703125, 'y2': 1879.1309814453125}, 'text': [{'value': '[BLANK]'}]}, '24_ClmDiscountAmount': {'coordinates': {'x1': 0.0, 'y1': 1435.0740966796875, 'x2': 1753.0001220703125, 'y2': 1879.1309814453125}, 'text': [{'value': '[BLANK]'}]}, '24_AnesUnits': {'coordinates': {'x1': 0.0, 'y1': 1435.0740966796875, 'x2': 1753.0001220703125, 'y2': 1879.1309814453125}, 'text': [{'value': '[BLANK]'}]}, '24_AnesTotalTime': {'coordinates': {'x1': 0.0, 'y1': 1435.0740966796875, 'x2': 1753.0001220703125, 'y2': 1879.1309814453125}, 'text': [{'value': '[BLANK]'}]}, '24_AnesTotalMin': {'coordinates': {'x1': 0.0, 'y1': 1435.0740966796875, 'x2': 1753.0001220703125, 'y2': 1879.1309814453125}, 'text': [{'value': '[BLANK]'}]}, '24_AnesStartTime': {'coordinates': {'x1': 0.0, 'y1': 1435.0740966796875, 'x2': 1753.0001220703125, 'y2': 1879.1309814453125}, 'text': [{'value': '[BLANK]'}]}, '24_AnesMod': {'coordinates': {'x1': 0.0, 'y1': 1435.0740966796875, 'x2': 1753.0001220703125, 'y2': 1879.1309814453125}, 'text': [{'value': '[BLANK]'}]}, '24_AnesEndTime': {'coordinates': {'x1': 0.0, 'y1': 1435.0740966796875, 'x2': 1753.0001220703125, 'y2': 1879.1309814453125}, 'text': [{'value': '[BLANK]'}]}, '24J_RenProvOtherIdQual': {'coordinates': {'x1': 0.0, 'y1': 1435.0740966796875, 'x2': 1753.0001220703125, 'y2': 1879.1309814453125}, 'text': [{'value': 'EI'}]}, '24J_RenProvOtherId': {'coordinates': {'x1': 0.0, 'y1': 1435.0740966796875, 'x2': 1753.0001220703125, 'y2': 1879.1309814453125}, 'text': [{'value': '471228605'}]}, '24J_RenProvNPIId': {'coordinates': {'x1': 0.0, 'y1': 1435.0740966796875, 'x2': 1753.0001220703125, 'y2': 1879.1309814453125}, 'text': [{'value': '1215312475'}]}, '24J_RenProvFullName': {'coordinates': {'x1': 0.0, 'y1': 1435.0740966796875, 'x2': 1753.0001220703125, 'y2': 1879.1309814453125}, 'text': [{'value': '[BLANK]'}]}, '24H_EPSDT': {'coordinates': {'x1': 0.0, 'y1': 1435.0740966796875, 'x2': 1753.0001220703125, 'y2': 1879.1309814453125}, 'text': [{'value': '[BLANK]'}]}, '24G_Units': {'coordinates': {'x1': 0.0, 'y1': 1435.0740966796875, 'x2': 1753.0001220703125, 'y2': 1879.1309814453125}, 'text': [{'value': '1'}]}, '24F_LineCharges': {'coordinates': {'x1': 0.0, 'y1': 1435.0740966796875, 'x2': 1753.0001220703125, 'y2': 1879.1309814453125}, 'text': [{'value': '25300'}]}, '24E_DiagPtr': {'coordinates': {'x1': 0.0, 'y1': 1435.0740966796875, 'x2': 1753.0001220703125, 'y2': 1879.1309814453125}, 'text': [{'value': 'AB'}]}, '24D_ProcCode': {'coordinates': {'x1': 0.0, 'y1': 1435.0740966796875, 'x2': 1753.0001220703125, 'y2': 1879.1309814453125}, 'text': [{'value': '99214'}]}, '24D_Modifier': {'coordinates': {'x1': 0.0, 'y1': 1435.0740966796875, 'x2': 1753.0001220703125, 'y2': 1879.1309814453125}, 'text': [{'value': '[BLANK]'}]}, '24C_EMG': {'coordinates': {'x1': 0.0, 'y1': 1435.0740966796875, 'x2': 1753.0001220703125, 'y2': 1879.1309814453125}, 'text': [{'value': '[BLANK]'}]}, '24B_POS': {'coordinates': {'x1': 0.0, 'y1': 1435.0740966796875, 'x2': 1753.0001220703125, 'y2': 1879.1309814453125}, 'text': [{'value': '11'}]}, '24A_ToDate': {'coordinates': {'x1': 0.0, 'y1': 1435.0740966796875, 'x2': 1753.0001220703125, 'y2': 1879.1309814453125}, 'text': [{'value': '[BLANK]'}]}, '24A_FromDate': {'coordinates': {'x1': 0.0, 'y1': 1435.0740966796875, 'x2': 1753.0001220703125, 'y2': 1879.1309814453125}, 'text': [{'value': '08082023'}]}, '23_PriorAuthNum': {'coordinates': {'x1': 1033.714111328125, 'y1': 1261.3646240234375, 'x2': 1666.85009765625, 'y2': 1406.2314453125}, 'text': [{'value': '[BLANK]'}]}, '22_MedicaidRefNum': {'coordinates': {'x1': 1033.714111328125, 'y1': 1261.3646240234375, 'x2': 1666.85009765625, 'y2': 1406.2314453125}, 'text': [{'value': '[BLANK]'}]}, '22_MedicaidCode': {'coordinates': {'x1': 1033.714111328125, 'y1': 1261.3646240234375, 'x2': 1666.85009765625, 'y2': 1406.2314453125}, 'text': [{'value': '[BLANK]'}]}, '21_ICDInd': {'coordinates': {'x1': 82.76195526123047, 'y1': 1243.934814453125, 'x2': 961.9183959960938, 'y2': 1300.8707275390625}, 'text': [{'value': '0'}]}, '20_OSLabY': {'coordinates': {'x1': 1033.714111328125, 'y1': 1261.3646240234375, 'x2': 1666.85009765625, 'y2': 1406.2314453125}, 'text': [{'value': '[BLANK]'}]}, '20_OSLabN': {'coordinates': {'x1': 1033.714111328125, 'y1': 1261.3646240234375, 'x2': 1666.85009765625, 'y2': 1406.2314453125}, 'text': [{'value': '[BLANK]'}]}, '20_OSLabCharges': {'coordinates': {'x1': 1033.714111328125, 'y1': 1261.3646240234375, 'x2': 1666.85009765625, 'y2': 1406.2314453125}, 'text': [{'value': '[BLANK]'}]}, '1A_PriInsIDNumber': {'coordinates': {'x1': 1031.7359619140625, 'y1': 282.826416015625, 'x2': 1602.7965087890625, 'y2': 305.0795593261719}, 'text': [{'value': '114071519'}]}, '19_LocalUsePrefix': {'coordinates': {'x1': 44.7805290222168, 'y1': 1215.021240234375, 'x2': 1004.6364135742188, 'y2': 1234.0372314453125}, 'text': [{'value': '[BLANK]'}]}, '19_LocalUse': {'coordinates': {'x1': 44.7805290222168, 'y1': 1215.021240234375, 'x2': 1004.6364135742188, 'y2': 1234.0372314453125}, 'text': [{'value': '[BLANK]'}]}, '18_PatHospToDate': {'coordinates': {'x1': 1033.714111328125, 'y1': 1261.3646240234375, 'x2': 1666.85009765625, 'y2': 1406.2314453125}, 'text': [{'value': '[BLANK]'}]}, '18_PatHospFromDate': {'coordinates': {'x1': 1033.714111328125, 'y1': 1261.3646240234375, 'x2': 1666.85009765625, 'y2': 1406.2314453125}, 'text': [{'value': '[BLANK]'}]}, '17_RefProvOrgName': {'coordinates': {'x1': 37.652713775634766, 'y1': 1096.1070556640625, 'x2': 989.6532592773438, 'y2': 1192.772705078125}, 'text': [{'value': '[BLANK]'}]}, '17_RefProvFullNameQual': {'coordinates': {'x1': 37.652713775634766, 'y1': 1096.1070556640625, 'x2': 989.6532592773438, 'y2': 1192.772705078125}, 'text': [{'value': 'DN'}]}, '17_RefProvFullName': {'coordinates': {'x1': 37.652713775634766, 'y1': 1096.1070556640625, 'x2': 989.6532592773438, 'y2': 1192.772705078125}, 'text': [{'value': 'MIMI NGOC NGUYEN'}]}, '17B_RefProvNPI': {'coordinates': {'x1': 37.652713775634766, 'y1': 1096.1070556640625, 'x2': 989.6532592773438, 'y2': 1192.772705078125}, 'text': [{'value': '1063754075'}]}, '17A_RefProvOtherIdQual': {'coordinates': {'x1': 37.652713775634766, 'y1': 1096.1070556640625, 'x2': 989.6532592773438, 'y2': 1192.772705078125}, 'text': [{'value': '[BLANK]'}]}, '17A_RefProvOtherId': {'coordinates': {'x1': 37.652713775634766, 'y1': 1096.1070556640625, 'x2': 989.6532592773438, 'y2': 1192.772705078125}, 'text': [{'value': '[BLANK]'}]}, '16_PatUTWToDate': {'coordinates': {'x1': 1033.714111328125, 'y1': 1261.3646240234375, 'x2': 1666.85009765625, 'y2': 1406.2314453125}, 'text': [{'value': '[BLANK]'}]}, '16_PatUTWFromDate': {'coordinates': {'x1': 1033.714111328125, 'y1': 1261.3646240234375, 'x2': 1666.85009765625, 'y2': 1406.2314453125}, 'text': [{'value': '[BLANK]'}]}, '15_PatFirstDateOfIllQual': {'coordinates': {'x1': 638.7926025390625, 'y1': 1061.9583740234375, 'x2': 1020.7431030273438, 'y2': 1095.3843994140625}, 'text': [{'value': '[BLANK]'}]}, '15_PatFirstDateOfIll': {'coordinates': {'x1': 638.7926025390625, 'y1': 1061.9583740234375, 'x2': 1020.7431030273438, 'y2': 1095.3843994140625}, 'text': [{'value': '[BLANK]'}]}, '14_PatCurrentDateQual': {'coordinates': {'x1': 48.367408752441406, 'y1': 1054.441162109375, 'x2': 382.8655700683594, 'y2': 1098.2845458984375}, 'text': [{'value': '[BLANK]'}]}, '14_PatCurrentDate': {'coordinates': {'x1': 48.367408752441406, 'y1': 1054.441162109375, 'x2': 382.8655700683594, 'y2': 1098.2845458984375}, 'text': [{'value': '[BLANK]'}]}, '13_PriSignonFileList': {'coordinates': {'x1': 1046.915283203125, 'y1': 1006.2809448242188, 'x2': 1671.48876953125, 'y2': 1027.9466552734375}, 'text': [{'value': 'SIGNATURE ON FILE'}]}, '12_PatSignonFile': {'coordinates': {'x1': 9.44217586517334, 'y1': 1005.9044189453125, 'x2': 597.1504516601562, 'y2': 1032.4830322265625}, 'text': [{'value': 'SIGNATURE ON FILE'}]}, '11_PriInsPolGrpNumber': {'coordinates': {'x1': 1013.0830688476562, 'y1': 588.7002563476562, 'x2': 1698.552001953125, 'y2': 941.380859375}, 'text': [{'value': '[BLANK]'}]}, '11D_PriInsOtherPlanY': {'coordinates': {'x1': 1013.0830688476562, 'y1': 588.7002563476562, 'x2': 1698.552001953125, 'y2': 941.380859375}, 'text': [{'value': '[BLANK]'}]}, '11D_PriInsOtherPlanN': {'coordinates': {'x1': 1013.0830688476562, 'y1': 588.7002563476562, 'x2': 1698.552001953125, 'y2': 941.380859375}, 'text': [{'value': '[BLANK]'}]}, '11C_PriInsPlanName': {'coordinates': {'x1': 1013.0830688476562, 'y1': 588.7002563476562, 'x2': 1698.552001953125, 'y2': 941.380859375}, 'text': [{'value': 'UHC WASH PROF CAPITATION'}]}, '11B_PriInsEmpName': {'coordinates': {'x1': 1013.0830688476562, 'y1': 588.7002563476562, 'x2': 1698.552001953125, 'y2': 941.380859375}, 'text': [{'value': '[BLANK]'}]}, '11B_OtherClaimIdCodeQual': {'coordinates': {'x1': 1013.0830688476562, 'y1': 588.7002563476562, 'x2': 1698.552001953125, 'y2': 941.380859375}, 'text': [{'value': '[BLANK]'}]}, '11B_OtherClaimIdCode': {'coordinates': {'x1': 1013.0830688476562, 'y1': 588.7002563476562, 'x2': 1698.552001953125, 'y2': 941.380859375}, 'text': [{'value': '[BLANK]'}]}, '11A_PriInsSexM': {'coordinates': {'x1': 1013.0830688476562, 'y1': 588.7002563476562, 'x2': 1698.552001953125, 'y2': 941.380859375}, 'text': [{'value': '[BLANK]'}]}, '11A_PriInsSexF': {'coordinates': {'x1': 1013.0830688476562, 'y1': 588.7002563476562, 'x2': 1698.552001953125, 'y2': 941.380859375}, 'text': [{'value': 'X'}]}, '11A_PriInsDOB': {'coordinates': {'x1': 1013.0830688476562, 'y1': 588.7002563476562, 'x2': 1698.552001953125, 'y2': 941.380859375}, 'text': [{'value': '01011957'}]}, '10D_ClaimCodes': {'coordinates': {'x1': 660.2395629882812, 'y1': 674.7356567382812, 'x2': 922.9180297851562, 'y2': 928.2763671875}, 'text': [{'value': '[BLANK]'}]}, '10C_PatConditionOtherY': {'coordinates': {'x1': 660.2395629882812, 'y1': 674.7356567382812, 'x2': 922.9180297851562, 'y2': 928.2763671875}, 'text': [{'value': '[BLANK]'}]}, '10C_PatConditionOtherN': {'coordinates': {'x1': 660.2395629882812, 'y1': 674.7356567382812, 'x2': 922.9180297851562, 'y2': 928.2763671875}, 'text': [{'value': 'X'}]}, '10B_PatConditionAutoY': {'coordinates': {'x1': 660.2395629882812, 'y1': 674.7356567382812, 'x2': 922.9180297851562, 'y2': 928.2763671875}, 'text': [{'value': '[BLANK]'}]}, '10B_PatConditionAutoN': {'coordinates': {'x1': 660.2395629882812, 'y1': 674.7356567382812, 'x2': 922.9180297851562, 'y2': 928.2763671875}, 'text': [{'value': 'X'}]}, '10B_PatAAState': {'coordinates': {'x1': 660.2395629882812, 'y1': 674.7356567382812, 'x2': 922.9180297851562, 'y2': 928.2763671875}, 'text': [{'value': '[BLANK]'}]}, '10A_PatConditionEmpY': {'coordinates': {'x1': 660.2395629882812, 'y1': 674.7356567382812, 'x2': 922.9180297851562, 'y2': 928.2763671875}, 'text': [{'value': '[BLANK]'}]}, '10A_PatConditionEmpN': {'coordinates': {'x1': 660.2395629882812, 'y1': 674.7356567382812, 'x2': 922.9180297851562, 'y2': 928.2763671875}, 'text': [{'value': 'X'}]}, '21_DiagDescription': {'coordinates': {'x1': 82.76195526123047, 'y1': 1243.934814453125, 'x2': 961.9183959960938, 'y2': 1300.8707275390625}, 'text': [{'value': '[BLANK] '}, {'value': ' [BLANK]'}]}, '21_DiagCode': {'coordinates': {'x1': 82.76195526123047, 'y1': 1243.934814453125, 'x2': 961.9183959960938, 'y2': 1300.8707275390625}, 'text': [{'value': 'F4310'}, {'value': ' G4700'}]}}}"
   ]
  },
  {
   "cell_type": "code",
   "execution_count": 55,
   "id": "222d81aa-abed-46a2-af50-9ec8609945cf",
   "metadata": {},
   "outputs": [
    {
     "data": {
      "text/plain": [
       "157"
      ]
     },
     "execution_count": 55,
     "metadata": {},
     "output_type": "execute_result"
    }
   ],
   "source": [
    "len(response['result'].keys())"
   ]
  },
  {
   "cell_type": "code",
   "execution_count": 49,
   "id": "a13785ed-4d23-4964-b1bd-ddc27beaa5c1",
   "metadata": {},
   "outputs": [],
   "source": [
    "group_key_mapping_dict = {'1_class': ['1A_PriInsIDNumber'],\n",
    " '2_class': ['2_PatFullName'],\n",
    " '3_class': ['3_PatDOB', '3_PatSexM', '3_PatSexF'],\n",
    " '5_class': ['5_PatAddr1',\n",
    "  '5_PatCity',\n",
    "  '5_PatState',\n",
    "  '5_PatPostCode',\n",
    "  '5_PatPhoneNumber'],\n",
    " '4_class': ['4_PriInsFullName'],\n",
    " '7_class': ['7_PriInsAddr1',\n",
    "  '7_PriInsCity',\n",
    "  '7_PriInsState',\n",
    "  '7_PriInsPostCode',\n",
    "  '7_PriInsPhoneNumber'],\n",
    " '9_class': ['9_SecInsFullName',\n",
    "  '9A_SecInsPolGrpNumber',\n",
    "  '9B_SecInsDOB',\n",
    "  '9D_SecInsPlanName',\n",
    "  '9B_SecInsSexM',\n",
    "  '9B_SecInsSexF'],\n",
    " '10_class': ['10D_ClaimCodes',\n",
    "  '10A_PatConditionEmpN',\n",
    "  '10A_PatConditionEmpY',\n",
    "  '10B_PatConditionAutoN',\n",
    "  '10B_PatConditionAutoY',\n",
    "  '10C_PatConditionOtherN',\n",
    "  '10C_PatConditionOtherY',\n",
    "    '10B_PatAAState'],\n",
    " '11_class': ['11_PriInsPolGrpNumber',\n",
    "  '11A_PriInsDOB',\n",
    "  '11B_OtherClaimIdCodeQual',\n",
    "  '11C_PriInsPlanName',\n",
    "  '11D_PriInsOtherPlanN',\n",
    "  '11D_PriInsOtherPlanY',\n",
    "   '11A_PriInsSexF',\n",
    "    '11A_PriInsSexM',\n",
    " '11B_OtherClaimIdCode',\n",
    " '11B_PriInsEmpName'],\n",
    " '12_class': ['12_PatSignonFile'],\n",
    " '13_class': ['13_PriSignonFileList'],\n",
    " '14_class': ['14_PatCurrentDate', '14_PatCurrentDateQual'],\n",
    " '15_class': ['15_PatFirstDateOfIllQual', '15_PatFirstDateOfIll'],\n",
    " '17_class': ['17A_RefProvOtherIdQual',\n",
    "  '17A_RefProvOtherId',\n",
    "  '17B_RefProvNPI',\n",
    "  '17_RefProvOrgName',\n",
    "  '17_RefProvFullName',\n",
    "  '17_RefProvFullNameQual'],\n",
    " '21_class': ['21_ICDInd', '21_DiagCode', '21_DiagDescription'],\n",
    " '22_class': ['22_MedicaidCode', '22_MedicaidRefNum'],\n",
    " '23_class': ['23_PriorAuthNum', '16_PatUTWFromDate',\n",
    " '16_PatUTWToDate', '18_PatHospFromDate',\n",
    " '18_PatHospToDate', '20_OSLabCharges',\n",
    " '20_OSLabN',\n",
    " '20_OSLabY',],\n",
    " '24_class': ['24A_FromDate',\n",
    "  '24A_ToDate',\n",
    "  '24B_POS',\n",
    "  '24C_EMG',\n",
    "  '24D_ProcCode',\n",
    "  '24_ProcDesc',\n",
    "  '24D_Modifier',\n",
    "  '24E_DiagPtr',\n",
    "  '24F_LineCharges',\n",
    "  '24G_Units',\n",
    "  '24H_EPSDT',\n",
    "  '24H_EPSDT1',\n",
    "  '24J_RenProvNPIId',\n",
    "  '24_ClmDiscountAmount',\n",
    "  '24_MedicaidPaidAmount', '24J_RenProvFullName',\n",
    "    '24J_RenProvOtherId',\n",
    "     '24J_RenProvOtherIdQual','24_AnesEndTime','24_AnesMod','24_AnesStartTime',\n",
    "     '24_AnesTotalMin',\n",
    "     '24_AnesTotalTime',\n",
    "     '24_AnesUnits',\n",
    "     '24_ClmNYSurChargeAmount',\n",
    "     '24_ClmTaxAmount',\n",
    "     '24_HCT',\n",
    "     '24_NDC',\n",
    "     '24_NDCCharges',\n",
    "     '24_NDCQualifier',\n",
    "     '24_NDCUnits',\n",
    "     '24_NDCUnitsQual',\n",
    "],\n",
    " '25_class': ['25_BillProvFedIdCode', '25_BillProvSSN', '25_BillProvEIN'],\n",
    " '26_class': ['26_PatAcctNo'],\n",
    " '28_class': ['28_TotalCharges', '29_AmountPaid', '30_BalanceDue'],\n",
    " '31_class': ['31_PrnRenProvFullName', '31_RenProvOrgName', '31_RenDateSigned',\n",
    " '31_RenProvTaxonomyCode'],\n",
    " '32_class': ['32_FacProvOrgName',\n",
    "  '32_FacProvAddr1',\n",
    "  '32_FacProvCity',\n",
    "  '32_FacProvState',\n",
    "  '32_FacProvPostCode',\n",
    "  '32_FacProvNPIId',\n",
    "  '32_FacProvOtherIdFull',\n",
    "  '32_FacProvOtherId', '32_AmbToFacProvAddr1',\n",
    " '32_AmbToFacProvCity',\n",
    " '32_AmbToFacProvFullName',\n",
    " '32_AmbToFacProvNPIId',\n",
    " '32_AmbToFacProvOrgName',\n",
    " '32_AmbToFacProvOtherIdFull',\n",
    " '32_AmbToFacProvPostCode',\n",
    " '32_AmbToFacProvPostCodeExt',\n",
    " '32_AmbToFacProvState',\n",
    " '32_FacProvFullName',\n",
    " '32_MedicaidTaxId',],\n",
    " '33_class': ['33_BillProvOrgName',\n",
    "  '33_BillProvFullName',\n",
    "  '33_BillProvAddr1',\n",
    "  '33_BillProvCity',\n",
    "  '33_BillProvState',\n",
    "  '33_BillProvPostCode',\n",
    "  '33_BillProvPhone',\n",
    "  '33_BillProvNPIId',\n",
    "  '33_BillProvOtherIdFull','33_MediBillProvAddr1',\n",
    " '33_MediBillProvCity',\n",
    " '33_MediBillProvNPIId',\n",
    " '33_MediBillProvOrgName',\n",
    " '33_MediBillProvOtherIdFull',\n",
    " '33_MediBillProvPhone',\n",
    " '33_MediBillProvPostCode',\n",
    " '33_MediBillProvState',\n",
    " '33_MedicaidTaxId'],\n",
    " '6_class': ['6_PatRelShipSelf', '6_PatRelShipSpouse', '6_PatRelShipChild', '6_PatRelShipOther'],\n",
    " '8_class': ['8_PatStatusSingle',\n",
    "  '8_PatStatusMarried',\n",
    "  '8_PatStatusOther',\n",
    "  '8_PatEmpStatusCode',\n",
    "  '8_PatStudentStatusCodeFT',\n",
    "  '8_PatStudentStatusCodePT'],\n",
    " '27_class': ['27_AcceptAssignmentN', '27_AcceptAssignmentY'],\n",
    " '19_class': ['19_LocalUse', '19_LocalUsePrefix']}\n",
    "\n",
    "mapping_overlaps = {'8_PatStatus': ['8_PatStudent'],\n",
    "  '19_LocalUse': ['19_LocalUse'],\n",
    "  'Box19A_QQ': ['Box19A_QQ', 'Box19A_NPI',\n",
    "  'Box19A_Provider',\n",
    "  '19A_ProvFullNameQual',\n",
    "  '19A_ProvLName',\n",
    "  '19A_ProvFName',\n",
    "  '19A_ProvMI',\n",
    "  '19A_ProvSuffix',\n",
    "  '19A_ProvPrefix',\n",
    "  '19A_ProvCredential',\n",
    "  'Box19B_NPI',\n",
    "  'Box19B_Provider',\n",
    "  '19B_ProvFullNameQual',\n",
    "  '19B_ProvLName',\n",
    "  '19B_ProvFName',\n",
    "  '19B_ProvMI',\n",
    "  '19B_ProvSuffix',\n",
    "  '19B_ProvPrefix',\n",
    "  '19B_ProvCredential'],\n",
    " '14_PatCurrentDate': ['14_PatCurrentDateQual'],\n",
    " '31_RenProvOrgName': ['31_RenProvTaxonomyCode'],\n",
    " '17_RefProvOrgName': ['17_RefProvFullName'],\n",
    " '9_SecInsFullName': ['9_SecInsLName',\n",
    "  '9_SecInsFName',\n",
    "  '9_SecInsMI',\n",
    "  '9_SecInsSuffix',\n",
    "  '9_SecInsPrefix'],\n",
    " '24_ClmDiscountAmount': ['24_ClmTaxAmount', '24_ClmNYSurChargeAmount'],\n",
    " '24H_EPSDT1': ['24_NDC', '24_NDCUnitsQual', '24_NDCUnits', 'MissApp'],\n",
    " '21_DiagCode': ['21_DiagDescription'],\n",
    " '32_FacProvOrgName': ['32_FacProvLName',\n",
    "  '32_FacProvFName',\n",
    "  '32_FacProvMI',\n",
    "  '32_FacProvSuffix',\n",
    "  '32_FacProvPrefix',\n",
    "  '32_FacProvCredential'],\n",
    " '32_FacProvOtherId': ['32_AmbToFacProvOrgName',\n",
    "  '32_AmbToFacProvLName',\n",
    "  '32_AmbToFacProvFName',\n",
    "  '32_AmbToFacProvMI',\n",
    "  '32_AmbToFacProvSuffix',\n",
    "  '32_AmbToFacProvPrefix',\n",
    "  '32_AmbToFacProvCredential',\n",
    "  '32_AmbToFacProvAddr1',\n",
    "  '32_AmbToFacProvAddr2',\n",
    "  '32_AmbToFacProvCity',\n",
    "  '32_AmbToFacProvState',\n",
    "  '32_AmbToFacProvPostCode',\n",
    "  '32_AmbToFacProvPostCode5',\n",
    "  '32_AmbToFacProvPostCodeExt',\n",
    "  '32_AmbToFacProvFullPost',\n",
    "  '32_AmbToFacProvNPIId',\n",
    "  '32_AmbToFacProvOtherIdFull',\n",
    "  '32_AmbToFacProvOtherId',\n",
    "  '32_AmbToFacProvAddr1',\n",
    " '32_AmbToFacProvCity',\n",
    " '32_AmbToFacProvFullName',\n",
    " '32_AmbToFacProvNPIId',\n",
    " '32_AmbToFacProvOrgName',\n",
    " '32_AmbToFacProvOtherIdFull',\n",
    " '32_AmbToFacProvPostCode',\n",
    " '32_AmbToFacProvPostCodeExt',\n",
    " '32_AmbToFacProvState',\n",
    " '32_FacProvFullName',\n",
    " '32_MedicaidTaxId',],\n",
    " '6_PatRelShipSpouse': ['6_PatRelShipOther'],\n",
    " '28_TotalCharges': ['29_AmountPaid', '30_BalanceDue'],\n",
    " '11B_OtherClaimIdCodeQual': ['11B_OtherClaimIdCode'],\n",
    " '33_BillProvFullName': ['33_MediBillProvOrgName',\n",
    "  '33_MediBillProvLName',\n",
    "  '33_MediBillProvFName',\n",
    "  '33_MediBillProvMI',\n",
    "  '33_MediBillProvSuffix',\n",
    "  '33_MediBillProvPrefix',\n",
    "  '33_MediBillProvCredential',\n",
    "  '33_MediBillProvAddr1',\n",
    "  '33_MediBillProvAddr2',\n",
    "  '33_MediBillProvCity',\n",
    "  '33_MediBillProvState',\n",
    "  '33_MediBillProvPostCode',\n",
    "  '33_MediBillProvPostCode5',\n",
    "  '33_MediBillProvPostCodeExt',\n",
    "  '33_MediBillProvFullPost',\n",
    "  '33_MediBillProvPhone',\n",
    "  '33_MediBillProvNPIId',\n",
    "  '33_MediBillProvOtherIdFull',\n",
    "  '33_MediBillProvOtherId',\n",
    "  '33_MedicaidTaxId',\n",
    "   '33_MediBillProvAddr1',\n",
    " '33_MediBillProvCity',\n",
    " '33_MediBillProvNPIId',\n",
    " '33_MediBillProvOrgName',\n",
    " '33_MediBillProvOtherIdFull',\n",
    " '33_MediBillProvPhone',\n",
    " '33_MediBillProvPostCode',\n",
    " '33_MediBillProvState',\n",
    " '33_MedicaidTaxId'],\n",
    " '24H_EPSDT': ['24J_RenProvOtherId'],\n",
    " '24_ProcDesc': ['24_HCT']\n",
    "}"
   ]
  },
  {
   "cell_type": "code",
   "execution_count": 50,
   "id": "3744a58c-e07b-4ca2-b780-b6e394f63442",
   "metadata": {},
   "outputs": [],
   "source": [
    "dict_values = list(itertools.chain(*[v if isinstance(v, list) else [v] for v in group_key_mapping_dict.values()]))"
   ]
  },
  {
   "cell_type": "code",
   "execution_count": 51,
   "id": "ff226b53-1e39-472d-84f1-a6ced6d6c8dd",
   "metadata": {},
   "outputs": [
    {
     "data": {
      "text/plain": [
       "set()"
      ]
     },
     "execution_count": 51,
     "metadata": {},
     "output_type": "execute_result"
    }
   ],
   "source": [
    "set(merged_df['Field_Name'].unique()) - set(dict_values)"
   ]
  },
  {
   "cell_type": "code",
   "execution_count": null,
   "id": "1dd24d23-5acb-4a9b-9b7b-87d0fee17101",
   "metadata": {},
   "outputs": [],
   "source": []
  },
  {
   "cell_type": "code",
   "execution_count": null,
   "id": "5ca3b9cb-749f-4948-b22f-e795a1e32390",
   "metadata": {},
   "outputs": [],
   "source": []
  },
  {
   "cell_type": "code",
   "execution_count": null,
   "id": "a7584679-24e7-43b6-834e-c3a930efcf52",
   "metadata": {},
   "outputs": [],
   "source": []
  },
  {
   "cell_type": "code",
   "execution_count": null,
   "id": "d1d86581-8ae7-459a-b42d-3c6617f61c78",
   "metadata": {},
   "outputs": [],
   "source": []
  }
 ],
 "metadata": {
  "kernelspec": {
   "display_name": "Python 3 (ipykernel)",
   "language": "python",
   "name": "python3"
  },
  "language_info": {
   "codemirror_mode": {
    "name": "ipython",
    "version": 3
   },
   "file_extension": ".py",
   "mimetype": "text/x-python",
   "name": "python",
   "nbconvert_exporter": "python",
   "pygments_lexer": "ipython3",
   "version": "3.10.13"
  }
 },
 "nbformat": 4,
 "nbformat_minor": 5
}
