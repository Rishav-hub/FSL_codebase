{
 "cells": [
  {
   "cell_type": "code",
   "execution_count": 41,
   "id": "92b61f23",
   "metadata": {},
   "outputs": [],
   "source": [
    "import os\n",
    "import pandas as pd\n",
    "import shutil\n",
    "import cv2\n",
    "from tqdm import tqdm\n",
    "from OCR_XML_to_DataFrame import OCR_XML_to_DataFrame"
   ]
  },
  {
   "cell_type": "code",
   "execution_count": 42,
   "id": "ea99bd39",
   "metadata": {},
   "outputs": [],
   "source": [
    "key_mappings = pd.read_excel(\"D:/Xelp_work/FSL Project/FSL_Phase_II/Milestone_3/FSL_Forms_Keys.xlsx\")\n",
    "list_columns = key_mappings[\"Key_Name\"].tolist()"
   ]
  },
  {
   "cell_type": "code",
   "execution_count": 43,
   "id": "e9ef9783",
   "metadata": {},
   "outputs": [],
   "source": [
    "def get_missing_tooth_gt(row):\n",
    "    ground_truth = row[\"TRANS_Value\"]\n",
    "    return ground_truth"
   ]
  },
  {
   "cell_type": "code",
   "execution_count": 44,
   "id": "bd293975",
   "metadata": {},
   "outputs": [],
   "source": [
    "def get_qual_code(row):\n",
    "    if (\"?\" not in row[\"OCR_Optimizer\"]) & (row[\"OCR_Optimizer\"] != '[BLANK]'):\n",
    "        ground_truth = row[\"OCR_Optimizer\"]\n",
    "    else:\n",
    "        ground_truth = row[\"Data\"].replace('0', '[BLANK]')\n",
    "    return ground_truth"
   ]
  },
  {
   "cell_type": "code",
   "execution_count": 45,
   "id": "fbe8bc01",
   "metadata": {},
   "outputs": [],
   "source": [
    "def get_org_name(row):\n",
    "    if (\"?\" not in row[\"OCR_Optimizer\"]) & (row[\"OCR_Optimizer\"] != '[BLANK]'):\n",
    "        ground_truth = row[\"OCR_Optimizer\"]\n",
    "    else:\n",
    "        ground_truth = row[\"TRANS_Value\"]\n",
    "    return ground_truth"
   ]
  },
  {
   "cell_type": "code",
   "execution_count": 46,
   "id": "26cd405f",
   "metadata": {},
   "outputs": [],
   "source": [
    "def get_post_code(row):\n",
    "    if (\"?\" not in row[\"OCR_Optimizer\"]) & (row[\"OCR_Optimizer\"] != '[BLANK]'):\n",
    "        ground_truth = row[\"OCR_Optimizer\"]\n",
    "    else:\n",
    "        if row[\"TRANS_Value\"][-4:] == '0000':\n",
    "            ground_truth = row[\"TRANS_Value\"][:-4]\n",
    "        else:\n",
    "            ground_truth = row[\"TRANS_Value\"]\n",
    "    return ground_truth"
   ]
  },
  {
   "cell_type": "code",
   "execution_count": 47,
   "id": "84140188",
   "metadata": {},
   "outputs": [],
   "source": [
    "def get_charges(row):\n",
    "    ground_truth = row[\"TRANS_Value\"]\n",
    "    return ground_truth"
   ]
  },
  {
   "cell_type": "code",
   "execution_count": 48,
   "id": "fd437095",
   "metadata": {},
   "outputs": [],
   "source": [
    "def get_relationship_code(row):\n",
    "    if (\"?\" not in row[\"OCR_Optimizer\"]) & (row[\"OCR_Optimizer\"] != '[BLANK]'):\n",
    "        ground_truth = row[\"OCR_Optimizer\"]\n",
    "    else:\n",
    "        if str(row[\"Data\"]).strip() in ['01', '18', '19', '21', 'X']:\n",
    "            ground_truth = 'X'\n",
    "        else:\n",
    "            ground_truth = '[BLANK]'\n",
    "    return ground_truth"
   ]
  },
  {
   "cell_type": "code",
   "execution_count": 49,
   "id": "114d124c",
   "metadata": {},
   "outputs": [],
   "source": [
    "def get_Inssex_code(row):\n",
    "    if row[\"OCR_Optimizer\"] == 'X':\n",
    "        ground_truth = row[\"OCR_Optimizer\"]\n",
    "    elif row[\"OCR_Optimizer\"] == '[BLANK]':\n",
    "        ground_truth = row[\"TRANS_Value\"]\n",
    "    else:\n",
    "        ground_truth = row[\"TRANS_Value\"]\n",
    "    return ground_truth"
   ]
  },
  {
   "cell_type": "code",
   "execution_count": 50,
   "id": "3e532e23",
   "metadata": {},
   "outputs": [],
   "source": [
    "def get_TransTypeStmt_code(row):\n",
    "    if row[\"OCR_Optimizer\"] == 'X':\n",
    "        ground_truth = row[\"OCR_Optimizer\"]\n",
    "    elif row[\"OCR_Optimizer\"] == '[BLANK]':\n",
    "        if row[\"Data\"] ==  'Y':\n",
    "            ground_truth =  'X'\n",
    "        else:\n",
    "            ground_truth = '[BLANK]'\n",
    "    elif \"?\" in row[\"OCR_Optimizer\"]:\n",
    "        if row[\"Data\"] ==  'Y':\n",
    "            ground_truth =  'X'\n",
    "    else:\n",
    "        ground_truth = '[BLANK]'\n",
    "        \n",
    "    return ground_truth"
   ]
  },
  {
   "cell_type": "code",
   "execution_count": 51,
   "id": "2e3dc634",
   "metadata": {},
   "outputs": [],
   "source": [
    "def get_TransTypeReqforPreAuth_code(row):\n",
    "    if row[\"OCR_Optimizer\"] == 'X':\n",
    "        ground_truth = row[\"OCR_Optimizer\"]\n",
    "    elif row[\"OCR_Optimizer\"] == '[BLANK]':\n",
    "        if row[\"Data\"] ==  'Y':\n",
    "            ground_truth =  'X'\n",
    "        else:\n",
    "            ground_truth = '[BLANK]'\n",
    "    elif \"?\" in row[\"OCR_Optimizer\"]:\n",
    "        if row[\"Data\"] ==  'Y':\n",
    "            ground_truth =  'X'\n",
    "    else:\n",
    "        ground_truth = '[BLANK]'\n",
    "        \n",
    "    return ground_truth"
   ]
  },
  {
   "cell_type": "code",
   "execution_count": 52,
   "id": "a9384671",
   "metadata": {},
   "outputs": [],
   "source": [
    "def get_PatAcctNo(row):\n",
    "    if row[\"Data\"] == '0':\n",
    "        ground_truth = '[BLANK]'\n",
    "    else:\n",
    "        ground_truth = row[\"TRANS_Value\"]\n",
    "    return ground_truth"
   ]
  },
  {
   "cell_type": "code",
   "execution_count": 53,
   "id": "7b1a500d",
   "metadata": {},
   "outputs": [],
   "source": [
    "def get_DiagCodeQual(row):\n",
    "    if row[\"OCR_Optimizer\"] in [\"[BLANK]\", \"A\", \"B\", \"AB\"]:\n",
    "        ground_truth = row[\"OCR_Optimizer\"]\n",
    "    else:\n",
    "        ground_truth = '[BLANK]'\n",
    "    return ground_truth"
   ]
  },
  {
   "cell_type": "code",
   "execution_count": 54,
   "id": "f5f26ceb",
   "metadata": {},
   "outputs": [],
   "source": [
    "def get_Phone_Num(row):\n",
    "    if (\"?\" not in row[\"OCR_Optimizer\"]) & (row[\"OCR_Optimizer\"] != '[BLANK]'):\n",
    "        ground_truth = row[\"OCR_Optimizer\"]\n",
    "    else:\n",
    "        row[\"OCR_Optimizer\"] = row[\"OCR_Optimizer\"].replace(\"?\", \"\")\n",
    "        ground_truth = row[\"OCR_Optimizer\"]\n",
    "    return ground_truth    "
   ]
  },
  {
   "cell_type": "code",
   "execution_count": 55,
   "id": "21c75dbe",
   "metadata": {},
   "outputs": [],
   "source": [
    "def get_Prosthesis(row):\n",
    "    ground_truth = row[\"Data\"]\n",
    "    return ground_truth"
   ]
  },
  {
   "cell_type": "code",
   "execution_count": 56,
   "id": "f15e06dc",
   "metadata": {},
   "outputs": [],
   "source": [
    "def get_ProcDesc(row):\n",
    "    if \"?\" not in row[\"OCR_Optimizer\"]:\n",
    "        if row[\"OCR_Optimizer\"] != \"[BLANK]\":\n",
    "            ground_truth = row[\"OCR_Optimizer\"]\n",
    "        else:\n",
    "            ground_truth = row[\"TRANS_Value\"]\n",
    "    else:\n",
    "        ground_truth = row[\"TRANS_Value\"]\n",
    "    return ground_truth"
   ]
  },
  {
   "cell_type": "code",
   "execution_count": 57,
   "id": "547072f9",
   "metadata": {},
   "outputs": [],
   "source": [
    "def get_ToothSurface(row):\n",
    "    if (\"?\" not in row[\"OCR_Optimizer\"]) & (row[\"OCR_Optimizer\"] != '[BLANK]'):\n",
    "        ground_truth = row[\"OCR_Optimizer\"]\n",
    "    else:\n",
    "        row[\"TRANS_Value\"] = row[\"TRANS_Value\"].replace(\":\", \"\")\n",
    "        ground_truth = row[\"TRANS_Value\"]\n",
    "    return ground_truth                                           "
   ]
  },
  {
   "cell_type": "code",
   "execution_count": 58,
   "id": "ba5666c8",
   "metadata": {},
   "outputs": [],
   "source": [
    "def get_PayerInfo(row):\n",
    "    if \"?\" not in row[\"OCR_Optimizer\"]:\n",
    "        if row[\"OCR_Optimizer\"] != \"[BLANK]\":\n",
    "            ground_truth = row[\"OCR_Optimizer\"]\n",
    "        else:\n",
    "            ground_truth = row[\"TRANS_Value\"]\n",
    "    else:\n",
    "        row[\"OCR_Optimizer\"] = row[\"OCR_Optimizer\"].replace(\"?\", \"\")\n",
    "        ground_truth = row[\"OCR_Optimizer\"]\n",
    "    return ground_truth\n",
    "\n",
    "def get_FacProvData(row):\n",
    "    ground_truth = row[\"TRANS_Value\"]\n",
    "    return ground_truth\n",
    "\n",
    "def get_Orthodontics(row):\n",
    "    ground_truth = row[\"Data\"]\n",
    "    return ground_truth\n",
    "\n",
    "def get_AccountNumber(row):\n",
    "    ground_truth = row[\"TRANS_Value\"]\n",
    "    return ground_truth"
   ]
  },
  {
   "cell_type": "code",
   "execution_count": 59,
   "id": "37dd7fb1",
   "metadata": {},
   "outputs": [],
   "source": [
    "def generate_ground_truth(row):\n",
    "    ground_truth = ''\n",
    "    try:\n",
    "        if row[\"Field_Name\"] == 'DEN_MissingTooth':\n",
    "            ground_truth = get_missing_tooth_gt(row)\n",
    "        elif row[\"Field_Name\"] == 'DEN_DiagCodeQual':\n",
    "            ground_truth = get_qual_code(row)\n",
    "        elif row[\"Field_Name\"] in [\"DEN_FacProvOrgName\"]:\n",
    "            ground_truth = get_org_name(row)\n",
    "        elif row[\"Field_Name\"] in [\"DEN_BillProvPostCode\",\"DEN_FacProvPostCode\"]:\n",
    "            ground_truth = get_post_code(row)\n",
    "        elif row[\"Field_Name\"] in [\"DEN_LineCharges\", \"DEN_TotalCharges\"]:\n",
    "            ground_truth = get_charges(row)\n",
    "        elif row[\"Field_Name\"] in [\"DEN_PatRelShipSelf\",\"DEN_PatRelShipSpouse\",\"DEN_PatRelShipDep\",\"DEN_PatRelShipOther\"]:\n",
    "            ground_truth = get_relationship_code(row)\n",
    "        elif row[\"Field_Name\"] in [\"DEN_PriInsSex\", \"DEN_PatSex\", \"DEN_SecInsSexF\", \"DEN_SecInsSexM\"]:\n",
    "            ground_truth = get_Inssex_code(row)\n",
    "        elif row[\"Field_Name\"] == 'DEN_TransTypeStmtOfServ':\n",
    "            ground_truth = get_TransTypeStmt_code(row)\n",
    "        elif row[\"Field_Name\"] == 'DEN_TransTypeReqforPreAuth':\n",
    "            ground_truth = get_TransTypeReqforPreAuth_code(row)\n",
    "        elif row[\"Field_Name\"] == \"DEN_PatAcctNo\":\n",
    "            ground_truth = get_PatAcctNo(row)\n",
    "        elif row[\"Field_Name\"] == 'DEN_DiagCodeQual':\n",
    "            ground_truth =  get_DiagCodeQual(row)\n",
    "        elif row[\"Field_Name\"] in ['DEN_BillProvPhone', 'DEN_FacProvPhone']:\n",
    "            ground_truth =  get_Phone_Num(row)\n",
    "        elif row[\"Field_Name\"] in ['DEN_RplProsthesisN','DEN_RplProsthesisY']:\n",
    "            ground_truth = get_Prosthesis(row)\n",
    "        elif row[\"Field_Name\"] == 'DEN_ProcDesc':\n",
    "            ground_truth = get_ProcDesc(row)\n",
    "        elif row[\"Field_Name\"] == 'DEN_ToothSurface':\n",
    "            ground_truth = get_ToothSurface(row)\n",
    "        elif row[\"Field_Name\"] in ['DEN_PayerPostCode', 'DEN_PayerState', 'DEN_PatSignDate', \\\n",
    "                                   'DEN_Encloseure', 'DEN_FacProvSignDate']:\n",
    "            ground_truth = get_PayerInfo(row)\n",
    "        elif row[\"Field_Name\"] == \"DEN_IsThereSecIns\":\n",
    "            ground_truth = row[\"TRANS_Value\"]\n",
    "        elif row[\"Field_Name\"] in [\"DEN_OrthodonticsN\", \"DEN_OrthodonticsY\"]:\n",
    "            ground_truth = get_Orthodontics(row)\n",
    "        elif row[\"Field_Name\"] in [\"DEN_FacProvState\", \"DEN_FacProvCity\"]:\n",
    "            ground_truth = get_FacProvData(row)\n",
    "        elif row[\"Field_Name\"] == 'DEN_AccountNumber':\n",
    "            ground_truth = get_AccountNumber(row)\n",
    "        \n",
    "        else:\n",
    "            if (\"?\" not in row[\"OCR_Optimizer\"]) & (row[\"OCR_Optimizer\"] != '[BLANK]'):\n",
    "                ground_truth = row[\"OCR_Optimizer\"] # need to check, sometimes, though the values not printed \n",
    "            else:\n",
    "                ground_truth = row[\"TRANS_Value\"]\n",
    "    except:\n",
    "        ground_truth = row[\"TRANS_Value\"]\n",
    "    return ground_truth"
   ]
  },
  {
   "cell_type": "code",
   "execution_count": 60,
   "id": "cae6e589",
   "metadata": {},
   "outputs": [],
   "source": [
    "def create_annotation_dict(df):\n",
    "    result_dict = {}\n",
    "    for index, row in df.iterrows():\n",
    "        field_name = row['Latest_Keys']\n",
    "        trans_value = row['Ground_truth']\n",
    "        if field_name in result_dict:\n",
    "            result_dict[field_name] = f\"{result_dict[field_name]};{trans_value}\"\n",
    "        else:\n",
    "            result_dict[field_name] = trans_value \n",
    "    return result_dict"
   ]
  },
  {
   "cell_type": "code",
   "execution_count": 61,
   "id": "fac536d4",
   "metadata": {},
   "outputs": [],
   "source": [
    "json_target_path = r'D:\\Xelp_work\\Ins_Datasets\\Ada_data\\ADA_Training_data\\key'\n",
    "images_source_path = r'D:\\Xelp_work\\Ins_Datasets\\Ada_data\\JPG'\n",
    "images_target_path = r'D:\\Xelp_work\\Ins_Datasets\\Ada_data\\ADA_Training_data\\img'"
   ]
  },
  {
   "cell_type": "markdown",
   "id": "19dbe651",
   "metadata": {},
   "source": []
  },
  {
   "cell_type": "code",
   "execution_count": 62,
   "id": "44e7802c",
   "metadata": {},
   "outputs": [],
   "source": [
    "mapping_dict = key_mappings.set_index('Key_Name').to_dict()['Modified_key']"
   ]
  },
  {
   "cell_type": "code",
   "execution_count": 63,
   "id": "1f171155",
   "metadata": {},
   "outputs": [
    {
     "data": {
      "text/plain": [
       "18848"
      ]
     },
     "execution_count": 63,
     "metadata": {},
     "output_type": "execute_result"
    }
   ],
   "source": [
    "TRANS_Dir = r'D:\\Xelp_work\\Ins_Datasets\\Ada_data\\TRANS'\n",
    "\n",
    "Trans_files = os.listdir(TRANS_Dir)\n",
    "len(Trans_files)"
   ]
  },
  {
   "cell_type": "code",
   "execution_count": 64,
   "id": "d9ff6dc3",
   "metadata": {},
   "outputs": [
    {
     "data": {
      "text/plain": [
       "18298"
      ]
     },
     "execution_count": 64,
     "metadata": {},
     "output_type": "execute_result"
    }
   ],
   "source": [
    "req_img = os.listdir(images_source_path)\n",
    "len(req_img)"
   ]
  },
  {
   "cell_type": "code",
   "execution_count": 65,
   "id": "a5d218bf",
   "metadata": {},
   "outputs": [],
   "source": [
    "import json"
   ]
  },
  {
   "cell_type": "code",
   "execution_count": 66,
   "id": "0eea388b",
   "metadata": {},
   "outputs": [],
   "source": [
    "def post_process_annotation_dict(Annotation_dict):\n",
    "    if Annotation_dict[\"18_Self\"] == \"X\":\n",
    "        Annotation_dict[\"20_Name\"] = Annotation_dict[\"12_Name\"]\n",
    "        Annotation_dict[\"20_Address\"] = Annotation_dict[\"12_Address\"]\n",
    "        Annotation_dict[\"20_City\"] = Annotation_dict[\"12_City\"]\n",
    "        Annotation_dict[\"20_State\"] = Annotation_dict[\"12_State\"]\n",
    "        Annotation_dict[\"20_Zip\"] = Annotation_dict[\"12_Zip\"]\n",
    "\n",
    "    if Annotation_dict[\"22_Sex\"] == \"F\":\n",
    "        Annotation_dict[\"22_F\"] = \"X\"\n",
    "    elif Annotation_dict[\"22_Sex\"] == \"M\":\n",
    "        Annotation_dict[\"22_M\"] = \"X\"\n",
    "    \n",
    "    if Annotation_dict[\"14_Sex\"] == \"F\":\n",
    "        Annotation_dict[\"14_F\"] = \"X\"\n",
    "    elif Annotation_dict[\"14_Sex\"] == \"M\":\n",
    "        Annotation_dict[\"14_M\"] = \"X\"\n",
    "    \n",
    "    if '9999' in Annotation_dict[\"8_SSN_ID\"]:\n",
    "        Annotation_dict[\"8_SSN_ID\"] = '[BLANK]'\n",
    "\n",
    "    return Annotation_dict\n",
    "    "
   ]
  },
  {
   "cell_type": "code",
   "execution_count": 67,
   "id": "1b2eb0fb",
   "metadata": {},
   "outputs": [
    {
     "data": {
      "text/plain": [
       "12954"
      ]
     },
     "execution_count": 67,
     "metadata": {},
     "output_type": "execute_result"
    }
   ],
   "source": [
    "import gc\n",
    "gc.collect()"
   ]
  },
  {
   "cell_type": "code",
   "execution_count": 68,
   "id": "77097224",
   "metadata": {
    "scrolled": true
   },
   "outputs": [
    {
     "name": "stderr",
     "output_type": "stream",
     "text": [
      "  0%|          | 48/18848 [00:07<47:11,  6.64it/s]\n"
     ]
    },
    {
     "ename": "KeyboardInterrupt",
     "evalue": "",
     "output_type": "error",
     "traceback": [
      "\u001b[1;31m---------------------------------------------------------------------------\u001b[0m",
      "\u001b[1;31mKeyboardInterrupt\u001b[0m                         Traceback (most recent call last)",
      "Cell \u001b[1;32mIn[68], line 7\u001b[0m\n\u001b[0;32m      5\u001b[0m     trans_file_path \u001b[38;5;241m=\u001b[39m os\u001b[38;5;241m.\u001b[39mpath\u001b[38;5;241m.\u001b[39mjoin(TRANS_Dir, each_trans_file)\n\u001b[0;32m      6\u001b[0m \u001b[38;5;66;03m#     print(trans_file_path)\u001b[39;00m\n\u001b[1;32m----> 7\u001b[0m     grnd_df, single_fields, grp_field_names, table_field_names, image_name \u001b[38;5;241m=\u001b[39m OCR_XML_to_DataFrame(trans_file_path, list_columns)\n\u001b[0;32m      8\u001b[0m     \u001b[38;5;28;01mif\u001b[39;00m (\u001b[38;5;28mlen\u001b[39m(image_name)) \u001b[38;5;241m>\u001b[39m \u001b[38;5;241m1\u001b[39m:\n\u001b[0;32m      9\u001b[0m         Multi_ADA\u001b[38;5;241m.\u001b[39mappend(each_trans_file)\n",
      "File \u001b[1;32md:\\Xelp_work\\Ins_Datasets\\Ada_data\\OCR_XML_to_DataFrame.py:124\u001b[0m, in \u001b[0;36mOCR_XML_to_DataFrame\u001b[1;34m(XML_file_path, req_fields)\u001b[0m\n\u001b[0;32m    121\u001b[0m     Trans_data \u001b[38;5;241m=\u001b[39m work_g[k]\u001b[38;5;241m.\u001b[39mfindall(\u001b[38;5;124m\"\u001b[39m\u001b[38;5;124m./Trans\u001b[39m\u001b[38;5;124m\"\u001b[39m)\n\u001b[0;32m    123\u001b[0m \u001b[38;5;28;01mfor\u001b[39;00m each_grp_row \u001b[38;5;129;01min\u001b[39;00m group_data:\n\u001b[1;32m--> 124\u001b[0m     df\u001b[38;5;241m.\u001b[39mloc[row, \u001b[38;5;124m\"\u001b[39m\u001b[38;5;124mData\u001b[39m\u001b[38;5;124m\"\u001b[39m] \u001b[38;5;241m=\u001b[39m each_grp_row\u001b[38;5;241m.\u001b[39mtext\n\u001b[0;32m    126\u001b[0m \u001b[38;5;28;01mfor\u001b[39;00m each_trans_row \u001b[38;5;129;01min\u001b[39;00m Trans_data:\n\u001b[0;32m    127\u001b[0m     df\u001b[38;5;241m.\u001b[39mloc[row, \u001b[38;5;124m\"\u001b[39m\u001b[38;5;124mTRANS_Value\u001b[39m\u001b[38;5;124m\"\u001b[39m] \u001b[38;5;241m=\u001b[39m each_trans_row\u001b[38;5;241m.\u001b[39mtext\n",
      "File \u001b[1;32mc:\\Users\\xelpmoc\\anaconda3\\Lib\\site-packages\\pandas\\core\\indexing.py:849\u001b[0m, in \u001b[0;36m_LocationIndexer.__setitem__\u001b[1;34m(self, key, value)\u001b[0m\n\u001b[0;32m    846\u001b[0m \u001b[38;5;28mself\u001b[39m\u001b[38;5;241m.\u001b[39m_has_valid_setitem_indexer(key)\n\u001b[0;32m    848\u001b[0m iloc \u001b[38;5;241m=\u001b[39m \u001b[38;5;28mself\u001b[39m \u001b[38;5;28;01mif\u001b[39;00m \u001b[38;5;28mself\u001b[39m\u001b[38;5;241m.\u001b[39mname \u001b[38;5;241m==\u001b[39m \u001b[38;5;124m\"\u001b[39m\u001b[38;5;124miloc\u001b[39m\u001b[38;5;124m\"\u001b[39m \u001b[38;5;28;01melse\u001b[39;00m \u001b[38;5;28mself\u001b[39m\u001b[38;5;241m.\u001b[39mobj\u001b[38;5;241m.\u001b[39miloc\n\u001b[1;32m--> 849\u001b[0m iloc\u001b[38;5;241m.\u001b[39m_setitem_with_indexer(indexer, value, \u001b[38;5;28mself\u001b[39m\u001b[38;5;241m.\u001b[39mname)\n",
      "File \u001b[1;32mc:\\Users\\xelpmoc\\anaconda3\\Lib\\site-packages\\pandas\\core\\indexing.py:1800\u001b[0m, in \u001b[0;36m_iLocIndexer._setitem_with_indexer\u001b[1;34m(self, indexer, value, name)\u001b[0m\n\u001b[0;32m   1795\u001b[0m \u001b[38;5;66;03m# reindex the axis\u001b[39;00m\n\u001b[0;32m   1796\u001b[0m \u001b[38;5;66;03m# make sure to clear the cache because we are\u001b[39;00m\n\u001b[0;32m   1797\u001b[0m \u001b[38;5;66;03m# just replacing the block manager here\u001b[39;00m\n\u001b[0;32m   1798\u001b[0m \u001b[38;5;66;03m# so the object is the same\u001b[39;00m\n\u001b[0;32m   1799\u001b[0m index \u001b[38;5;241m=\u001b[39m \u001b[38;5;28mself\u001b[39m\u001b[38;5;241m.\u001b[39mobj\u001b[38;5;241m.\u001b[39m_get_axis(i)\n\u001b[1;32m-> 1800\u001b[0m labels \u001b[38;5;241m=\u001b[39m index\u001b[38;5;241m.\u001b[39minsert(\u001b[38;5;28mlen\u001b[39m(index), key)\n\u001b[0;32m   1802\u001b[0m \u001b[38;5;66;03m# We are expanding the Series/DataFrame values to match\u001b[39;00m\n\u001b[0;32m   1803\u001b[0m \u001b[38;5;66;03m#  the length of thenew index `labels`.  GH#40096 ensure\u001b[39;00m\n\u001b[0;32m   1804\u001b[0m \u001b[38;5;66;03m#  this is valid even if the index has duplicates.\u001b[39;00m\n\u001b[0;32m   1805\u001b[0m taker \u001b[38;5;241m=\u001b[39m np\u001b[38;5;241m.\u001b[39marange(\u001b[38;5;28mlen\u001b[39m(index) \u001b[38;5;241m+\u001b[39m \u001b[38;5;241m1\u001b[39m, dtype\u001b[38;5;241m=\u001b[39mnp\u001b[38;5;241m.\u001b[39mintp)\n",
      "File \u001b[1;32mc:\\Users\\xelpmoc\\anaconda3\\Lib\\site-packages\\pandas\\core\\indexes\\base.py:6655\u001b[0m, in \u001b[0;36mIndex.insert\u001b[1;34m(self, loc, item)\u001b[0m\n\u001b[0;32m   6648\u001b[0m \u001b[38;5;28;01mif\u001b[39;00m arr\u001b[38;5;241m.\u001b[39mdtype \u001b[38;5;241m!=\u001b[39m \u001b[38;5;28mobject\u001b[39m \u001b[38;5;129;01mor\u001b[39;00m \u001b[38;5;129;01mnot\u001b[39;00m \u001b[38;5;28misinstance\u001b[39m(\n\u001b[0;32m   6649\u001b[0m     item, (\u001b[38;5;28mtuple\u001b[39m, np\u001b[38;5;241m.\u001b[39mdatetime64, np\u001b[38;5;241m.\u001b[39mtimedelta64)\n\u001b[0;32m   6650\u001b[0m ):\n\u001b[0;32m   6651\u001b[0m     \u001b[38;5;66;03m# with object-dtype we need to worry about numpy incorrectly casting\u001b[39;00m\n\u001b[0;32m   6652\u001b[0m     \u001b[38;5;66;03m# dt64/td64 to integer, also about treating tuples as sequences\u001b[39;00m\n\u001b[0;32m   6653\u001b[0m     \u001b[38;5;66;03m# special-casing dt64/td64 https://github.com/numpy/numpy/issues/12550\u001b[39;00m\n\u001b[0;32m   6654\u001b[0m     casted \u001b[38;5;241m=\u001b[39m arr\u001b[38;5;241m.\u001b[39mdtype\u001b[38;5;241m.\u001b[39mtype(item)\n\u001b[1;32m-> 6655\u001b[0m     new_values \u001b[38;5;241m=\u001b[39m np\u001b[38;5;241m.\u001b[39minsert(arr, loc, casted)\n\u001b[0;32m   6657\u001b[0m \u001b[38;5;28;01melse\u001b[39;00m:\n\u001b[0;32m   6658\u001b[0m     \u001b[38;5;66;03m# error: No overload variant of \"insert\" matches argument types\u001b[39;00m\n\u001b[0;32m   6659\u001b[0m     \u001b[38;5;66;03m# \"ndarray[Any, Any]\", \"int\", \"None\"\u001b[39;00m\n\u001b[0;32m   6660\u001b[0m     new_values \u001b[38;5;241m=\u001b[39m np\u001b[38;5;241m.\u001b[39minsert(arr, loc, \u001b[38;5;28;01mNone\u001b[39;00m)  \u001b[38;5;66;03m# type: ignore[call-overload]\u001b[39;00m\n",
      "File \u001b[1;32m<__array_function__ internals>:200\u001b[0m, in \u001b[0;36minsert\u001b[1;34m(*args, **kwargs)\u001b[0m\n",
      "\u001b[1;31mKeyboardInterrupt\u001b[0m: "
     ]
    }
   ],
   "source": [
    "overall_data = pd.DataFrame()\n",
    "Multi_ADA = []\n",
    "c = 0\n",
    "for each_trans_file in tqdm(Trans_files):\n",
    "    trans_file_path = os.path.join(TRANS_Dir, each_trans_file)\n",
    "#     print(trans_file_path)\n",
    "    grnd_df, single_fields, grp_field_names, table_field_names, image_name = OCR_XML_to_DataFrame(trans_file_path, list_columns)\n",
    "    if (len(image_name)) > 1:\n",
    "        Multi_ADA.append(each_trans_file)\n",
    "#     image_name = image_name[:-4]+\"jpg\"\n",
    "#     break\n",
    "#     try:\n",
    "#         if image_name in req_img:\n",
    "# #             print(image_name)\n",
    "#             grnd_df.fillna(\"[BLANK]\", inplace=True)\n",
    "#             grnd_df[\"Ground_truth\"] = grnd_df.apply(generate_ground_truth, axis=1)\n",
    "#             grnd_df['Latest_Keys'] = grnd_df['Field_Name'].map(mapping_dict)\n",
    "#             Annotation_dict = create_annotation_dict(grnd_df)\n",
    "            \n",
    "#             Annotation_dict = post_process_annotation_dict(Annotation_dict)\n",
    "#             input_image_file = os.path.join(images_source_path, image_name)       \n",
    "#             try:\n",
    "#                 img = cv2.imread(input_image_file)\n",
    "# #                 print(img.shape)\n",
    "#                 json_file = each_trans_file[:-7]+\"0.json\"\n",
    "#                 output_image_path = os.path.join(images_target_path, json_file[:-4]+\"jpg\")\n",
    "#                 cv2.imwrite(output_image_path, img)\n",
    "#                 output_json_path = os.path.join(json_target_path, json_file)\n",
    "                \n",
    "#                 grnd_df[\"Image_Name\"] = image_name\n",
    "#                 grnd_df[\"XML_File\"] = each_trans_file\n",
    "#     #             overal_data = pd.concat([overal_data, grnd_df], ignore_index=True)\n",
    "#             except Exception as p:\n",
    "#                 raise p\n",
    "                \n",
    "#             with open(output_json_path, \"w\") as output_file:\n",
    "#                 json.dump(Annotation_dict, output_file)\n",
    "#     except Exception as e:\n",
    "#         raise e\n",
    "        \n",
    "#     c += 1\n",
    "# #     print(Annotation_dict)\n",
    "#     if c %200 == 0:\n",
    "#         gc.collect()"
   ]
  },
  {
   "cell_type": "code",
   "execution_count": null,
   "id": "dab4b265",
   "metadata": {},
   "outputs": [
    {
     "data": {
      "text/plain": [
       "458"
      ]
     },
     "execution_count": 35,
     "metadata": {},
     "output_type": "execute_result"
    }
   ],
   "source": [
    "len(Multi_ADA)"
   ]
  },
  {
   "cell_type": "code",
   "execution_count": null,
   "id": "16a9783c",
   "metadata": {},
   "outputs": [],
   "source": [
    "# Assuming Multi_ADA is a list of strings or a string\n",
    "with open(\"Multi_ada.txt\", \"w\") as file:\n",
    "    file.writelines(\"\\n\".join(Multi_ADA))\n"
   ]
  },
  {
   "cell_type": "code",
   "execution_count": null,
   "id": "62194ebf",
   "metadata": {},
   "outputs": [
    {
     "name": "stderr",
     "output_type": "stream",
     "text": [
      "100%|███████████████████████████████████████████████████████████████████████████| 18298/18298 [00:22<00:00, 828.00it/s]"
     ]
    },
    {
     "name": "stdout",
     "output_type": "stream",
     "text": [
      "All files processed.\n"
     ]
    },
    {
     "name": "stderr",
     "output_type": "stream",
     "text": [
      "\n"
     ]
    }
   ],
   "source": [
    "import os\n",
    "import json\n",
    "\n",
    "# Define the path to the folder containing the JSON files\n",
    "folder_path = r'D:\\Xelp_work\\Ins_Datasets\\Ada_data\\ADA_Training_data\\key'\n",
    "\n",
    "# Iterate over each file in the folder\n",
    "for filename in tqdm(os.listdir(folder_path)):\n",
    "    if filename.endswith(\".json\"):\n",
    "        file_path = os.path.join(folder_path, filename)\n",
    "        \n",
    "        # Read the JSON file\n",
    "        with open(file_path, \"r\") as file:\n",
    "            data = json.load(file)\n",
    "\n",
    "        # Modify the data (extract only the first 10 values before \";\" occurs)\n",
    "        for key, value in data.items():\n",
    "            values = value.split(\";\")\n",
    "            extracted_values = [v.strip() for v in values if v.strip()][:10]\n",
    "            extracted_values_str = \";\".join(extracted_values)\n",
    "            data[key] = extracted_values_str\n",
    "\n",
    "        # Save the modified data back to the JSON file\n",
    "        with open(file_path, \"w\") as file:\n",
    "            json.dump(data, file, indent=4)\n",
    "\n",
    "print(\"All files processed.\")\n"
   ]
  },
  {
   "cell_type": "code",
   "execution_count": null,
   "id": "aece892d",
   "metadata": {},
   "outputs": [
    {
     "name": "stderr",
     "output_type": "stream",
     "text": [
      "100%|██████████████████████████████████████████████████████████████████████████| 18298/18298 [00:02<00:00, 6120.17it/s]\n"
     ]
    }
   ],
   "source": [
    "import os\n",
    "import json\n",
    "import pandas as pd\n",
    "\n",
    "# Define the path to the folder containing the modified JSON files\n",
    "folder_path = r'D:\\Xelp_work\\Ins_Datasets\\Ada_data\\ADA_Training_data\\key'\n",
    "\n",
    "# List to store dictionaries from each JSON file\n",
    "json_data_list = []\n",
    "\n",
    "# Iterate over each file in the folder\n",
    "for filename in tqdm(os.listdir(folder_path)):\n",
    "    if filename.endswith(\".json\"):\n",
    "        file_path = os.path.join(folder_path, filename)\n",
    "        \n",
    "        # Read the JSON file into a dictionary\n",
    "        with open(file_path, \"r\") as file:\n",
    "            data = json.load(file)\n",
    "            # Add the file name as a column in the dictionary\n",
    "            data[\"file_name\"] = filename\n",
    "            json_data_list.append(data)\n",
    "\n",
    "# Create a DataFrame from the list of dictionaries\n",
    "df = pd.DataFrame(json_data_list)\n"
   ]
  },
  {
   "cell_type": "code",
   "execution_count": null,
   "id": "60eb4132",
   "metadata": {},
   "outputs": [
    {
     "name": "stderr",
     "output_type": "stream",
     "text": [
      "  2%|█▍                                                                                | 2/119 [00:00<00:12,  9.24it/s]"
     ]
    },
    {
     "name": "stdout",
     "output_type": "stream",
     "text": [
      "15_SSN_ID 0 18298\n",
      "2_Pre_Auth_Num 17782 516\n"
     ]
    },
    {
     "name": "stderr",
     "output_type": "stream",
     "text": [
      "\r\n",
      "  3%|██▊                                                                               | 4/119 [00:00<00:11, 10.24it/s]"
     ]
    },
    {
     "name": "stdout",
     "output_type": "stream",
     "text": [
      "3_Company 0 18298\n",
      "3_Lname 18298 0\n",
      "3_FName 18298 0\n"
     ]
    },
    {
     "name": "stderr",
     "output_type": "stream",
     "text": [
      "  6%|████▊                                                                             | 7/119 [00:00<00:11,  9.64it/s]"
     ]
    },
    {
     "name": "stdout",
     "output_type": "stream",
     "text": [
      "3_Address 3971 14327\n",
      "3_City 4248 14050\n"
     ]
    },
    {
     "name": "stderr",
     "output_type": "stream",
     "text": [
      "  8%|██████▏                                                                           | 9/119 [00:00<00:11,  9.18it/s]"
     ]
    },
    {
     "name": "stdout",
     "output_type": "stream",
     "text": [
      "3_State 1134 17164\n",
      "3_Zip 2262 16036\n",
      "3_Code_ext 18298 0\n",
      "3_Ph_Number 18298 0\n"
     ]
    },
    {
     "name": "stderr",
     "output_type": "stream",
     "text": [
      " 11%|████████▊                                                                        | 13/119 [00:01<00:10,  9.68it/s]"
     ]
    },
    {
     "name": "stdout",
     "output_type": "stream",
     "text": [
      "20_Name 43 18255\n",
      "20_Address 59 18239\n",
      "20_City 37 18261\n"
     ]
    },
    {
     "name": "stderr",
     "output_type": "stream",
     "text": [
      " 13%|██████████▉                                                                      | 16/119 [00:01<00:11,  9.24it/s]"
     ]
    },
    {
     "name": "stdout",
     "output_type": "stream",
     "text": [
      "20_State 12 18286\n",
      "20_Zip 17 18281\n",
      "21_DOB 0 18298\n"
     ]
    },
    {
     "name": "stderr",
     "output_type": "stream",
     "text": [
      " 17%|█████████████▌                                                                   | 20/119 [00:02<00:08, 11.21it/s]"
     ]
    },
    {
     "name": "stdout",
     "output_type": "stream",
     "text": [
      "12_Name 21 18277\n",
      "12_Address 0 18298\n",
      "12_City 0 18298\n",
      "12_State 0 18298\n"
     ]
    },
    {
     "name": "stderr",
     "output_type": "stream",
     "text": [
      "\r\n",
      " 18%|██████████████▉                                                                  | 22/119 [00:02<00:08, 11.81it/s]"
     ]
    },
    {
     "name": "stdout",
     "output_type": "stream",
     "text": [
      "12_Zip 0 18298\n",
      "5_Name 16162 2136\n"
     ]
    },
    {
     "name": "stderr",
     "output_type": "stream",
     "text": [
      " 22%|█████████████████▋                                                               | 26/119 [00:02<00:09,  9.86it/s]"
     ]
    },
    {
     "name": "stdout",
     "output_type": "stream",
     "text": [
      "9_Plan_Number 16117 2181\n",
      "6_DOB 15914 2384\n",
      "8_SSN_ID 15870 2428\n"
     ]
    },
    {
     "name": "stderr",
     "output_type": "stream",
     "text": [
      "\r\n",
      " 24%|███████████████████                                                              | 28/119 [00:02<00:08, 10.12it/s]"
     ]
    },
    {
     "name": "stdout",
     "output_type": "stream",
     "text": [
      "13_DOB 0 18298\n",
      "17_Name 11567 6731\n",
      "36_Signature  0 18298\n"
     ]
    },
    {
     "name": "stderr",
     "output_type": "stream",
     "text": [
      " 27%|█████████████████████▊                                                           | 32/119 [00:03<00:08, 10.10it/s]"
     ]
    },
    {
     "name": "stdout",
     "output_type": "stream",
     "text": [
      "36_Sign_Date 3233 15065\n",
      "37_Sign_Date 4017 14281\n",
      "37_Signature 1089 17209\n"
     ]
    },
    {
     "name": "stderr",
     "output_type": "stream",
     "text": [
      " 29%|███████████████████████▊                                                         | 35/119 [00:03<00:08,  9.81it/s]"
     ]
    },
    {
     "name": "stdout",
     "output_type": "stream",
     "text": [
      "41_Date 17609 689\n",
      "42_Months_remain 18226 72\n",
      "44_Date 17666 632\n"
     ]
    },
    {
     "name": "stderr",
     "output_type": "stream",
     "text": [
      " 31%|█████████████████████████▏                                                       | 37/119 [00:03<00:08,  9.67it/s]"
     ]
    },
    {
     "name": "stdout",
     "output_type": "stream",
     "text": [
      "46_Date 18215 83\n",
      "47_Auto 18255 43\n"
     ]
    },
    {
     "name": "stderr",
     "output_type": "stream",
     "text": [
      " 33%|██████████████████████████▌                                                      | 39/119 [00:03<00:09,  8.88it/s]"
     ]
    },
    {
     "name": "stdout",
     "output_type": "stream",
     "text": [
      "1_Signed 3992 14306\n",
      "1_Type 15693 2605\n"
     ]
    },
    {
     "name": "stderr",
     "output_type": "stream",
     "text": [
      " 34%|███████████████████████████▉                                                     | 41/119 [00:04<00:08,  8.92it/s]"
     ]
    },
    {
     "name": "stdout",
     "output_type": "stream",
     "text": [
      "1_TypeEPSDT 18271 27\n",
      "33_Missing_Teeth 10045 8253\n",
      "35_Remarks 9281 9017\n"
     ]
    },
    {
     "name": "stderr",
     "output_type": "stream",
     "text": [
      " 37%|█████████████████████████████▉                                                   | 44/119 [00:04<00:08,  8.76it/s]"
     ]
    },
    {
     "name": "stdout",
     "output_type": "stream",
     "text": [
      "11_Org_Name 15519 2779\n",
      "11_Address 16154 2144\n"
     ]
    },
    {
     "name": "stderr",
     "output_type": "stream",
     "text": [
      " 39%|███████████████████████████████▎                                                 | 46/119 [00:04<00:08,  8.80it/s]"
     ]
    },
    {
     "name": "stdout",
     "output_type": "stream",
     "text": [
      "11_City 16121 2177\n",
      "11_State 15807 2491\n"
     ]
    },
    {
     "name": "stderr",
     "output_type": "stream",
     "text": [
      "\r\n",
      " 39%|███████████████████████████████▉                                                 | 47/119 [00:04<00:08,  8.91it/s]"
     ]
    },
    {
     "name": "stdout",
     "output_type": "stream",
     "text": [
      "11_Zip 15872 2426\n",
      "11_Ph_Ext 18298 0\n"
     ]
    },
    {
     "name": "stderr",
     "output_type": "stream",
     "text": [
      " 42%|██████████████████████████████████                                               | 50/119 [00:05<00:07,  9.35it/s]"
     ]
    },
    {
     "name": "stdout",
     "output_type": "stream",
     "text": [
      "11_Ph_Number 18298 0\n",
      "24_Proc_Date 1009 17289\n",
      "29_Proc_Code 0 18298\n"
     ]
    },
    {
     "name": "stderr",
     "output_type": "stream",
     "text": [
      " 45%|████████████████████████████████████                                             | 53/119 [00:05<00:07,  9.00it/s]"
     ]
    },
    {
     "name": "stdout",
     "output_type": "stream",
     "text": [
      "29B_Units 2325 15973\n",
      "31_Fee 1 18297\n"
     ]
    },
    {
     "name": "stderr",
     "output_type": "stream",
     "text": [
      " 46%|█████████████████████████████████████▍                                           | 55/119 [00:05<00:07,  8.96it/s]"
     ]
    },
    {
     "name": "stdout",
     "output_type": "stream",
     "text": [
      "25_Oral_Cavity 4480 13818\n",
      "25_Tooth_sys 4854 13444\n"
     ]
    },
    {
     "name": "stderr",
     "output_type": "stream",
     "text": [
      " 48%|██████████████████████████████████████▊                                          | 57/119 [00:05<00:07,  8.63it/s]"
     ]
    },
    {
     "name": "stdout",
     "output_type": "stream",
     "text": [
      "27_Tooth_Number 1596 16702\n",
      "28_Tooth_Surface 4519 13779\n"
     ]
    },
    {
     "name": "stderr",
     "output_type": "stream",
     "text": [
      " 50%|████████████████████████████████████████▏                                        | 59/119 [00:06<00:06,  8.99it/s]"
     ]
    },
    {
     "name": "stdout",
     "output_type": "stream",
     "text": [
      "30_Description 1351 16947\n",
      "34_D_Code 16143 2155\n",
      "51_SSN_TIN 0 18298\n"
     ]
    },
    {
     "name": "stderr",
     "output_type": "stream",
     "text": [
      " 52%|██████████████████████████████████████████▏                                      | 62/119 [00:06<00:06,  9.46it/s]"
     ]
    },
    {
     "name": "stdout",
     "output_type": "stream",
     "text": [
      "23_Patient_ID 7814 10484\n",
      "31A_Other 17193 1105\n",
      "33_Total_Fee 1 18297\n"
     ]
    },
    {
     "name": "stderr",
     "output_type": "stream",
     "text": [
      " 55%|████████████████████████████████████████████▏                                    | 65/119 [00:06<00:05,  9.57it/s]"
     ]
    },
    {
     "name": "stdout",
     "output_type": "stream",
     "text": [
      "38_Place_treatment 0 18298\n",
      "39_Enclosures 12101 6197\n",
      "53_Sign 2123 16175\n"
     ]
    },
    {
     "name": "stderr",
     "output_type": "stream",
     "text": [
      " 56%|█████████████████████████████████████████████▌                                   | 67/119 [00:07<00:05,  9.38it/s]"
     ]
    },
    {
     "name": "stdout",
     "output_type": "stream",
     "text": [
      "53_Sign_Date 4995 13303\n",
      "56_A_Code 0 18298\n",
      "53_Org_Name 1 18297\n"
     ]
    },
    {
     "name": "stderr",
     "output_type": "stream",
     "text": [
      " 60%|████████████████████████████████████████████████▎                                | 71/119 [00:07<00:04,  9.60it/s]"
     ]
    },
    {
     "name": "stdout",
     "output_type": "stream",
     "text": [
      "56_Address 200 18098\n",
      "56_City 231 18067\n",
      "56_State 231 18067\n"
     ]
    },
    {
     "name": "stderr",
     "output_type": "stream",
     "text": [
      " 63%|███████████████████████████████████████████████████                              | 75/119 [00:07<00:04,  9.52it/s]"
     ]
    },
    {
     "name": "stdout",
     "output_type": "stream",
     "text": [
      "56_Zip 223 18075\n",
      "57_Ph_Number 7838 10460\n",
      "54_NPI 390 17908\n"
     ]
    },
    {
     "name": "stderr",
     "output_type": "stream",
     "text": [
      " 65%|████████████████████████████████████████████████████▍                            | 77/119 [00:08<00:04,  8.70it/s]"
     ]
    },
    {
     "name": "stdout",
     "output_type": "stream",
     "text": [
      "52_Fac_Other_ID 15707 2591\n",
      "55_License 222 18076\n"
     ]
    },
    {
     "name": "stderr",
     "output_type": "stream",
     "text": [
      " 66%|█████████████████████████████████████████████████████▊                           | 79/119 [00:08<00:04,  8.79it/s]"
     ]
    },
    {
     "name": "stdout",
     "output_type": "stream",
     "text": [
      "48_Org_Name 31 18267\n",
      "48_Name 9726 8572\n",
      "48_Suffix 18298 0\n"
     ]
    },
    {
     "name": "stderr",
     "output_type": "stream",
     "text": [
      " 69%|███████████████████████████████████████████████████████▊                         | 82/119 [00:08<00:03,  9.39it/s]"
     ]
    },
    {
     "name": "stdout",
     "output_type": "stream",
     "text": [
      "48_Prefix 17787 511\n",
      "48_Address 28 18270\n",
      "48_City 0 18298\n"
     ]
    },
    {
     "name": "stderr",
     "output_type": "stream",
     "text": [
      " 72%|██████████████████████████████████████████████████████████▌                      | 86/119 [00:08<00:03, 10.47it/s]"
     ]
    },
    {
     "name": "stdout",
     "output_type": "stream",
     "text": [
      "48_State 27 18271\n",
      "48_Zip 0 18298\n",
      "52_Ph_Number 6545 11753\n"
     ]
    },
    {
     "name": "stderr",
     "output_type": "stream",
     "text": [
      "\r\n",
      " 74%|███████████████████████████████████████████████████████████▉                     | 88/119 [00:09<00:03, 10.11it/s]"
     ]
    },
    {
     "name": "stdout",
     "output_type": "stream",
     "text": [
      "49_NPI 520 17778\n",
      "58_Fac_ProvIDFull 15397 2901\n",
      "50_License 2267 16031\n"
     ]
    },
    {
     "name": "stderr",
     "output_type": "stream",
     "text": [
      " 76%|█████████████████████████████████████████████████████████████▉                   | 91/119 [00:09<00:02,  9.80it/s]"
     ]
    },
    {
     "name": "stdout",
     "output_type": "stream",
     "text": [
      "22_Sex 1231 17067\n",
      "22_M 9764 8534\n",
      "22_F 9233 9065\n"
     ]
    },
    {
     "name": "stderr",
     "output_type": "stream",
     "text": [
      " 79%|███████████████████████████████████████████████████████████████▉                 | 94/119 [00:09<00:02, 11.02it/s]"
     ]
    },
    {
     "name": "stdout",
     "output_type": "stream",
     "text": [
      "4_Dental_Medical 0 18298\n",
      "40_No 18298 0\n",
      "40_Yes 17715 583\n"
     ]
    },
    {
     "name": "stderr",
     "output_type": "stream",
     "text": [
      "\r\n",
      " 81%|█████████████████████████████████████████████████████████████████▎               | 96/119 [00:09<00:02, 10.53it/s]"
     ]
    },
    {
     "name": "stdout",
     "output_type": "stream",
     "text": [
      "43_No 9595 8703\n",
      "43_Yes 17733 565\n"
     ]
    },
    {
     "name": "stderr",
     "output_type": "stream",
     "text": [
      " 84%|███████████████████████████████████████████████████████████████████▏            | 100/119 [00:10<00:01,  9.57it/s]"
     ]
    },
    {
     "name": "stdout",
     "output_type": "stream",
     "text": [
      "18_Self 6904 11394\n",
      "18_Spouse 14547 3751\n",
      "18_Child 16224 2074\n"
     ]
    },
    {
     "name": "stderr",
     "output_type": "stream",
     "text": [
      " 86%|████████████████████████████████████████████████████████████████████▌           | 102/119 [00:10<00:01,  9.42it/s]"
     ]
    },
    {
     "name": "stdout",
     "output_type": "stream",
     "text": [
      "18_Other 17218 1080\n",
      "10_Self 17089 1209\n"
     ]
    },
    {
     "name": "stderr",
     "output_type": "stream",
     "text": [
      " 88%|██████████████████████████████████████████████████████████████████████▌         | 105/119 [00:10<00:01,  9.45it/s]"
     ]
    },
    {
     "name": "stdout",
     "output_type": "stream",
     "text": [
      "10_Spouse 17925 373\n",
      "10_Dependent 17989 309\n",
      "10_Other 18119 179\n"
     ]
    },
    {
     "name": "stderr",
     "output_type": "stream",
     "text": [
      " 90%|███████████████████████████████████████████████████████████████████████▉        | 107/119 [00:11<00:01,  9.05it/s]"
     ]
    },
    {
     "name": "stdout",
     "output_type": "stream",
     "text": [
      "19_Code_FT 18285 13\n",
      "19_Code_PT 18296 2\n"
     ]
    },
    {
     "name": "stderr",
     "output_type": "stream",
     "text": [
      " 92%|█████████████████████████████████████████████████████████████████████████▉      | 110/119 [00:11<00:00,  9.32it/s]"
     ]
    },
    {
     "name": "stdout",
     "output_type": "stream",
     "text": [
      "7_M 17386 912\n",
      "7_F 17329 969\n",
      "45_illness/injury 18282 16\n"
     ]
    },
    {
     "name": "stderr",
     "output_type": "stream",
     "text": [
      "\r\n",
      " 94%|███████████████████████████████████████████████████████████████████████████▎    | 112/119 [00:11<00:00, 10.44it/s]"
     ]
    },
    {
     "name": "stdout",
     "output_type": "stream",
     "text": [
      "45_Auto_accident 18298 0\n",
      "45_Other_accident 18298 0\n",
      "14_Sex 0 18298\n"
     ]
    },
    {
     "name": "stderr",
     "output_type": "stream",
     "text": [
      " 97%|█████████████████████████████████████████████████████████████████████████████▉  | 116/119 [00:12<00:00, 10.55it/s]"
     ]
    },
    {
     "name": "stdout",
     "output_type": "stream",
     "text": [
      "14_M 8110 10188\n",
      "14_F 9402 8896\n",
      "34_ICDInd 18298 0\n"
     ]
    },
    {
     "name": "stderr",
     "output_type": "stream",
     "text": [
      "100%|████████████████████████████████████████████████████████████████████████████████| 119/119 [00:12<00:00,  9.62it/s]"
     ]
    },
    {
     "name": "stdout",
     "output_type": "stream",
     "text": [
      "16_Grp_Num 3634 14664\n",
      "35_NEA 18152 146\n",
      "file_name 0 18298\n"
     ]
    },
    {
     "name": "stderr",
     "output_type": "stream",
     "text": [
      "\n"
     ]
    }
   ],
   "source": [
    "for each_column in tqdm(df.columns):\n",
    "    print(each_column, len(df[df[each_column] == '[BLANK]']), len(df[df[each_column] != '[BLANK]']) )"
   ]
  },
  {
   "cell_type": "code",
   "execution_count": null,
   "id": "da7d88f8",
   "metadata": {},
   "outputs": [
    {
     "name": "stdout",
     "output_type": "stream",
     "text": [
      "Number of rows added to train_images_list: 14520\n"
     ]
    }
   ],
   "source": [
    "cols_to_check = ['2_Pre_Auth_Num', '5_Name','8_SSN_ID', '9_Plan_Number','17_Name', '42_Months_remain', '41_Date', '44_Date', '46_Date', \\\n",
    "                 '47_Auto', '1_TypeEPSDT', '31A_Other', '48_Prefix', '43_Yes', '19_Code_FT', '19_Code_PT', \\\n",
    "                 '45_illness/injury','33_Missing_Teeth', '35_NEA', '52_Fac_Other_ID', '34_D_Code', '7_M', '10_Other', '58_Fac_ProvIDFull']\n",
    "\n",
    "train_images_list = []\n",
    "for index, row in df.iterrows():\n",
    "    # Check if any value in the specified columns is not equal to '[BLANK]'\n",
    "    if any(row[col] != '[BLANK]' for col in cols_to_check):\n",
    "        # If condition is true, add the entire row to train_images_list\n",
    "        train_images_list.append(row[\"file_name\"])\n",
    "\n",
    "# Print the number of rows added to train_images_list\n",
    "print(f\"Number of rows added to train_images_list: {len(train_images_list)}\")\n"
   ]
  },
  {
   "cell_type": "code",
   "execution_count": null,
   "id": "efd10287",
   "metadata": {},
   "outputs": [
    {
     "data": {
      "text/plain": [
       "14520"
      ]
     },
     "execution_count": 70,
     "metadata": {},
     "output_type": "execute_result"
    }
   ],
   "source": [
    "len(train_images_list)"
   ]
  },
  {
   "cell_type": "code",
   "execution_count": null,
   "id": "66bdea9a",
   "metadata": {},
   "outputs": [
    {
     "data": {
      "text/plain": [
       "'20220231172307627_000.json'"
      ]
     },
     "execution_count": 72,
     "metadata": {},
     "output_type": "execute_result"
    }
   ],
   "source": [
    "train_images_list[0]"
   ]
  },
  {
   "cell_type": "code",
   "execution_count": null,
   "id": "67ad0242",
   "metadata": {},
   "outputs": [],
   "source": [
    "json_source_dir = r'D:\\Xelp_work\\Ins_Datasets\\Ada_data\\ADA_Training_data\\key'\n",
    "img_source_dir = r'D:\\Xelp_work\\Ins_Datasets\\Ada_data\\ADA_Training_data\\img'"
   ]
  },
  {
   "cell_type": "code",
   "execution_count": null,
   "id": "46e98f63",
   "metadata": {},
   "outputs": [],
   "source": [
    "tr_img_target_dir =  r'D:\\Xelp_work\\Ins_Datasets\\Ada_data\\ADA_Training_data\\train\\img'\n",
    "tr_json_target_dir = r'D:\\Xelp_work\\Ins_Datasets\\Ada_data\\ADA_Training_data\\train\\key'\n",
    "\n",
    "vl_img_target_dir =  r'D:\\Xelp_work\\Ins_Datasets\\Ada_data\\ADA_Training_data\\val\\img'\n",
    "vl_json_target_dir = r'D:\\Xelp_work\\Ins_Datasets\\Ada_data\\ADA_Training_data\\val\\key'\n",
    "\n",
    "test_img_target_dir =  r'D:\\Xelp_work\\Ins_Datasets\\Ada_data\\ADA_Training_data\\test\\img'\n",
    "test_json_target_dir = r'D:\\Xelp_work\\Ins_Datasets\\Ada_data\\ADA_Training_data\\test\\key'\n",
    "\n",
    "os.makedirs(tr_img_target_dir, exist_ok= True)\n",
    "os.makedirs(tr_json_target_dir, exist_ok= True)\n",
    "os.makedirs(vl_img_target_dir, exist_ok= True)\n",
    "os.makedirs(vl_json_target_dir, exist_ok= True)\n",
    "os.makedirs(test_img_target_dir, exist_ok= True)\n",
    "os.makedirs(test_json_target_dir, exist_ok= True)"
   ]
  },
  {
   "cell_type": "code",
   "execution_count": null,
   "id": "2438ff42",
   "metadata": {},
   "outputs": [],
   "source": []
  },
  {
   "cell_type": "code",
   "execution_count": null,
   "id": "82c868fc",
   "metadata": {},
   "outputs": [],
   "source": [
    "import shutil\n"
   ]
  },
  {
   "cell_type": "code",
   "execution_count": null,
   "id": "58eec7ce",
   "metadata": {},
   "outputs": [
    {
     "name": "stderr",
     "output_type": "stream",
     "text": [
      "100%|███████████████████████████████████████████████████████████████████████████| 14520/14520 [00:14<00:00, 968.55it/s]\n"
     ]
    }
   ],
   "source": [
    "for each_file_name in tqdm(train_images_list):\n",
    "    source_im_path = os.path.join(img_source_dir, each_file_name[:-4]+\"jpg\")\n",
    "    source_json_path = os.path.join(json_source_dir, each_file_name)\n",
    "    try:\n",
    "        shutil.move(source_im_path, tr_img_target_dir)\n",
    "        shutil.move(source_json_path, tr_json_target_dir)\n",
    "    except:\n",
    "        pass\n",
    "#     break"
   ]
  },
  {
   "cell_type": "code",
   "execution_count": null,
   "id": "bb682a58",
   "metadata": {},
   "outputs": [],
   "source": [
    "df = df.sort_values(by='15_SSN_ID')"
   ]
  },
  {
   "cell_type": "code",
   "execution_count": null,
   "id": "30981fd8",
   "metadata": {},
   "outputs": [
    {
     "data": {
      "text/plain": [
       "17094"
      ]
     },
     "execution_count": 79,
     "metadata": {},
     "output_type": "execute_result"
    }
   ],
   "source": [
    "df[\"15_SSN_ID\"].nunique()"
   ]
  },
  {
   "cell_type": "code",
   "execution_count": null,
   "id": "9b0c29bf",
   "metadata": {},
   "outputs": [
    {
     "name": "stdout",
     "output_type": "stream",
     "text": [
      "2578\n",
      "2578\n",
      "20220231172307626_000 20220231172307626_000\n"
     ]
    }
   ],
   "source": [
    "import os\n",
    "\n",
    "# jpg_folder = r'D:\\Xelp_work\\Ins_Datasets\\Ada_data\\ADA_Training_data\\train\\img'\n",
    "# json_folder = r'D:\\Xelp_work\\Ins_Datasets\\Ada_data\\ADA_Training_data\\train\\key'\n",
    "\n",
    "jpg_files = [os.path.splitext(f)[0] for f in os.listdir(test_img_target_dir) if f.endswith('.jpg')]\n",
    "json_files = [os.path.splitext(f)[0] for f in os.listdir(test_json_target_dir) if f.endswith('.json')]\n",
    "\n",
    "\n",
    "print(len(jpg_files))\n",
    "print(len(json_files))\n",
    "\n",
    "print(jpg_files[0], json_files[0])"
   ]
  },
  {
   "cell_type": "code",
   "execution_count": null,
   "id": "4dbbb635",
   "metadata": {},
   "outputs": [
    {
     "name": "stdout",
     "output_type": "stream",
     "text": [
      "set()\n",
      "set()\n"
     ]
    }
   ],
   "source": [
    "missing_in_lst  = (set(json_files)).difference(set(jpg_files)) \n",
    "print(missing_in_lst)\n",
    "\n",
    "\n",
    "missing_in_Excel  = (set(jpg_files)).difference(set(json_files))\n",
    "print(missing_in_Excel)"
   ]
  },
  {
   "cell_type": "code",
   "execution_count": null,
   "id": "1fc1d291",
   "metadata": {},
   "outputs": [
    {
     "data": {
      "text/html": [
       "<div>\n",
       "<style scoped>\n",
       "    .dataframe tbody tr th:only-of-type {\n",
       "        vertical-align: middle;\n",
       "    }\n",
       "\n",
       "    .dataframe tbody tr th {\n",
       "        vertical-align: top;\n",
       "    }\n",
       "\n",
       "    .dataframe thead th {\n",
       "        text-align: right;\n",
       "    }\n",
       "</style>\n",
       "<table border=\"1\" class=\"dataframe\">\n",
       "  <thead>\n",
       "    <tr style=\"text-align: right;\">\n",
       "      <th></th>\n",
       "      <th>15_SSN_ID</th>\n",
       "      <th>2_Pre_Auth_Num</th>\n",
       "      <th>3_Company</th>\n",
       "      <th>3_Lname</th>\n",
       "      <th>3_FName</th>\n",
       "      <th>3_Address</th>\n",
       "      <th>3_City</th>\n",
       "      <th>3_State</th>\n",
       "      <th>3_Zip</th>\n",
       "      <th>3_Code_ext</th>\n",
       "      <th>...</th>\n",
       "      <th>45_illness/injury</th>\n",
       "      <th>45_Auto_accident</th>\n",
       "      <th>45_Other_accident</th>\n",
       "      <th>14_Sex</th>\n",
       "      <th>14_M</th>\n",
       "      <th>14_F</th>\n",
       "      <th>34_ICDInd</th>\n",
       "      <th>16_Grp_Num</th>\n",
       "      <th>35_NEA</th>\n",
       "      <th>file_name</th>\n",
       "    </tr>\n",
       "  </thead>\n",
       "  <tbody>\n",
       "    <tr>\n",
       "      <th>12288</th>\n",
       "      <td>0</td>\n",
       "      <td>[BLANK]</td>\n",
       "      <td>CIGNA</td>\n",
       "      <td>[BLANK]</td>\n",
       "      <td>[BLANK]</td>\n",
       "      <td>PO BOX 188037</td>\n",
       "      <td>CHATTANOOGA</td>\n",
       "      <td>TN</td>\n",
       "      <td>37422</td>\n",
       "      <td>[BLANK]</td>\n",
       "      <td>...</td>\n",
       "      <td>[BLANK]</td>\n",
       "      <td>[BLANK]</td>\n",
       "      <td>[BLANK]</td>\n",
       "      <td>M</td>\n",
       "      <td>X</td>\n",
       "      <td>[BLANK]</td>\n",
       "      <td>[BLANK]</td>\n",
       "      <td>0631202</td>\n",
       "      <td>[BLANK]</td>\n",
       "      <td>20220231352315604_000.json</td>\n",
       "    </tr>\n",
       "    <tr>\n",
       "      <th>9033</th>\n",
       "      <td>000000000</td>\n",
       "      <td>[BLANK]</td>\n",
       "      <td>CIGNA DENTAL</td>\n",
       "      <td>[BLANK]</td>\n",
       "      <td>[BLANK]</td>\n",
       "      <td>PO BOX 188037</td>\n",
       "      <td>[BLANK]</td>\n",
       "      <td>TN</td>\n",
       "      <td>374228037</td>\n",
       "      <td>[BLANK]</td>\n",
       "      <td>...</td>\n",
       "      <td>[BLANK]</td>\n",
       "      <td>[BLANK]</td>\n",
       "      <td>[BLANK]</td>\n",
       "      <td>M</td>\n",
       "      <td>X</td>\n",
       "      <td>[BLANK]</td>\n",
       "      <td>[BLANK]</td>\n",
       "      <td>[BLANK]</td>\n",
       "      <td>[BLANK]</td>\n",
       "      <td>20220231282306420_000.json</td>\n",
       "    </tr>\n",
       "    <tr>\n",
       "      <th>13728</th>\n",
       "      <td>000000000</td>\n",
       "      <td>[BLANK]</td>\n",
       "      <td>CIGNA</td>\n",
       "      <td>[BLANK]</td>\n",
       "      <td>[BLANK]</td>\n",
       "      <td>[BLANK]</td>\n",
       "      <td>CHATTANOOGA</td>\n",
       "      <td>TN</td>\n",
       "      <td>374227223</td>\n",
       "      <td>[BLANK]</td>\n",
       "      <td>...</td>\n",
       "      <td>[BLANK]</td>\n",
       "      <td>[BLANK]</td>\n",
       "      <td>[BLANK]</td>\n",
       "      <td>M</td>\n",
       "      <td>X</td>\n",
       "      <td>[BLANK]</td>\n",
       "      <td>[BLANK]</td>\n",
       "      <td>3210196</td>\n",
       "      <td>[BLANK]</td>\n",
       "      <td>20220231362305374_000.json</td>\n",
       "    </tr>\n",
       "    <tr>\n",
       "      <th>14716</th>\n",
       "      <td>000001153</td>\n",
       "      <td>[BLANK]</td>\n",
       "      <td>CIGNA</td>\n",
       "      <td>[BLANK]</td>\n",
       "      <td>[BLANK]</td>\n",
       "      <td>PO BOX 188037</td>\n",
       "      <td>[BLANK]</td>\n",
       "      <td>TN</td>\n",
       "      <td>374228037</td>\n",
       "      <td>[BLANK]</td>\n",
       "      <td>...</td>\n",
       "      <td>[BLANK]</td>\n",
       "      <td>[BLANK]</td>\n",
       "      <td>[BLANK]</td>\n",
       "      <td>M</td>\n",
       "      <td>X</td>\n",
       "      <td>[BLANK]</td>\n",
       "      <td>[BLANK]</td>\n",
       "      <td>3338705</td>\n",
       "      <td>[BLANK]</td>\n",
       "      <td>20220231372304917_000.json</td>\n",
       "    </tr>\n",
       "    <tr>\n",
       "      <th>9543</th>\n",
       "      <td>000002040</td>\n",
       "      <td>[BLANK]</td>\n",
       "      <td>CIGNA HEALTHCARE SERVICE CENTER</td>\n",
       "      <td>[BLANK]</td>\n",
       "      <td>[BLANK]</td>\n",
       "      <td>[BLANK]</td>\n",
       "      <td>CHATTANOOGA</td>\n",
       "      <td>TN</td>\n",
       "      <td>374228037</td>\n",
       "      <td>[BLANK]</td>\n",
       "      <td>...</td>\n",
       "      <td>[BLANK]</td>\n",
       "      <td>[BLANK]</td>\n",
       "      <td>[BLANK]</td>\n",
       "      <td>M</td>\n",
       "      <td>X</td>\n",
       "      <td>[BLANK]</td>\n",
       "      <td>[BLANK]</td>\n",
       "      <td>[BLANK]</td>\n",
       "      <td>[BLANK]</td>\n",
       "      <td>20220231322309186_000.json</td>\n",
       "    </tr>\n",
       "    <tr>\n",
       "      <th>...</th>\n",
       "      <td>...</td>\n",
       "      <td>...</td>\n",
       "      <td>...</td>\n",
       "      <td>...</td>\n",
       "      <td>...</td>\n",
       "      <td>...</td>\n",
       "      <td>...</td>\n",
       "      <td>...</td>\n",
       "      <td>...</td>\n",
       "      <td>...</td>\n",
       "      <td>...</td>\n",
       "      <td>...</td>\n",
       "      <td>...</td>\n",
       "      <td>...</td>\n",
       "      <td>...</td>\n",
       "      <td>...</td>\n",
       "      <td>...</td>\n",
       "      <td>...</td>\n",
       "      <td>...</td>\n",
       "      <td>...</td>\n",
       "      <td>...</td>\n",
       "    </tr>\n",
       "    <tr>\n",
       "      <th>13495</th>\n",
       "      <td>XXA982633031</td>\n",
       "      <td>[BLANK]</td>\n",
       "      <td>BLUE CROSS</td>\n",
       "      <td>[BLANK]</td>\n",
       "      <td>[BLANK]</td>\n",
       "      <td>PO BOX 986005</td>\n",
       "      <td>BOSTON</td>\n",
       "      <td>MA</td>\n",
       "      <td>02298</td>\n",
       "      <td>[BLANK]</td>\n",
       "      <td>...</td>\n",
       "      <td>[BLANK]</td>\n",
       "      <td>[BLANK]</td>\n",
       "      <td>[BLANK]</td>\n",
       "      <td>F</td>\n",
       "      <td>[BLANK]</td>\n",
       "      <td>X</td>\n",
       "      <td>[BLANK]</td>\n",
       "      <td>[BLANK]</td>\n",
       "      <td>[BLANK]</td>\n",
       "      <td>20220231362304085_000.json</td>\n",
       "    </tr>\n",
       "    <tr>\n",
       "      <th>15794</th>\n",
       "      <td>YFW073W02291</td>\n",
       "      <td>[BLANK]</td>\n",
       "      <td>ANTHEM DENTAL</td>\n",
       "      <td>[BLANK]</td>\n",
       "      <td>[BLANK]</td>\n",
       "      <td>PO BOX 1115</td>\n",
       "      <td>MINNEAPOLIS</td>\n",
       "      <td>MN</td>\n",
       "      <td>554401115</td>\n",
       "      <td>[BLANK]</td>\n",
       "      <td>...</td>\n",
       "      <td>[BLANK]</td>\n",
       "      <td>[BLANK]</td>\n",
       "      <td>[BLANK]</td>\n",
       "      <td>M</td>\n",
       "      <td>X</td>\n",
       "      <td>[BLANK]</td>\n",
       "      <td>[BLANK]</td>\n",
       "      <td>[BLANK]</td>\n",
       "      <td>[BLANK]</td>\n",
       "      <td>20220231372309355_000.json</td>\n",
       "    </tr>\n",
       "    <tr>\n",
       "      <th>11548</th>\n",
       "      <td>YPU633735100</td>\n",
       "      <td>[BLANK]</td>\n",
       "      <td>MAESTRO HEALTH</td>\n",
       "      <td>[BLANK]</td>\n",
       "      <td>[BLANK]</td>\n",
       "      <td>PO BOX 188061</td>\n",
       "      <td>CHATTANOOGA</td>\n",
       "      <td>TN</td>\n",
       "      <td>37422</td>\n",
       "      <td>[BLANK]</td>\n",
       "      <td>...</td>\n",
       "      <td>[BLANK]</td>\n",
       "      <td>[BLANK]</td>\n",
       "      <td>[BLANK]</td>\n",
       "      <td>F</td>\n",
       "      <td>[BLANK]</td>\n",
       "      <td>X</td>\n",
       "      <td>[BLANK]</td>\n",
       "      <td>[BLANK]</td>\n",
       "      <td>[BLANK]</td>\n",
       "      <td>20220231352310011_000.json</td>\n",
       "    </tr>\n",
       "    <tr>\n",
       "      <th>2615</th>\n",
       "      <td>Z8421862103</td>\n",
       "      <td>[BLANK]</td>\n",
       "      <td>CIGNA DHMO</td>\n",
       "      <td>[BLANK]</td>\n",
       "      <td>[BLANK]</td>\n",
       "      <td>PO BOX 188045</td>\n",
       "      <td>CHATTANOOGA</td>\n",
       "      <td>TN</td>\n",
       "      <td>37422</td>\n",
       "      <td>[BLANK]</td>\n",
       "      <td>...</td>\n",
       "      <td>[BLANK]</td>\n",
       "      <td>[BLANK]</td>\n",
       "      <td>[BLANK]</td>\n",
       "      <td>F</td>\n",
       "      <td>[BLANK]</td>\n",
       "      <td>X</td>\n",
       "      <td>[BLANK]</td>\n",
       "      <td>[BLANK]</td>\n",
       "      <td>[BLANK]</td>\n",
       "      <td>20220231212322994_000.json</td>\n",
       "    </tr>\n",
       "    <tr>\n",
       "      <th>15322</th>\n",
       "      <td>ZVU220234651</td>\n",
       "      <td>[BLANK]</td>\n",
       "      <td>CIGNA DENTAL</td>\n",
       "      <td>[BLANK]</td>\n",
       "      <td>[BLANK]</td>\n",
       "      <td>PO BOX 188037</td>\n",
       "      <td>CHATTANOOGA</td>\n",
       "      <td>TN</td>\n",
       "      <td>374228037</td>\n",
       "      <td>[BLANK]</td>\n",
       "      <td>...</td>\n",
       "      <td>[BLANK]</td>\n",
       "      <td>[BLANK]</td>\n",
       "      <td>[BLANK]</td>\n",
       "      <td>M</td>\n",
       "      <td>X</td>\n",
       "      <td>[BLANK]</td>\n",
       "      <td>[BLANK]</td>\n",
       "      <td>[BLANK]</td>\n",
       "      <td>[BLANK]</td>\n",
       "      <td>20220231372307002_000.json</td>\n",
       "    </tr>\n",
       "  </tbody>\n",
       "</table>\n",
       "<p>18298 rows × 119 columns</p>\n",
       "</div>"
      ],
      "text/plain": [
       "          15_SSN_ID 2_Pre_Auth_Num                        3_Company  3_Lname  \\\n",
       "12288             0        [BLANK]                            CIGNA  [BLANK]   \n",
       "9033      000000000        [BLANK]                     CIGNA DENTAL  [BLANK]   \n",
       "13728     000000000        [BLANK]                            CIGNA  [BLANK]   \n",
       "14716     000001153        [BLANK]                            CIGNA  [BLANK]   \n",
       "9543      000002040        [BLANK]  CIGNA HEALTHCARE SERVICE CENTER  [BLANK]   \n",
       "...             ...            ...                              ...      ...   \n",
       "13495  XXA982633031        [BLANK]                       BLUE CROSS  [BLANK]   \n",
       "15794  YFW073W02291        [BLANK]                    ANTHEM DENTAL  [BLANK]   \n",
       "11548  YPU633735100        [BLANK]                   MAESTRO HEALTH  [BLANK]   \n",
       "2615    Z8421862103        [BLANK]                       CIGNA DHMO  [BLANK]   \n",
       "15322  ZVU220234651        [BLANK]                     CIGNA DENTAL  [BLANK]   \n",
       "\n",
       "       3_FName      3_Address       3_City 3_State      3_Zip 3_Code_ext  ...  \\\n",
       "12288  [BLANK]  PO BOX 188037  CHATTANOOGA      TN      37422    [BLANK]  ...   \n",
       "9033   [BLANK]  PO BOX 188037      [BLANK]      TN  374228037    [BLANK]  ...   \n",
       "13728  [BLANK]        [BLANK]  CHATTANOOGA      TN  374227223    [BLANK]  ...   \n",
       "14716  [BLANK]  PO BOX 188037      [BLANK]      TN  374228037    [BLANK]  ...   \n",
       "9543   [BLANK]        [BLANK]  CHATTANOOGA      TN  374228037    [BLANK]  ...   \n",
       "...        ...            ...          ...     ...        ...        ...  ...   \n",
       "13495  [BLANK]  PO BOX 986005       BOSTON      MA      02298    [BLANK]  ...   \n",
       "15794  [BLANK]    PO BOX 1115  MINNEAPOLIS      MN  554401115    [BLANK]  ...   \n",
       "11548  [BLANK]  PO BOX 188061  CHATTANOOGA      TN      37422    [BLANK]  ...   \n",
       "2615   [BLANK]  PO BOX 188045  CHATTANOOGA      TN      37422    [BLANK]  ...   \n",
       "15322  [BLANK]  PO BOX 188037  CHATTANOOGA      TN  374228037    [BLANK]  ...   \n",
       "\n",
       "      45_illness/injury 45_Auto_accident 45_Other_accident 14_Sex     14_M  \\\n",
       "12288           [BLANK]          [BLANK]           [BLANK]      M        X   \n",
       "9033            [BLANK]          [BLANK]           [BLANK]      M        X   \n",
       "13728           [BLANK]          [BLANK]           [BLANK]      M        X   \n",
       "14716           [BLANK]          [BLANK]           [BLANK]      M        X   \n",
       "9543            [BLANK]          [BLANK]           [BLANK]      M        X   \n",
       "...                 ...              ...               ...    ...      ...   \n",
       "13495           [BLANK]          [BLANK]           [BLANK]      F  [BLANK]   \n",
       "15794           [BLANK]          [BLANK]           [BLANK]      M        X   \n",
       "11548           [BLANK]          [BLANK]           [BLANK]      F  [BLANK]   \n",
       "2615            [BLANK]          [BLANK]           [BLANK]      F  [BLANK]   \n",
       "15322           [BLANK]          [BLANK]           [BLANK]      M        X   \n",
       "\n",
       "          14_F 34_ICDInd 16_Grp_Num   35_NEA                   file_name  \n",
       "12288  [BLANK]   [BLANK]    0631202  [BLANK]  20220231352315604_000.json  \n",
       "9033   [BLANK]   [BLANK]    [BLANK]  [BLANK]  20220231282306420_000.json  \n",
       "13728  [BLANK]   [BLANK]    3210196  [BLANK]  20220231362305374_000.json  \n",
       "14716  [BLANK]   [BLANK]    3338705  [BLANK]  20220231372304917_000.json  \n",
       "9543   [BLANK]   [BLANK]    [BLANK]  [BLANK]  20220231322309186_000.json  \n",
       "...        ...       ...        ...      ...                         ...  \n",
       "13495        X   [BLANK]    [BLANK]  [BLANK]  20220231362304085_000.json  \n",
       "15794  [BLANK]   [BLANK]    [BLANK]  [BLANK]  20220231372309355_000.json  \n",
       "11548        X   [BLANK]    [BLANK]  [BLANK]  20220231352310011_000.json  \n",
       "2615         X   [BLANK]    [BLANK]  [BLANK]  20220231212322994_000.json  \n",
       "15322  [BLANK]   [BLANK]    [BLANK]  [BLANK]  20220231372307002_000.json  \n",
       "\n",
       "[18298 rows x 119 columns]"
      ]
     },
     "execution_count": 93,
     "metadata": {},
     "output_type": "execute_result"
    }
   ],
   "source": [
    "df"
   ]
  },
  {
   "cell_type": "code",
   "execution_count": null,
   "id": "4e5b73f0",
   "metadata": {},
   "outputs": [],
   "source": [
    "remaining = df[~df[\"file_name\"].isin(os.listdir(tr_json_target_dir))]"
   ]
  },
  {
   "cell_type": "code",
   "execution_count": null,
   "id": "9c818fd9",
   "metadata": {},
   "outputs": [
    {
     "data": {
      "text/plain": [
       "3541"
      ]
     },
     "execution_count": 97,
     "metadata": {},
     "output_type": "execute_result"
    }
   ],
   "source": [
    "remaining[\"15_SSN_ID\"].nunique()"
   ]
  },
  {
   "cell_type": "code",
   "execution_count": null,
   "id": "24ad69df",
   "metadata": {},
   "outputs": [
    {
     "data": {
      "text/html": [
       "<div>\n",
       "<style scoped>\n",
       "    .dataframe tbody tr th:only-of-type {\n",
       "        vertical-align: middle;\n",
       "    }\n",
       "\n",
       "    .dataframe tbody tr th {\n",
       "        vertical-align: top;\n",
       "    }\n",
       "\n",
       "    .dataframe thead th {\n",
       "        text-align: right;\n",
       "    }\n",
       "</style>\n",
       "<table border=\"1\" class=\"dataframe\">\n",
       "  <thead>\n",
       "    <tr style=\"text-align: right;\">\n",
       "      <th></th>\n",
       "      <th>15_SSN_ID</th>\n",
       "      <th>2_Pre_Auth_Num</th>\n",
       "      <th>3_Company</th>\n",
       "      <th>3_Lname</th>\n",
       "      <th>3_FName</th>\n",
       "      <th>3_Address</th>\n",
       "      <th>3_City</th>\n",
       "      <th>3_State</th>\n",
       "      <th>3_Zip</th>\n",
       "      <th>3_Code_ext</th>\n",
       "      <th>...</th>\n",
       "      <th>45_illness/injury</th>\n",
       "      <th>45_Auto_accident</th>\n",
       "      <th>45_Other_accident</th>\n",
       "      <th>14_Sex</th>\n",
       "      <th>14_M</th>\n",
       "      <th>14_F</th>\n",
       "      <th>34_ICDInd</th>\n",
       "      <th>16_Grp_Num</th>\n",
       "      <th>35_NEA</th>\n",
       "      <th>file_name</th>\n",
       "    </tr>\n",
       "  </thead>\n",
       "  <tbody>\n",
       "    <tr>\n",
       "      <th>10833</th>\n",
       "      <td>000002720</td>\n",
       "      <td>[BLANK]</td>\n",
       "      <td>CIGNA DENTAL</td>\n",
       "      <td>[BLANK]</td>\n",
       "      <td>[BLANK]</td>\n",
       "      <td>PO BOX 188037</td>\n",
       "      <td>CHATTANOOGA</td>\n",
       "      <td>TN</td>\n",
       "      <td>374228037</td>\n",
       "      <td>[BLANK]</td>\n",
       "      <td>...</td>\n",
       "      <td>[BLANK]</td>\n",
       "      <td>[BLANK]</td>\n",
       "      <td>[BLANK]</td>\n",
       "      <td>M</td>\n",
       "      <td>X</td>\n",
       "      <td>R</td>\n",
       "      <td>[BLANK]</td>\n",
       "      <td>3338705</td>\n",
       "      <td>[BLANK]</td>\n",
       "      <td>20220231332314938_000.json</td>\n",
       "    </tr>\n",
       "    <tr>\n",
       "      <th>6851</th>\n",
       "      <td>000002935</td>\n",
       "      <td>[BLANK]</td>\n",
       "      <td>CIGNA</td>\n",
       "      <td>[BLANK]</td>\n",
       "      <td>[BLANK]</td>\n",
       "      <td>[BLANK]</td>\n",
       "      <td>[BLANK]</td>\n",
       "      <td>TN</td>\n",
       "      <td>[BLANK]</td>\n",
       "      <td>[BLANK]</td>\n",
       "      <td>...</td>\n",
       "      <td>[BLANK]</td>\n",
       "      <td>[BLANK]</td>\n",
       "      <td>[BLANK]</td>\n",
       "      <td>M</td>\n",
       "      <td>X</td>\n",
       "      <td>[BLANK]</td>\n",
       "      <td>[BLANK]</td>\n",
       "      <td>3342018</td>\n",
       "      <td>[BLANK]</td>\n",
       "      <td>20220231252309370_000.json</td>\n",
       "    </tr>\n",
       "    <tr>\n",
       "      <th>7583</th>\n",
       "      <td>000003227</td>\n",
       "      <td>[BLANK]</td>\n",
       "      <td>CIGNA</td>\n",
       "      <td>[BLANK]</td>\n",
       "      <td>[BLANK]</td>\n",
       "      <td>PO BOX 188037</td>\n",
       "      <td>CHATTANOOGA</td>\n",
       "      <td>TN</td>\n",
       "      <td>37422</td>\n",
       "      <td>[BLANK]</td>\n",
       "      <td>...</td>\n",
       "      <td>[BLANK]</td>\n",
       "      <td>[BLANK]</td>\n",
       "      <td>[BLANK]</td>\n",
       "      <td>F</td>\n",
       "      <td>[BLANK]</td>\n",
       "      <td>X</td>\n",
       "      <td>[BLANK]</td>\n",
       "      <td>[BLANK]</td>\n",
       "      <td>[BLANK]</td>\n",
       "      <td>20220231262308191_000.json</td>\n",
       "    </tr>\n",
       "    <tr>\n",
       "      <th>14201</th>\n",
       "      <td>000007436</td>\n",
       "      <td>[BLANK]</td>\n",
       "      <td>CIGNA</td>\n",
       "      <td>[BLANK]</td>\n",
       "      <td>[BLANK]</td>\n",
       "      <td>PO BOX 188037</td>\n",
       "      <td>CHATTANOOGA</td>\n",
       "      <td>TN</td>\n",
       "      <td>[BLANK]</td>\n",
       "      <td>[BLANK]</td>\n",
       "      <td>...</td>\n",
       "      <td>[BLANK]</td>\n",
       "      <td>[BLANK]</td>\n",
       "      <td>[BLANK]</td>\n",
       "      <td>M</td>\n",
       "      <td>X</td>\n",
       "      <td>[BLANK]</td>\n",
       "      <td>[BLANK]</td>\n",
       "      <td>[BLANK]</td>\n",
       "      <td>[BLANK]</td>\n",
       "      <td>20220231362307016_000.json</td>\n",
       "    </tr>\n",
       "    <tr>\n",
       "      <th>10425</th>\n",
       "      <td>000019199</td>\n",
       "      <td>[BLANK]</td>\n",
       "      <td>CIGNA</td>\n",
       "      <td>[BLANK]</td>\n",
       "      <td>[BLANK]</td>\n",
       "      <td>[BLANK]</td>\n",
       "      <td>[BLANK]</td>\n",
       "      <td>[BLANK]</td>\n",
       "      <td>[BLANK]</td>\n",
       "      <td>[BLANK]</td>\n",
       "      <td>...</td>\n",
       "      <td>[BLANK]</td>\n",
       "      <td>[BLANK]</td>\n",
       "      <td>[BLANK]</td>\n",
       "      <td>F</td>\n",
       "      <td>[BLANK]</td>\n",
       "      <td>X</td>\n",
       "      <td>[BLANK]</td>\n",
       "      <td>3341916</td>\n",
       "      <td>[BLANK]</td>\n",
       "      <td>20220231332312955_000.json</td>\n",
       "    </tr>\n",
       "    <tr>\n",
       "      <th>...</th>\n",
       "      <td>...</td>\n",
       "      <td>...</td>\n",
       "      <td>...</td>\n",
       "      <td>...</td>\n",
       "      <td>...</td>\n",
       "      <td>...</td>\n",
       "      <td>...</td>\n",
       "      <td>...</td>\n",
       "      <td>...</td>\n",
       "      <td>...</td>\n",
       "      <td>...</td>\n",
       "      <td>...</td>\n",
       "      <td>...</td>\n",
       "      <td>...</td>\n",
       "      <td>...</td>\n",
       "      <td>...</td>\n",
       "      <td>...</td>\n",
       "      <td>...</td>\n",
       "      <td>...</td>\n",
       "      <td>...</td>\n",
       "      <td>...</td>\n",
       "    </tr>\n",
       "    <tr>\n",
       "      <th>9414</th>\n",
       "      <td>U90150512</td>\n",
       "      <td>[BLANK]</td>\n",
       "      <td>CIGNA</td>\n",
       "      <td>[BLANK]</td>\n",
       "      <td>[BLANK]</td>\n",
       "      <td>[BLANK]</td>\n",
       "      <td>[BLANK]</td>\n",
       "      <td>[BLANK]</td>\n",
       "      <td>[BLANK]</td>\n",
       "      <td>[BLANK]</td>\n",
       "      <td>...</td>\n",
       "      <td>[BLANK]</td>\n",
       "      <td>[BLANK]</td>\n",
       "      <td>[BLANK]</td>\n",
       "      <td>F</td>\n",
       "      <td>[BLANK]</td>\n",
       "      <td>X</td>\n",
       "      <td>[BLANK]</td>\n",
       "      <td>[BLANK]</td>\n",
       "      <td>[BLANK]</td>\n",
       "      <td>20220231282308519_000.json</td>\n",
       "    </tr>\n",
       "    <tr>\n",
       "      <th>13727</th>\n",
       "      <td>W262830621</td>\n",
       "      <td>[BLANK]</td>\n",
       "      <td>CIGNA HEALTHCARE OF TN</td>\n",
       "      <td>[BLANK]</td>\n",
       "      <td>[BLANK]</td>\n",
       "      <td>PO BOX 182223</td>\n",
       "      <td>CHATTANOOGA</td>\n",
       "      <td>TN</td>\n",
       "      <td>37422</td>\n",
       "      <td>[BLANK]</td>\n",
       "      <td>...</td>\n",
       "      <td>[BLANK]</td>\n",
       "      <td>[BLANK]</td>\n",
       "      <td>[BLANK]</td>\n",
       "      <td>M</td>\n",
       "      <td>X</td>\n",
       "      <td>[BLANK]</td>\n",
       "      <td>[BLANK]</td>\n",
       "      <td>[BLANK]</td>\n",
       "      <td>[BLANK]</td>\n",
       "      <td>20220231362305373_000.json</td>\n",
       "    </tr>\n",
       "    <tr>\n",
       "      <th>3949</th>\n",
       "      <td>W270116903</td>\n",
       "      <td>[BLANK]</td>\n",
       "      <td>AETNA</td>\n",
       "      <td>[BLANK]</td>\n",
       "      <td>[BLANK]</td>\n",
       "      <td>[BLANK]</td>\n",
       "      <td>[BLANK]</td>\n",
       "      <td>KY</td>\n",
       "      <td>405124079</td>\n",
       "      <td>[BLANK]</td>\n",
       "      <td>...</td>\n",
       "      <td>[BLANK]</td>\n",
       "      <td>[BLANK]</td>\n",
       "      <td>[BLANK]</td>\n",
       "      <td>F</td>\n",
       "      <td>[BLANK]</td>\n",
       "      <td>X</td>\n",
       "      <td>[BLANK]</td>\n",
       "      <td>[BLANK]</td>\n",
       "      <td>[BLANK]</td>\n",
       "      <td>20220231222309473_000.json</td>\n",
       "    </tr>\n",
       "    <tr>\n",
       "      <th>6766</th>\n",
       "      <td>W279391027</td>\n",
       "      <td>[BLANK]</td>\n",
       "      <td>AETNA</td>\n",
       "      <td>[BLANK]</td>\n",
       "      <td>[BLANK]</td>\n",
       "      <td>[BLANK]</td>\n",
       "      <td>[BLANK]</td>\n",
       "      <td>KY</td>\n",
       "      <td>[BLANK]</td>\n",
       "      <td>[BLANK]</td>\n",
       "      <td>...</td>\n",
       "      <td>[BLANK]</td>\n",
       "      <td>[BLANK]</td>\n",
       "      <td>[BLANK]</td>\n",
       "      <td>M</td>\n",
       "      <td>X</td>\n",
       "      <td>[BLANK]</td>\n",
       "      <td>[BLANK]</td>\n",
       "      <td>[BLANK]</td>\n",
       "      <td>[BLANK]</td>\n",
       "      <td>20220231252308968_000.json</td>\n",
       "    </tr>\n",
       "    <tr>\n",
       "      <th>9919</th>\n",
       "      <td>X</td>\n",
       "      <td>[BLANK]</td>\n",
       "      <td>CIGNA</td>\n",
       "      <td>[BLANK]</td>\n",
       "      <td>[BLANK]</td>\n",
       "      <td>POBOX 188037</td>\n",
       "      <td>CHATTANOOGA</td>\n",
       "      <td>TN</td>\n",
       "      <td>374228037</td>\n",
       "      <td>[BLANK]</td>\n",
       "      <td>...</td>\n",
       "      <td>[BLANK]</td>\n",
       "      <td>[BLANK]</td>\n",
       "      <td>[BLANK]</td>\n",
       "      <td>F</td>\n",
       "      <td>[BLANK]</td>\n",
       "      <td>X</td>\n",
       "      <td>[BLANK]</td>\n",
       "      <td>3341259</td>\n",
       "      <td>[BLANK]</td>\n",
       "      <td>20220231332309124_000.json</td>\n",
       "    </tr>\n",
       "  </tbody>\n",
       "</table>\n",
       "<p>3779 rows × 119 columns</p>\n",
       "</div>"
      ],
      "text/plain": [
       "        15_SSN_ID 2_Pre_Auth_Num               3_Company  3_Lname  3_FName  \\\n",
       "10833   000002720        [BLANK]            CIGNA DENTAL  [BLANK]  [BLANK]   \n",
       "6851    000002935        [BLANK]                   CIGNA  [BLANK]  [BLANK]   \n",
       "7583    000003227        [BLANK]                   CIGNA  [BLANK]  [BLANK]   \n",
       "14201   000007436        [BLANK]                   CIGNA  [BLANK]  [BLANK]   \n",
       "10425   000019199        [BLANK]                   CIGNA  [BLANK]  [BLANK]   \n",
       "...           ...            ...                     ...      ...      ...   \n",
       "9414    U90150512        [BLANK]                   CIGNA  [BLANK]  [BLANK]   \n",
       "13727  W262830621        [BLANK]  CIGNA HEALTHCARE OF TN  [BLANK]  [BLANK]   \n",
       "3949   W270116903        [BLANK]                   AETNA  [BLANK]  [BLANK]   \n",
       "6766   W279391027        [BLANK]                   AETNA  [BLANK]  [BLANK]   \n",
       "9919            X        [BLANK]                   CIGNA  [BLANK]  [BLANK]   \n",
       "\n",
       "           3_Address       3_City  3_State      3_Zip 3_Code_ext  ...  \\\n",
       "10833  PO BOX 188037  CHATTANOOGA       TN  374228037    [BLANK]  ...   \n",
       "6851         [BLANK]      [BLANK]       TN    [BLANK]    [BLANK]  ...   \n",
       "7583   PO BOX 188037  CHATTANOOGA       TN      37422    [BLANK]  ...   \n",
       "14201  PO BOX 188037  CHATTANOOGA       TN    [BLANK]    [BLANK]  ...   \n",
       "10425        [BLANK]      [BLANK]  [BLANK]    [BLANK]    [BLANK]  ...   \n",
       "...              ...          ...      ...        ...        ...  ...   \n",
       "9414         [BLANK]      [BLANK]  [BLANK]    [BLANK]    [BLANK]  ...   \n",
       "13727  PO BOX 182223  CHATTANOOGA       TN      37422    [BLANK]  ...   \n",
       "3949         [BLANK]      [BLANK]       KY  405124079    [BLANK]  ...   \n",
       "6766         [BLANK]      [BLANK]       KY    [BLANK]    [BLANK]  ...   \n",
       "9919    POBOX 188037  CHATTANOOGA       TN  374228037    [BLANK]  ...   \n",
       "\n",
       "      45_illness/injury 45_Auto_accident 45_Other_accident 14_Sex     14_M  \\\n",
       "10833           [BLANK]          [BLANK]           [BLANK]      M        X   \n",
       "6851            [BLANK]          [BLANK]           [BLANK]      M        X   \n",
       "7583            [BLANK]          [BLANK]           [BLANK]      F  [BLANK]   \n",
       "14201           [BLANK]          [BLANK]           [BLANK]      M        X   \n",
       "10425           [BLANK]          [BLANK]           [BLANK]      F  [BLANK]   \n",
       "...                 ...              ...               ...    ...      ...   \n",
       "9414            [BLANK]          [BLANK]           [BLANK]      F  [BLANK]   \n",
       "13727           [BLANK]          [BLANK]           [BLANK]      M        X   \n",
       "3949            [BLANK]          [BLANK]           [BLANK]      F  [BLANK]   \n",
       "6766            [BLANK]          [BLANK]           [BLANK]      M        X   \n",
       "9919            [BLANK]          [BLANK]           [BLANK]      F  [BLANK]   \n",
       "\n",
       "          14_F 34_ICDInd 16_Grp_Num   35_NEA                   file_name  \n",
       "10833        R   [BLANK]    3338705  [BLANK]  20220231332314938_000.json  \n",
       "6851   [BLANK]   [BLANK]    3342018  [BLANK]  20220231252309370_000.json  \n",
       "7583         X   [BLANK]    [BLANK]  [BLANK]  20220231262308191_000.json  \n",
       "14201  [BLANK]   [BLANK]    [BLANK]  [BLANK]  20220231362307016_000.json  \n",
       "10425        X   [BLANK]    3341916  [BLANK]  20220231332312955_000.json  \n",
       "...        ...       ...        ...      ...                         ...  \n",
       "9414         X   [BLANK]    [BLANK]  [BLANK]  20220231282308519_000.json  \n",
       "13727  [BLANK]   [BLANK]    [BLANK]  [BLANK]  20220231362305373_000.json  \n",
       "3949         X   [BLANK]    [BLANK]  [BLANK]  20220231222309473_000.json  \n",
       "6766   [BLANK]   [BLANK]    [BLANK]  [BLANK]  20220231252308968_000.json  \n",
       "9919         X   [BLANK]    3341259  [BLANK]  20220231332309124_000.json  \n",
       "\n",
       "[3779 rows x 119 columns]"
      ]
     },
     "execution_count": 100,
     "metadata": {},
     "output_type": "execute_result"
    }
   ],
   "source": [
    "remaining = remaining.sort_values(by='15_SSN_ID')\n",
    "remaining"
   ]
  },
  {
   "cell_type": "code",
   "execution_count": null,
   "id": "068c5686",
   "metadata": {},
   "outputs": [],
   "source": [
    "validation_split = remaining[:1200]\n",
    "test_split =  remaining[1200:]"
   ]
  },
  {
   "cell_type": "code",
   "execution_count": null,
   "id": "e7f12bb8",
   "metadata": {},
   "outputs": [
    {
     "data": {
      "text/plain": [
       "2408"
      ]
     },
     "execution_count": 112,
     "metadata": {},
     "output_type": "execute_result"
    }
   ],
   "source": [
    "validation_split[\"15_SSN_ID\"].nunique()\n",
    "test_split[\"15_SSN_ID\"].nunique()"
   ]
  },
  {
   "cell_type": "code",
   "execution_count": null,
   "id": "1d2a36a1",
   "metadata": {},
   "outputs": [],
   "source": []
  },
  {
   "cell_type": "code",
   "execution_count": null,
   "id": "27b3948a",
   "metadata": {},
   "outputs": [],
   "source": [
    "vl_img_target_dir =  r'D:\\Xelp_work\\Ins_Datasets\\Ada_data\\ADA_Training_data\\val\\img'\n",
    "vl_json_target_dir = r'D:\\Xelp_work\\Ins_Datasets\\Ada_data\\ADA_Training_data\\val\\key'\n",
    "\n",
    "test_img_target_dir =  r'D:\\Xelp_work\\Ins_Datasets\\Ada_data\\ADA_Training_data\\test\\img'\n",
    "test_json_target_dir = r'D:\\Xelp_work\\Ins_Datasets\\Ada_data\\ADA_Training_data\\test\\key'"
   ]
  },
  {
   "cell_type": "code",
   "execution_count": null,
   "id": "98a53519",
   "metadata": {},
   "outputs": [],
   "source": [
    "val_images_list = validation_split[\"file_name\"].tolist()\n",
    "test_images_list = test_split[\"file_name\"].tolist()"
   ]
  },
  {
   "cell_type": "code",
   "execution_count": null,
   "id": "a1b49982",
   "metadata": {},
   "outputs": [
    {
     "name": "stderr",
     "output_type": "stream",
     "text": [
      "100%|█████████████████████████████████████████████████████████████████████████████| 2579/2579 [00:02<00:00, 959.82it/s]\n"
     ]
    }
   ],
   "source": [
    "for each_file_name in tqdm(test_images_list):\n",
    "    source_im_path = os.path.join(img_source_dir, each_file_name[:-4]+\"jpg\")\n",
    "    source_json_path = os.path.join(json_source_dir, each_file_name)\n",
    "    try:\n",
    "        shutil.move(source_im_path, test_img_target_dir)\n",
    "        shutil.move(source_json_path, test_json_target_dir)\n",
    "    except:\n",
    "        pass\n",
    "#     break"
   ]
  },
  {
   "cell_type": "code",
   "execution_count": 91,
   "id": "de64ee22",
   "metadata": {},
   "outputs": [
    {
     "name": "stdout",
     "output_type": "stream",
     "text": [
      "D:\\Xelp_work\\Ins_Datasets\\Ada_data\\ADA_Training_data\\test\\img\\20220231192308248_000.jpg D:\\Xelp_work\\Ins_Datasets\\Ada_data\\ADA_Training_data\\test\\key\\20220231192308248_000.json\n",
      "D:\\Xelp_work\\Ins_Datasets\\Ada_data\\ADA_Training_data\\test\\img\\20220231212306063_000.jpg D:\\Xelp_work\\Ins_Datasets\\Ada_data\\ADA_Training_data\\test\\key\\20220231212306063_000.json\n",
      "D:\\Xelp_work\\Ins_Datasets\\Ada_data\\ADA_Training_data\\test\\img\\20220231212306065_000.jpg D:\\Xelp_work\\Ins_Datasets\\Ada_data\\ADA_Training_data\\test\\key\\20220231212306065_000.json\n",
      "D:\\Xelp_work\\Ins_Datasets\\Ada_data\\ADA_Training_data\\test\\img\\20220231212307146_000.jpg D:\\Xelp_work\\Ins_Datasets\\Ada_data\\ADA_Training_data\\test\\key\\20220231212307146_000.json\n",
      "D:\\Xelp_work\\Ins_Datasets\\Ada_data\\ADA_Training_data\\test\\img\\20220231212307148_000.jpg D:\\Xelp_work\\Ins_Datasets\\Ada_data\\ADA_Training_data\\test\\key\\20220231212307148_000.json\n",
      "D:\\Xelp_work\\Ins_Datasets\\Ada_data\\ADA_Training_data\\test\\img\\20220231212307220_000.jpg D:\\Xelp_work\\Ins_Datasets\\Ada_data\\ADA_Training_data\\test\\key\\20220231212307220_000.json\n",
      "D:\\Xelp_work\\Ins_Datasets\\Ada_data\\ADA_Training_data\\test\\img\\20220231212307221_000.jpg D:\\Xelp_work\\Ins_Datasets\\Ada_data\\ADA_Training_data\\test\\key\\20220231212307221_000.json\n",
      "D:\\Xelp_work\\Ins_Datasets\\Ada_data\\ADA_Training_data\\test\\img\\20220231212308216_000.jpg D:\\Xelp_work\\Ins_Datasets\\Ada_data\\ADA_Training_data\\test\\key\\20220231212308216_000.json\n",
      "D:\\Xelp_work\\Ins_Datasets\\Ada_data\\ADA_Training_data\\test\\img\\20220231212308217_000.jpg D:\\Xelp_work\\Ins_Datasets\\Ada_data\\ADA_Training_data\\test\\key\\20220231212308217_000.json\n",
      "D:\\Xelp_work\\Ins_Datasets\\Ada_data\\ADA_Training_data\\test\\img\\20220231212308635_000.jpg D:\\Xelp_work\\Ins_Datasets\\Ada_data\\ADA_Training_data\\test\\key\\20220231212308635_000.json\n",
      "D:\\Xelp_work\\Ins_Datasets\\Ada_data\\ADA_Training_data\\test\\img\\20220231212308829_000.jpg D:\\Xelp_work\\Ins_Datasets\\Ada_data\\ADA_Training_data\\test\\key\\20220231212308829_000.json\n",
      "D:\\Xelp_work\\Ins_Datasets\\Ada_data\\ADA_Training_data\\test\\img\\20220231212309082_000.jpg D:\\Xelp_work\\Ins_Datasets\\Ada_data\\ADA_Training_data\\test\\key\\20220231212309082_000.json\n",
      "D:\\Xelp_work\\Ins_Datasets\\Ada_data\\ADA_Training_data\\test\\img\\20220231212309100_000.jpg D:\\Xelp_work\\Ins_Datasets\\Ada_data\\ADA_Training_data\\test\\key\\20220231212309100_000.json\n",
      "D:\\Xelp_work\\Ins_Datasets\\Ada_data\\ADA_Training_data\\test\\img\\20220231212309135_000.jpg D:\\Xelp_work\\Ins_Datasets\\Ada_data\\ADA_Training_data\\test\\key\\20220231212309135_000.json\n",
      "D:\\Xelp_work\\Ins_Datasets\\Ada_data\\ADA_Training_data\\test\\img\\20220231212309288_000.jpg D:\\Xelp_work\\Ins_Datasets\\Ada_data\\ADA_Training_data\\test\\key\\20220231212309288_000.json\n",
      "D:\\Xelp_work\\Ins_Datasets\\Ada_data\\ADA_Training_data\\test\\img\\20220231212309406_000.jpg D:\\Xelp_work\\Ins_Datasets\\Ada_data\\ADA_Training_data\\test\\key\\20220231212309406_000.json\n",
      "D:\\Xelp_work\\Ins_Datasets\\Ada_data\\ADA_Training_data\\test\\img\\20220231212309408_000.jpg D:\\Xelp_work\\Ins_Datasets\\Ada_data\\ADA_Training_data\\test\\key\\20220231212309408_000.json\n",
      "D:\\Xelp_work\\Ins_Datasets\\Ada_data\\ADA_Training_data\\test\\img\\20220231212309414_000.jpg D:\\Xelp_work\\Ins_Datasets\\Ada_data\\ADA_Training_data\\test\\key\\20220231212309414_000.json\n",
      "D:\\Xelp_work\\Ins_Datasets\\Ada_data\\ADA_Training_data\\test\\img\\20220231212309764_000.jpg D:\\Xelp_work\\Ins_Datasets\\Ada_data\\ADA_Training_data\\test\\key\\20220231212309764_000.json\n",
      "D:\\Xelp_work\\Ins_Datasets\\Ada_data\\ADA_Training_data\\test\\img\\20220231212309974_000.jpg D:\\Xelp_work\\Ins_Datasets\\Ada_data\\ADA_Training_data\\test\\key\\20220231212309974_000.json\n",
      "Deleted\n",
      "D:\\Xelp_work\\Ins_Datasets\\Ada_data\\ADA_Training_data\\test\\img\\20220231212309975_000.jpg D:\\Xelp_work\\Ins_Datasets\\Ada_data\\ADA_Training_data\\test\\key\\20220231212309975_000.json\n",
      "Deleted\n",
      "D:\\Xelp_work\\Ins_Datasets\\Ada_data\\ADA_Training_data\\test\\img\\20220231212310050_000.jpg D:\\Xelp_work\\Ins_Datasets\\Ada_data\\ADA_Training_data\\test\\key\\20220231212310050_000.json\n",
      "D:\\Xelp_work\\Ins_Datasets\\Ada_data\\ADA_Training_data\\test\\img\\20220231212310214_000.jpg D:\\Xelp_work\\Ins_Datasets\\Ada_data\\ADA_Training_data\\test\\key\\20220231212310214_000.json\n",
      "D:\\Xelp_work\\Ins_Datasets\\Ada_data\\ADA_Training_data\\test\\img\\20220231212311242_000.jpg D:\\Xelp_work\\Ins_Datasets\\Ada_data\\ADA_Training_data\\test\\key\\20220231212311242_000.json\n",
      "D:\\Xelp_work\\Ins_Datasets\\Ada_data\\ADA_Training_data\\test\\img\\20220231212311393_000.jpg D:\\Xelp_work\\Ins_Datasets\\Ada_data\\ADA_Training_data\\test\\key\\20220231212311393_000.json\n",
      "D:\\Xelp_work\\Ins_Datasets\\Ada_data\\ADA_Training_data\\test\\img\\20220231212311586_000.jpg D:\\Xelp_work\\Ins_Datasets\\Ada_data\\ADA_Training_data\\test\\key\\20220231212311586_000.json\n",
      "D:\\Xelp_work\\Ins_Datasets\\Ada_data\\ADA_Training_data\\test\\img\\20220231212312021_000.jpg D:\\Xelp_work\\Ins_Datasets\\Ada_data\\ADA_Training_data\\test\\key\\20220231212312021_000.json\n",
      "D:\\Xelp_work\\Ins_Datasets\\Ada_data\\ADA_Training_data\\test\\img\\20220231212312022_000.jpg D:\\Xelp_work\\Ins_Datasets\\Ada_data\\ADA_Training_data\\test\\key\\20220231212312022_000.json\n",
      "D:\\Xelp_work\\Ins_Datasets\\Ada_data\\ADA_Training_data\\test\\img\\20220231212313001_000.jpg D:\\Xelp_work\\Ins_Datasets\\Ada_data\\ADA_Training_data\\test\\key\\20220231212313001_000.json\n",
      "D:\\Xelp_work\\Ins_Datasets\\Ada_data\\ADA_Training_data\\test\\img\\20220231212313099_000.jpg D:\\Xelp_work\\Ins_Datasets\\Ada_data\\ADA_Training_data\\test\\key\\20220231212313099_000.json\n",
      "Deleted\n",
      "D:\\Xelp_work\\Ins_Datasets\\Ada_data\\ADA_Training_data\\test\\img\\20220231212313125_000.jpg D:\\Xelp_work\\Ins_Datasets\\Ada_data\\ADA_Training_data\\test\\key\\20220231212313125_000.json\n",
      "D:\\Xelp_work\\Ins_Datasets\\Ada_data\\ADA_Training_data\\test\\img\\20220231212314019_000.jpg D:\\Xelp_work\\Ins_Datasets\\Ada_data\\ADA_Training_data\\test\\key\\20220231212314019_000.json\n",
      "D:\\Xelp_work\\Ins_Datasets\\Ada_data\\ADA_Training_data\\test\\img\\20220231212314934_000.jpg D:\\Xelp_work\\Ins_Datasets\\Ada_data\\ADA_Training_data\\test\\key\\20220231212314934_000.json\n",
      "D:\\Xelp_work\\Ins_Datasets\\Ada_data\\ADA_Training_data\\test\\img\\20220231212314941_000.jpg D:\\Xelp_work\\Ins_Datasets\\Ada_data\\ADA_Training_data\\test\\key\\20220231212314941_000.json\n",
      "D:\\Xelp_work\\Ins_Datasets\\Ada_data\\ADA_Training_data\\test\\img\\20220231212315540_000.jpg D:\\Xelp_work\\Ins_Datasets\\Ada_data\\ADA_Training_data\\test\\key\\20220231212315540_000.json\n",
      "D:\\Xelp_work\\Ins_Datasets\\Ada_data\\ADA_Training_data\\test\\img\\20220231212316894_000.jpg D:\\Xelp_work\\Ins_Datasets\\Ada_data\\ADA_Training_data\\test\\key\\20220231212316894_000.json\n",
      "D:\\Xelp_work\\Ins_Datasets\\Ada_data\\ADA_Training_data\\test\\img\\20220231212316989_000.jpg D:\\Xelp_work\\Ins_Datasets\\Ada_data\\ADA_Training_data\\test\\key\\20220231212316989_000.json\n",
      "D:\\Xelp_work\\Ins_Datasets\\Ada_data\\ADA_Training_data\\test\\img\\20220231212317055_000.jpg D:\\Xelp_work\\Ins_Datasets\\Ada_data\\ADA_Training_data\\test\\key\\20220231212317055_000.json\n",
      "Deleted\n",
      "D:\\Xelp_work\\Ins_Datasets\\Ada_data\\ADA_Training_data\\test\\img\\20220231212317083_000.jpg D:\\Xelp_work\\Ins_Datasets\\Ada_data\\ADA_Training_data\\test\\key\\20220231212317083_000.json\n",
      "D:\\Xelp_work\\Ins_Datasets\\Ada_data\\ADA_Training_data\\test\\img\\20220231212317147_000.jpg D:\\Xelp_work\\Ins_Datasets\\Ada_data\\ADA_Training_data\\test\\key\\20220231212317147_000.json\n",
      "D:\\Xelp_work\\Ins_Datasets\\Ada_data\\ADA_Training_data\\test\\img\\20220231212317245_000.jpg D:\\Xelp_work\\Ins_Datasets\\Ada_data\\ADA_Training_data\\test\\key\\20220231212317245_000.json\n",
      "D:\\Xelp_work\\Ins_Datasets\\Ada_data\\ADA_Training_data\\test\\img\\20220231212317522_000.jpg D:\\Xelp_work\\Ins_Datasets\\Ada_data\\ADA_Training_data\\test\\key\\20220231212317522_000.json\n",
      "D:\\Xelp_work\\Ins_Datasets\\Ada_data\\ADA_Training_data\\test\\img\\20220231212317556_000.jpg D:\\Xelp_work\\Ins_Datasets\\Ada_data\\ADA_Training_data\\test\\key\\20220231212317556_000.json\n",
      "D:\\Xelp_work\\Ins_Datasets\\Ada_data\\ADA_Training_data\\test\\img\\20220231212317696_000.jpg D:\\Xelp_work\\Ins_Datasets\\Ada_data\\ADA_Training_data\\test\\key\\20220231212317696_000.json\n",
      "D:\\Xelp_work\\Ins_Datasets\\Ada_data\\ADA_Training_data\\test\\img\\20220231212317803_000.jpg D:\\Xelp_work\\Ins_Datasets\\Ada_data\\ADA_Training_data\\test\\key\\20220231212317803_000.json\n",
      "D:\\Xelp_work\\Ins_Datasets\\Ada_data\\ADA_Training_data\\test\\img\\20220231212318934_000.jpg D:\\Xelp_work\\Ins_Datasets\\Ada_data\\ADA_Training_data\\test\\key\\20220231212318934_000.json\n",
      "Deleted\n",
      "D:\\Xelp_work\\Ins_Datasets\\Ada_data\\ADA_Training_data\\test\\img\\20220231212318975_000.jpg D:\\Xelp_work\\Ins_Datasets\\Ada_data\\ADA_Training_data\\test\\key\\20220231212318975_000.json\n",
      "D:\\Xelp_work\\Ins_Datasets\\Ada_data\\ADA_Training_data\\test\\img\\20220231212319006_000.jpg D:\\Xelp_work\\Ins_Datasets\\Ada_data\\ADA_Training_data\\test\\key\\20220231212319006_000.json\n",
      "Deleted\n",
      "D:\\Xelp_work\\Ins_Datasets\\Ada_data\\ADA_Training_data\\test\\img\\20220231212319084_000.jpg D:\\Xelp_work\\Ins_Datasets\\Ada_data\\ADA_Training_data\\test\\key\\20220231212319084_000.json\n",
      "D:\\Xelp_work\\Ins_Datasets\\Ada_data\\ADA_Training_data\\test\\img\\20220231212319165_000.jpg D:\\Xelp_work\\Ins_Datasets\\Ada_data\\ADA_Training_data\\test\\key\\20220231212319165_000.json\n",
      "D:\\Xelp_work\\Ins_Datasets\\Ada_data\\ADA_Training_data\\test\\img\\20220231212320318_000.jpg D:\\Xelp_work\\Ins_Datasets\\Ada_data\\ADA_Training_data\\test\\key\\20220231212320318_000.json\n",
      "D:\\Xelp_work\\Ins_Datasets\\Ada_data\\ADA_Training_data\\test\\img\\20220231212320805_000.jpg D:\\Xelp_work\\Ins_Datasets\\Ada_data\\ADA_Training_data\\test\\key\\20220231212320805_000.json\n",
      "D:\\Xelp_work\\Ins_Datasets\\Ada_data\\ADA_Training_data\\test\\img\\20220231212321198_000.jpg D:\\Xelp_work\\Ins_Datasets\\Ada_data\\ADA_Training_data\\test\\key\\20220231212321198_000.json\n",
      "D:\\Xelp_work\\Ins_Datasets\\Ada_data\\ADA_Training_data\\test\\img\\20220231212321433_000.jpg D:\\Xelp_work\\Ins_Datasets\\Ada_data\\ADA_Training_data\\test\\key\\20220231212321433_000.json\n",
      "D:\\Xelp_work\\Ins_Datasets\\Ada_data\\ADA_Training_data\\test\\img\\20220231212321999_000.jpg D:\\Xelp_work\\Ins_Datasets\\Ada_data\\ADA_Training_data\\test\\key\\20220231212321999_000.json\n",
      "D:\\Xelp_work\\Ins_Datasets\\Ada_data\\ADA_Training_data\\test\\img\\20220231212322019_000.jpg D:\\Xelp_work\\Ins_Datasets\\Ada_data\\ADA_Training_data\\test\\key\\20220231212322019_000.json\n",
      "D:\\Xelp_work\\Ins_Datasets\\Ada_data\\ADA_Training_data\\test\\img\\20220231212322243_000.jpg D:\\Xelp_work\\Ins_Datasets\\Ada_data\\ADA_Training_data\\test\\key\\20220231212322243_000.json\n",
      "D:\\Xelp_work\\Ins_Datasets\\Ada_data\\ADA_Training_data\\test\\img\\20220231212323558_000.jpg D:\\Xelp_work\\Ins_Datasets\\Ada_data\\ADA_Training_data\\test\\key\\20220231212323558_000.json\n",
      "D:\\Xelp_work\\Ins_Datasets\\Ada_data\\ADA_Training_data\\test\\img\\20220231212323707_000.jpg D:\\Xelp_work\\Ins_Datasets\\Ada_data\\ADA_Training_data\\test\\key\\20220231212323707_000.json\n",
      "Deleted\n",
      "D:\\Xelp_work\\Ins_Datasets\\Ada_data\\ADA_Training_data\\test\\img\\20220231212323887_000.jpg D:\\Xelp_work\\Ins_Datasets\\Ada_data\\ADA_Training_data\\test\\key\\20220231212323887_000.json\n",
      "D:\\Xelp_work\\Ins_Datasets\\Ada_data\\ADA_Training_data\\test\\img\\20220231216395922_000.jpg D:\\Xelp_work\\Ins_Datasets\\Ada_data\\ADA_Training_data\\test\\key\\20220231216395922_000.json\n",
      "D:\\Xelp_work\\Ins_Datasets\\Ada_data\\ADA_Training_data\\test\\img\\20220231216396057_000.jpg D:\\Xelp_work\\Ins_Datasets\\Ada_data\\ADA_Training_data\\test\\key\\20220231216396057_000.json\n",
      "D:\\Xelp_work\\Ins_Datasets\\Ada_data\\ADA_Training_data\\test\\img\\20220231216396684_000.jpg D:\\Xelp_work\\Ins_Datasets\\Ada_data\\ADA_Training_data\\test\\key\\20220231216396684_000.json\n",
      "D:\\Xelp_work\\Ins_Datasets\\Ada_data\\ADA_Training_data\\test\\img\\20220231216396815_000.jpg D:\\Xelp_work\\Ins_Datasets\\Ada_data\\ADA_Training_data\\test\\key\\20220231216396815_000.json\n",
      "D:\\Xelp_work\\Ins_Datasets\\Ada_data\\ADA_Training_data\\test\\img\\20220231216396824_000.jpg D:\\Xelp_work\\Ins_Datasets\\Ada_data\\ADA_Training_data\\test\\key\\20220231216396824_000.json\n",
      "D:\\Xelp_work\\Ins_Datasets\\Ada_data\\ADA_Training_data\\test\\img\\20220231222304433_000.jpg D:\\Xelp_work\\Ins_Datasets\\Ada_data\\ADA_Training_data\\test\\key\\20220231222304433_000.json\n",
      "D:\\Xelp_work\\Ins_Datasets\\Ada_data\\ADA_Training_data\\test\\img\\20220231222304786_000.jpg D:\\Xelp_work\\Ins_Datasets\\Ada_data\\ADA_Training_data\\test\\key\\20220231222304786_000.json\n",
      "D:\\Xelp_work\\Ins_Datasets\\Ada_data\\ADA_Training_data\\test\\img\\20220231222304813_000.jpg D:\\Xelp_work\\Ins_Datasets\\Ada_data\\ADA_Training_data\\test\\key\\20220231222304813_000.json\n",
      "D:\\Xelp_work\\Ins_Datasets\\Ada_data\\ADA_Training_data\\test\\img\\20220231222305752_000.jpg D:\\Xelp_work\\Ins_Datasets\\Ada_data\\ADA_Training_data\\test\\key\\20220231222305752_000.json\n",
      "D:\\Xelp_work\\Ins_Datasets\\Ada_data\\ADA_Training_data\\test\\img\\20220231222305815_000.jpg D:\\Xelp_work\\Ins_Datasets\\Ada_data\\ADA_Training_data\\test\\key\\20220231222305815_000.json\n",
      "D:\\Xelp_work\\Ins_Datasets\\Ada_data\\ADA_Training_data\\test\\img\\20220231222306169_000.jpg D:\\Xelp_work\\Ins_Datasets\\Ada_data\\ADA_Training_data\\test\\key\\20220231222306169_000.json\n",
      "D:\\Xelp_work\\Ins_Datasets\\Ada_data\\ADA_Training_data\\test\\img\\20220231222306383_000.jpg D:\\Xelp_work\\Ins_Datasets\\Ada_data\\ADA_Training_data\\test\\key\\20220231222306383_000.json\n",
      "D:\\Xelp_work\\Ins_Datasets\\Ada_data\\ADA_Training_data\\test\\img\\20220231222306451_000.jpg D:\\Xelp_work\\Ins_Datasets\\Ada_data\\ADA_Training_data\\test\\key\\20220231222306451_000.json\n",
      "D:\\Xelp_work\\Ins_Datasets\\Ada_data\\ADA_Training_data\\test\\img\\20220231222306704_000.jpg D:\\Xelp_work\\Ins_Datasets\\Ada_data\\ADA_Training_data\\test\\key\\20220231222306704_000.json\n",
      "Deleted\n",
      "D:\\Xelp_work\\Ins_Datasets\\Ada_data\\ADA_Training_data\\test\\img\\20220231222306705_000.jpg D:\\Xelp_work\\Ins_Datasets\\Ada_data\\ADA_Training_data\\test\\key\\20220231222306705_000.json\n",
      "D:\\Xelp_work\\Ins_Datasets\\Ada_data\\ADA_Training_data\\test\\img\\20220231222307763_000.jpg D:\\Xelp_work\\Ins_Datasets\\Ada_data\\ADA_Training_data\\test\\key\\20220231222307763_000.json\n",
      "D:\\Xelp_work\\Ins_Datasets\\Ada_data\\ADA_Training_data\\test\\img\\20220231222307765_000.jpg D:\\Xelp_work\\Ins_Datasets\\Ada_data\\ADA_Training_data\\test\\key\\20220231222307765_000.json\n",
      "D:\\Xelp_work\\Ins_Datasets\\Ada_data\\ADA_Training_data\\test\\img\\20220231222307766_000.jpg D:\\Xelp_work\\Ins_Datasets\\Ada_data\\ADA_Training_data\\test\\key\\20220231222307766_000.json\n",
      "D:\\Xelp_work\\Ins_Datasets\\Ada_data\\ADA_Training_data\\test\\img\\20220231222307853_000.jpg D:\\Xelp_work\\Ins_Datasets\\Ada_data\\ADA_Training_data\\test\\key\\20220231222307853_000.json\n",
      "D:\\Xelp_work\\Ins_Datasets\\Ada_data\\ADA_Training_data\\test\\img\\20220231222307927_000.jpg D:\\Xelp_work\\Ins_Datasets\\Ada_data\\ADA_Training_data\\test\\key\\20220231222307927_000.json\n",
      "D:\\Xelp_work\\Ins_Datasets\\Ada_data\\ADA_Training_data\\test\\img\\20220231222308021_000.jpg D:\\Xelp_work\\Ins_Datasets\\Ada_data\\ADA_Training_data\\test\\key\\20220231222308021_000.json\n",
      "D:\\Xelp_work\\Ins_Datasets\\Ada_data\\ADA_Training_data\\test\\img\\20220231222308286_000.jpg D:\\Xelp_work\\Ins_Datasets\\Ada_data\\ADA_Training_data\\test\\key\\20220231222308286_000.json\n",
      "D:\\Xelp_work\\Ins_Datasets\\Ada_data\\ADA_Training_data\\test\\img\\20220231222308889_000.jpg D:\\Xelp_work\\Ins_Datasets\\Ada_data\\ADA_Training_data\\test\\key\\20220231222308889_000.json\n",
      "D:\\Xelp_work\\Ins_Datasets\\Ada_data\\ADA_Training_data\\test\\img\\20220231222308979_000.jpg D:\\Xelp_work\\Ins_Datasets\\Ada_data\\ADA_Training_data\\test\\key\\20220231222308979_000.json\n",
      "D:\\Xelp_work\\Ins_Datasets\\Ada_data\\ADA_Training_data\\test\\img\\20220231222309039_000.jpg D:\\Xelp_work\\Ins_Datasets\\Ada_data\\ADA_Training_data\\test\\key\\20220231222309039_000.json\n",
      "D:\\Xelp_work\\Ins_Datasets\\Ada_data\\ADA_Training_data\\test\\img\\20220231222309210_000.jpg D:\\Xelp_work\\Ins_Datasets\\Ada_data\\ADA_Training_data\\test\\key\\20220231222309210_000.json\n",
      "D:\\Xelp_work\\Ins_Datasets\\Ada_data\\ADA_Training_data\\test\\img\\20220231222309247_000.jpg D:\\Xelp_work\\Ins_Datasets\\Ada_data\\ADA_Training_data\\test\\key\\20220231222309247_000.json\n",
      "D:\\Xelp_work\\Ins_Datasets\\Ada_data\\ADA_Training_data\\test\\img\\20220231222309573_000.jpg D:\\Xelp_work\\Ins_Datasets\\Ada_data\\ADA_Training_data\\test\\key\\20220231222309573_000.json\n",
      "Deleted\n",
      "D:\\Xelp_work\\Ins_Datasets\\Ada_data\\ADA_Training_data\\test\\img\\20220231222309651_000.jpg D:\\Xelp_work\\Ins_Datasets\\Ada_data\\ADA_Training_data\\test\\key\\20220231222309651_000.json\n",
      "D:\\Xelp_work\\Ins_Datasets\\Ada_data\\ADA_Training_data\\test\\img\\20220231222309816_000.jpg D:\\Xelp_work\\Ins_Datasets\\Ada_data\\ADA_Training_data\\test\\key\\20220231222309816_000.json\n",
      "Deleted\n",
      "D:\\Xelp_work\\Ins_Datasets\\Ada_data\\ADA_Training_data\\test\\img\\20220231222309857_000.jpg D:\\Xelp_work\\Ins_Datasets\\Ada_data\\ADA_Training_data\\test\\key\\20220231222309857_000.json\n",
      "D:\\Xelp_work\\Ins_Datasets\\Ada_data\\ADA_Training_data\\test\\img\\20220231222310217_000.jpg D:\\Xelp_work\\Ins_Datasets\\Ada_data\\ADA_Training_data\\test\\key\\20220231222310217_000.json\n",
      "D:\\Xelp_work\\Ins_Datasets\\Ada_data\\ADA_Training_data\\test\\img\\20220231226395169_000.jpg D:\\Xelp_work\\Ins_Datasets\\Ada_data\\ADA_Training_data\\test\\key\\20220231226395169_000.json\n",
      "D:\\Xelp_work\\Ins_Datasets\\Ada_data\\ADA_Training_data\\test\\img\\20220231232303418_000.jpg D:\\Xelp_work\\Ins_Datasets\\Ada_data\\ADA_Training_data\\test\\key\\20220231232303418_000.json\n",
      "D:\\Xelp_work\\Ins_Datasets\\Ada_data\\ADA_Training_data\\test\\img\\20220231232303728_000.jpg D:\\Xelp_work\\Ins_Datasets\\Ada_data\\ADA_Training_data\\test\\key\\20220231232303728_000.json\n",
      "D:\\Xelp_work\\Ins_Datasets\\Ada_data\\ADA_Training_data\\test\\img\\20220231232303962_000.jpg D:\\Xelp_work\\Ins_Datasets\\Ada_data\\ADA_Training_data\\test\\key\\20220231232303962_000.json\n",
      "D:\\Xelp_work\\Ins_Datasets\\Ada_data\\ADA_Training_data\\test\\img\\20220231232304001_000.jpg D:\\Xelp_work\\Ins_Datasets\\Ada_data\\ADA_Training_data\\test\\key\\20220231232304001_000.json\n",
      "D:\\Xelp_work\\Ins_Datasets\\Ada_data\\ADA_Training_data\\test\\img\\20220231232304172_000.jpg D:\\Xelp_work\\Ins_Datasets\\Ada_data\\ADA_Training_data\\test\\key\\20220231232304172_000.json\n",
      "D:\\Xelp_work\\Ins_Datasets\\Ada_data\\ADA_Training_data\\test\\img\\20220231232304173_000.jpg D:\\Xelp_work\\Ins_Datasets\\Ada_data\\ADA_Training_data\\test\\key\\20220231232304173_000.json\n",
      "D:\\Xelp_work\\Ins_Datasets\\Ada_data\\ADA_Training_data\\test\\img\\20220231232304483_000.jpg D:\\Xelp_work\\Ins_Datasets\\Ada_data\\ADA_Training_data\\test\\key\\20220231232304483_000.json\n",
      "D:\\Xelp_work\\Ins_Datasets\\Ada_data\\ADA_Training_data\\test\\img\\20220231232304575_000.jpg D:\\Xelp_work\\Ins_Datasets\\Ada_data\\ADA_Training_data\\test\\key\\20220231232304575_000.json\n",
      "D:\\Xelp_work\\Ins_Datasets\\Ada_data\\ADA_Training_data\\test\\img\\20220231232304584_000.jpg D:\\Xelp_work\\Ins_Datasets\\Ada_data\\ADA_Training_data\\test\\key\\20220231232304584_000.json\n",
      "D:\\Xelp_work\\Ins_Datasets\\Ada_data\\ADA_Training_data\\test\\img\\20220231232304748_000.jpg D:\\Xelp_work\\Ins_Datasets\\Ada_data\\ADA_Training_data\\test\\key\\20220231232304748_000.json\n",
      "D:\\Xelp_work\\Ins_Datasets\\Ada_data\\ADA_Training_data\\test\\img\\20220231232304899_000.jpg D:\\Xelp_work\\Ins_Datasets\\Ada_data\\ADA_Training_data\\test\\key\\20220231232304899_000.json\n",
      "D:\\Xelp_work\\Ins_Datasets\\Ada_data\\ADA_Training_data\\test\\img\\20220231232305050_000.jpg D:\\Xelp_work\\Ins_Datasets\\Ada_data\\ADA_Training_data\\test\\key\\20220231232305050_000.json\n",
      "D:\\Xelp_work\\Ins_Datasets\\Ada_data\\ADA_Training_data\\test\\img\\20220231232305084_000.jpg D:\\Xelp_work\\Ins_Datasets\\Ada_data\\ADA_Training_data\\test\\key\\20220231232305084_000.json\n",
      "D:\\Xelp_work\\Ins_Datasets\\Ada_data\\ADA_Training_data\\test\\img\\20220231232305395_000.jpg D:\\Xelp_work\\Ins_Datasets\\Ada_data\\ADA_Training_data\\test\\key\\20220231232305395_000.json\n",
      "D:\\Xelp_work\\Ins_Datasets\\Ada_data\\ADA_Training_data\\test\\img\\20220231232306060_000.jpg D:\\Xelp_work\\Ins_Datasets\\Ada_data\\ADA_Training_data\\test\\key\\20220231232306060_000.json\n",
      "D:\\Xelp_work\\Ins_Datasets\\Ada_data\\ADA_Training_data\\test\\img\\20220231232306211_000.jpg D:\\Xelp_work\\Ins_Datasets\\Ada_data\\ADA_Training_data\\test\\key\\20220231232306211_000.json\n",
      "D:\\Xelp_work\\Ins_Datasets\\Ada_data\\ADA_Training_data\\test\\img\\20220231232306275_000.jpg D:\\Xelp_work\\Ins_Datasets\\Ada_data\\ADA_Training_data\\test\\key\\20220231232306275_000.json\n",
      "D:\\Xelp_work\\Ins_Datasets\\Ada_data\\ADA_Training_data\\test\\img\\20220231232306467_000.jpg D:\\Xelp_work\\Ins_Datasets\\Ada_data\\ADA_Training_data\\test\\key\\20220231232306467_000.json\n",
      "D:\\Xelp_work\\Ins_Datasets\\Ada_data\\ADA_Training_data\\test\\img\\20220231232306927_000.jpg D:\\Xelp_work\\Ins_Datasets\\Ada_data\\ADA_Training_data\\test\\key\\20220231232306927_000.json\n",
      "D:\\Xelp_work\\Ins_Datasets\\Ada_data\\ADA_Training_data\\test\\img\\20220231232307008_000.jpg D:\\Xelp_work\\Ins_Datasets\\Ada_data\\ADA_Training_data\\test\\key\\20220231232307008_000.json\n",
      "D:\\Xelp_work\\Ins_Datasets\\Ada_data\\ADA_Training_data\\test\\img\\20220231232307252_000.jpg D:\\Xelp_work\\Ins_Datasets\\Ada_data\\ADA_Training_data\\test\\key\\20220231232307252_000.json\n",
      "D:\\Xelp_work\\Ins_Datasets\\Ada_data\\ADA_Training_data\\test\\img\\20220231236395095_000.jpg D:\\Xelp_work\\Ins_Datasets\\Ada_data\\ADA_Training_data\\test\\key\\20220231236395095_000.json\n",
      "Deleted\n",
      "D:\\Xelp_work\\Ins_Datasets\\Ada_data\\ADA_Training_data\\test\\img\\20220231236395248_000.jpg D:\\Xelp_work\\Ins_Datasets\\Ada_data\\ADA_Training_data\\test\\key\\20220231236395248_000.json\n",
      "Deleted\n",
      "D:\\Xelp_work\\Ins_Datasets\\Ada_data\\ADA_Training_data\\test\\img\\20220231236395402_000.jpg D:\\Xelp_work\\Ins_Datasets\\Ada_data\\ADA_Training_data\\test\\key\\20220231236395402_000.json\n",
      "D:\\Xelp_work\\Ins_Datasets\\Ada_data\\ADA_Training_data\\test\\img\\20220231236395671_000.jpg D:\\Xelp_work\\Ins_Datasets\\Ada_data\\ADA_Training_data\\test\\key\\20220231236395671_000.json\n",
      "D:\\Xelp_work\\Ins_Datasets\\Ada_data\\ADA_Training_data\\test\\img\\20220231236395711_000.jpg D:\\Xelp_work\\Ins_Datasets\\Ada_data\\ADA_Training_data\\test\\key\\20220231236395711_000.json\n",
      "D:\\Xelp_work\\Ins_Datasets\\Ada_data\\ADA_Training_data\\test\\img\\20220231242300016_000.jpg D:\\Xelp_work\\Ins_Datasets\\Ada_data\\ADA_Training_data\\test\\key\\20220231242300016_000.json\n",
      "D:\\Xelp_work\\Ins_Datasets\\Ada_data\\ADA_Training_data\\test\\img\\20220231242302212_000.jpg D:\\Xelp_work\\Ins_Datasets\\Ada_data\\ADA_Training_data\\test\\key\\20220231242302212_000.json\n",
      "D:\\Xelp_work\\Ins_Datasets\\Ada_data\\ADA_Training_data\\test\\img\\20220231242302216_000.jpg D:\\Xelp_work\\Ins_Datasets\\Ada_data\\ADA_Training_data\\test\\key\\20220231242302216_000.json\n",
      "D:\\Xelp_work\\Ins_Datasets\\Ada_data\\ADA_Training_data\\test\\img\\20220231242303537_000.jpg D:\\Xelp_work\\Ins_Datasets\\Ada_data\\ADA_Training_data\\test\\key\\20220231242303537_000.json\n",
      "D:\\Xelp_work\\Ins_Datasets\\Ada_data\\ADA_Training_data\\test\\img\\20220231242303578_000.jpg D:\\Xelp_work\\Ins_Datasets\\Ada_data\\ADA_Training_data\\test\\key\\20220231242303578_000.json\n",
      "Deleted\n",
      "D:\\Xelp_work\\Ins_Datasets\\Ada_data\\ADA_Training_data\\test\\img\\20220231242303644_000.jpg D:\\Xelp_work\\Ins_Datasets\\Ada_data\\ADA_Training_data\\test\\key\\20220231242303644_000.json\n",
      "D:\\Xelp_work\\Ins_Datasets\\Ada_data\\ADA_Training_data\\test\\img\\20220231242303794_000.jpg D:\\Xelp_work\\Ins_Datasets\\Ada_data\\ADA_Training_data\\test\\key\\20220231242303794_000.json\n",
      "D:\\Xelp_work\\Ins_Datasets\\Ada_data\\ADA_Training_data\\test\\img\\20220231242304488_000.jpg D:\\Xelp_work\\Ins_Datasets\\Ada_data\\ADA_Training_data\\test\\key\\20220231242304488_000.json\n",
      "D:\\Xelp_work\\Ins_Datasets\\Ada_data\\ADA_Training_data\\test\\img\\20220231242304691_000.jpg D:\\Xelp_work\\Ins_Datasets\\Ada_data\\ADA_Training_data\\test\\key\\20220231242304691_000.json\n",
      "D:\\Xelp_work\\Ins_Datasets\\Ada_data\\ADA_Training_data\\test\\img\\20220231242304764_000.jpg D:\\Xelp_work\\Ins_Datasets\\Ada_data\\ADA_Training_data\\test\\key\\20220231242304764_000.json\n",
      "D:\\Xelp_work\\Ins_Datasets\\Ada_data\\ADA_Training_data\\test\\img\\20220231242304794_000.jpg D:\\Xelp_work\\Ins_Datasets\\Ada_data\\ADA_Training_data\\test\\key\\20220231242304794_000.json\n",
      "D:\\Xelp_work\\Ins_Datasets\\Ada_data\\ADA_Training_data\\test\\img\\20220231242305381_000.jpg D:\\Xelp_work\\Ins_Datasets\\Ada_data\\ADA_Training_data\\test\\key\\20220231242305381_000.json\n",
      "D:\\Xelp_work\\Ins_Datasets\\Ada_data\\ADA_Training_data\\test\\img\\20220231242305409_000.jpg D:\\Xelp_work\\Ins_Datasets\\Ada_data\\ADA_Training_data\\test\\key\\20220231242305409_000.json\n",
      "D:\\Xelp_work\\Ins_Datasets\\Ada_data\\ADA_Training_data\\test\\img\\20220231242305694_000.jpg D:\\Xelp_work\\Ins_Datasets\\Ada_data\\ADA_Training_data\\test\\key\\20220231242305694_000.json\n",
      "D:\\Xelp_work\\Ins_Datasets\\Ada_data\\ADA_Training_data\\test\\img\\20220231242306739_000.jpg D:\\Xelp_work\\Ins_Datasets\\Ada_data\\ADA_Training_data\\test\\key\\20220231242306739_000.json\n",
      "D:\\Xelp_work\\Ins_Datasets\\Ada_data\\ADA_Training_data\\test\\img\\20220231242307181_000.jpg D:\\Xelp_work\\Ins_Datasets\\Ada_data\\ADA_Training_data\\test\\key\\20220231242307181_000.json\n",
      "D:\\Xelp_work\\Ins_Datasets\\Ada_data\\ADA_Training_data\\test\\img\\20220231242307669_000.jpg D:\\Xelp_work\\Ins_Datasets\\Ada_data\\ADA_Training_data\\test\\key\\20220231242307669_000.json\n",
      "D:\\Xelp_work\\Ins_Datasets\\Ada_data\\ADA_Training_data\\test\\img\\20220231252305669_000.jpg D:\\Xelp_work\\Ins_Datasets\\Ada_data\\ADA_Training_data\\test\\key\\20220231252305669_000.json\n",
      "D:\\Xelp_work\\Ins_Datasets\\Ada_data\\ADA_Training_data\\test\\img\\20220231252305950_000.jpg D:\\Xelp_work\\Ins_Datasets\\Ada_data\\ADA_Training_data\\test\\key\\20220231252305950_000.json\n",
      "D:\\Xelp_work\\Ins_Datasets\\Ada_data\\ADA_Training_data\\test\\img\\20220231252306065_000.jpg D:\\Xelp_work\\Ins_Datasets\\Ada_data\\ADA_Training_data\\test\\key\\20220231252306065_000.json\n",
      "D:\\Xelp_work\\Ins_Datasets\\Ada_data\\ADA_Training_data\\test\\img\\20220231252306150_000.jpg D:\\Xelp_work\\Ins_Datasets\\Ada_data\\ADA_Training_data\\test\\key\\20220231252306150_000.json\n",
      "D:\\Xelp_work\\Ins_Datasets\\Ada_data\\ADA_Training_data\\test\\img\\20220231252306161_000.jpg D:\\Xelp_work\\Ins_Datasets\\Ada_data\\ADA_Training_data\\test\\key\\20220231252306161_000.json\n",
      "D:\\Xelp_work\\Ins_Datasets\\Ada_data\\ADA_Training_data\\test\\img\\20220231252306166_000.jpg D:\\Xelp_work\\Ins_Datasets\\Ada_data\\ADA_Training_data\\test\\key\\20220231252306166_000.json\n",
      "Deleted\n",
      "D:\\Xelp_work\\Ins_Datasets\\Ada_data\\ADA_Training_data\\test\\img\\20220231252306219_000.jpg D:\\Xelp_work\\Ins_Datasets\\Ada_data\\ADA_Training_data\\test\\key\\20220231252306219_000.json\n",
      "D:\\Xelp_work\\Ins_Datasets\\Ada_data\\ADA_Training_data\\test\\img\\20220231252306253_000.jpg D:\\Xelp_work\\Ins_Datasets\\Ada_data\\ADA_Training_data\\test\\key\\20220231252306253_000.json\n",
      "D:\\Xelp_work\\Ins_Datasets\\Ada_data\\ADA_Training_data\\test\\img\\20220231252306621_000.jpg D:\\Xelp_work\\Ins_Datasets\\Ada_data\\ADA_Training_data\\test\\key\\20220231252306621_000.json\n",
      "D:\\Xelp_work\\Ins_Datasets\\Ada_data\\ADA_Training_data\\test\\img\\20220231252306833_000.jpg D:\\Xelp_work\\Ins_Datasets\\Ada_data\\ADA_Training_data\\test\\key\\20220231252306833_000.json\n",
      "D:\\Xelp_work\\Ins_Datasets\\Ada_data\\ADA_Training_data\\test\\img\\20220231252307208_000.jpg D:\\Xelp_work\\Ins_Datasets\\Ada_data\\ADA_Training_data\\test\\key\\20220231252307208_000.json\n",
      "D:\\Xelp_work\\Ins_Datasets\\Ada_data\\ADA_Training_data\\test\\img\\20220231252307397_000.jpg D:\\Xelp_work\\Ins_Datasets\\Ada_data\\ADA_Training_data\\test\\key\\20220231252307397_000.json\n",
      "D:\\Xelp_work\\Ins_Datasets\\Ada_data\\ADA_Training_data\\test\\img\\20220231252307639_000.jpg D:\\Xelp_work\\Ins_Datasets\\Ada_data\\ADA_Training_data\\test\\key\\20220231252307639_000.json\n",
      "D:\\Xelp_work\\Ins_Datasets\\Ada_data\\ADA_Training_data\\test\\img\\20220231252307775_000.jpg D:\\Xelp_work\\Ins_Datasets\\Ada_data\\ADA_Training_data\\test\\key\\20220231252307775_000.json\n",
      "D:\\Xelp_work\\Ins_Datasets\\Ada_data\\ADA_Training_data\\test\\img\\20220231252307882_000.jpg D:\\Xelp_work\\Ins_Datasets\\Ada_data\\ADA_Training_data\\test\\key\\20220231252307882_000.json\n",
      "Deleted\n",
      "D:\\Xelp_work\\Ins_Datasets\\Ada_data\\ADA_Training_data\\test\\img\\20220231252308350_000.jpg D:\\Xelp_work\\Ins_Datasets\\Ada_data\\ADA_Training_data\\test\\key\\20220231252308350_000.json\n",
      "D:\\Xelp_work\\Ins_Datasets\\Ada_data\\ADA_Training_data\\test\\img\\20220231252308550_000.jpg D:\\Xelp_work\\Ins_Datasets\\Ada_data\\ADA_Training_data\\test\\key\\20220231252308550_000.json\n",
      "D:\\Xelp_work\\Ins_Datasets\\Ada_data\\ADA_Training_data\\test\\img\\20220231252308768_000.jpg D:\\Xelp_work\\Ins_Datasets\\Ada_data\\ADA_Training_data\\test\\key\\20220231252308768_000.json\n",
      "D:\\Xelp_work\\Ins_Datasets\\Ada_data\\ADA_Training_data\\test\\img\\20220231252308809_000.jpg D:\\Xelp_work\\Ins_Datasets\\Ada_data\\ADA_Training_data\\test\\key\\20220231252308809_000.json\n",
      "D:\\Xelp_work\\Ins_Datasets\\Ada_data\\ADA_Training_data\\test\\img\\20220231252308860_000.jpg D:\\Xelp_work\\Ins_Datasets\\Ada_data\\ADA_Training_data\\test\\key\\20220231252308860_000.json\n",
      "D:\\Xelp_work\\Ins_Datasets\\Ada_data\\ADA_Training_data\\test\\img\\20220231252309284_000.jpg D:\\Xelp_work\\Ins_Datasets\\Ada_data\\ADA_Training_data\\test\\key\\20220231252309284_000.json\n",
      "D:\\Xelp_work\\Ins_Datasets\\Ada_data\\ADA_Training_data\\test\\img\\20220231256396231_000.jpg D:\\Xelp_work\\Ins_Datasets\\Ada_data\\ADA_Training_data\\test\\key\\20220231256396231_000.json\n",
      "D:\\Xelp_work\\Ins_Datasets\\Ada_data\\ADA_Training_data\\test\\img\\20220231262304291_000.jpg D:\\Xelp_work\\Ins_Datasets\\Ada_data\\ADA_Training_data\\test\\key\\20220231262304291_000.json\n",
      "D:\\Xelp_work\\Ins_Datasets\\Ada_data\\ADA_Training_data\\test\\img\\20220231262304739_000.jpg D:\\Xelp_work\\Ins_Datasets\\Ada_data\\ADA_Training_data\\test\\key\\20220231262304739_000.json\n",
      "D:\\Xelp_work\\Ins_Datasets\\Ada_data\\ADA_Training_data\\test\\img\\20220231262305771_000.jpg D:\\Xelp_work\\Ins_Datasets\\Ada_data\\ADA_Training_data\\test\\key\\20220231262305771_000.json\n",
      "D:\\Xelp_work\\Ins_Datasets\\Ada_data\\ADA_Training_data\\test\\img\\20220231262306279_000.jpg D:\\Xelp_work\\Ins_Datasets\\Ada_data\\ADA_Training_data\\test\\key\\20220231262306279_000.json\n",
      "D:\\Xelp_work\\Ins_Datasets\\Ada_data\\ADA_Training_data\\test\\img\\20220231262306820_000.jpg D:\\Xelp_work\\Ins_Datasets\\Ada_data\\ADA_Training_data\\test\\key\\20220231262306820_000.json\n",
      "D:\\Xelp_work\\Ins_Datasets\\Ada_data\\ADA_Training_data\\test\\img\\20220231262306913_000.jpg D:\\Xelp_work\\Ins_Datasets\\Ada_data\\ADA_Training_data\\test\\key\\20220231262306913_000.json\n",
      "D:\\Xelp_work\\Ins_Datasets\\Ada_data\\ADA_Training_data\\test\\img\\20220231262307097_000.jpg D:\\Xelp_work\\Ins_Datasets\\Ada_data\\ADA_Training_data\\test\\key\\20220231262307097_000.json\n",
      "Deleted\n",
      "D:\\Xelp_work\\Ins_Datasets\\Ada_data\\ADA_Training_data\\test\\img\\20220231262307201_000.jpg D:\\Xelp_work\\Ins_Datasets\\Ada_data\\ADA_Training_data\\test\\key\\20220231262307201_000.json\n",
      "D:\\Xelp_work\\Ins_Datasets\\Ada_data\\ADA_Training_data\\test\\img\\20220231262307301_000.jpg D:\\Xelp_work\\Ins_Datasets\\Ada_data\\ADA_Training_data\\test\\key\\20220231262307301_000.json\n",
      "D:\\Xelp_work\\Ins_Datasets\\Ada_data\\ADA_Training_data\\test\\img\\20220231262307635_000.jpg D:\\Xelp_work\\Ins_Datasets\\Ada_data\\ADA_Training_data\\test\\key\\20220231262307635_000.json\n",
      "D:\\Xelp_work\\Ins_Datasets\\Ada_data\\ADA_Training_data\\test\\img\\20220231262307958_000.jpg D:\\Xelp_work\\Ins_Datasets\\Ada_data\\ADA_Training_data\\test\\key\\20220231262307958_000.json\n",
      "D:\\Xelp_work\\Ins_Datasets\\Ada_data\\ADA_Training_data\\test\\img\\20220231262308193_000.jpg D:\\Xelp_work\\Ins_Datasets\\Ada_data\\ADA_Training_data\\test\\key\\20220231262308193_000.json\n",
      "Deleted\n",
      "D:\\Xelp_work\\Ins_Datasets\\Ada_data\\ADA_Training_data\\test\\img\\20220231262308341_000.jpg D:\\Xelp_work\\Ins_Datasets\\Ada_data\\ADA_Training_data\\test\\key\\20220231262308341_000.json\n",
      "Deleted\n",
      "D:\\Xelp_work\\Ins_Datasets\\Ada_data\\ADA_Training_data\\test\\img\\20220231262308456_000.jpg D:\\Xelp_work\\Ins_Datasets\\Ada_data\\ADA_Training_data\\test\\key\\20220231262308456_000.json\n",
      "D:\\Xelp_work\\Ins_Datasets\\Ada_data\\ADA_Training_data\\test\\img\\20220231262308469_000.jpg D:\\Xelp_work\\Ins_Datasets\\Ada_data\\ADA_Training_data\\test\\key\\20220231262308469_000.json\n",
      "D:\\Xelp_work\\Ins_Datasets\\Ada_data\\ADA_Training_data\\test\\img\\20220231262308906_000.jpg D:\\Xelp_work\\Ins_Datasets\\Ada_data\\ADA_Training_data\\test\\key\\20220231262308906_000.json\n",
      "D:\\Xelp_work\\Ins_Datasets\\Ada_data\\ADA_Training_data\\test\\img\\20220231262309593_000.jpg D:\\Xelp_work\\Ins_Datasets\\Ada_data\\ADA_Training_data\\test\\key\\20220231262309593_000.json\n",
      "D:\\Xelp_work\\Ins_Datasets\\Ada_data\\ADA_Training_data\\test\\img\\20220231262309630_000.jpg D:\\Xelp_work\\Ins_Datasets\\Ada_data\\ADA_Training_data\\test\\key\\20220231262309630_000.json\n",
      "D:\\Xelp_work\\Ins_Datasets\\Ada_data\\ADA_Training_data\\test\\img\\20220231262309633_000.jpg D:\\Xelp_work\\Ins_Datasets\\Ada_data\\ADA_Training_data\\test\\key\\20220231262309633_000.json\n",
      "Deleted\n",
      "D:\\Xelp_work\\Ins_Datasets\\Ada_data\\ADA_Training_data\\test\\img\\20220231262309705_000.jpg D:\\Xelp_work\\Ins_Datasets\\Ada_data\\ADA_Training_data\\test\\key\\20220231262309705_000.json\n",
      "D:\\Xelp_work\\Ins_Datasets\\Ada_data\\ADA_Training_data\\test\\img\\20220231262309824_000.jpg D:\\Xelp_work\\Ins_Datasets\\Ada_data\\ADA_Training_data\\test\\key\\20220231262309824_000.json\n",
      "D:\\Xelp_work\\Ins_Datasets\\Ada_data\\ADA_Training_data\\test\\img\\20220231262309976_000.jpg D:\\Xelp_work\\Ins_Datasets\\Ada_data\\ADA_Training_data\\test\\key\\20220231262309976_000.json\n",
      "D:\\Xelp_work\\Ins_Datasets\\Ada_data\\ADA_Training_data\\test\\img\\20220231262310143_000.jpg D:\\Xelp_work\\Ins_Datasets\\Ada_data\\ADA_Training_data\\test\\key\\20220231262310143_000.json\n",
      "D:\\Xelp_work\\Ins_Datasets\\Ada_data\\ADA_Training_data\\test\\img\\20220231262310175_000.jpg D:\\Xelp_work\\Ins_Datasets\\Ada_data\\ADA_Training_data\\test\\key\\20220231262310175_000.json\n",
      "D:\\Xelp_work\\Ins_Datasets\\Ada_data\\ADA_Training_data\\test\\img\\20220231262310294_000.jpg D:\\Xelp_work\\Ins_Datasets\\Ada_data\\ADA_Training_data\\test\\key\\20220231262310294_000.json\n",
      "D:\\Xelp_work\\Ins_Datasets\\Ada_data\\ADA_Training_data\\test\\img\\20220231262310532_000.jpg D:\\Xelp_work\\Ins_Datasets\\Ada_data\\ADA_Training_data\\test\\key\\20220231262310532_000.json\n",
      "D:\\Xelp_work\\Ins_Datasets\\Ada_data\\ADA_Training_data\\test\\img\\20220231262310996_000.jpg D:\\Xelp_work\\Ins_Datasets\\Ada_data\\ADA_Training_data\\test\\key\\20220231262310996_000.json\n",
      "D:\\Xelp_work\\Ins_Datasets\\Ada_data\\ADA_Training_data\\test\\img\\20220231262311163_000.jpg D:\\Xelp_work\\Ins_Datasets\\Ada_data\\ADA_Training_data\\test\\key\\20220231262311163_000.json\n",
      "D:\\Xelp_work\\Ins_Datasets\\Ada_data\\ADA_Training_data\\test\\img\\20220231262311165_000.jpg D:\\Xelp_work\\Ins_Datasets\\Ada_data\\ADA_Training_data\\test\\key\\20220231262311165_000.json\n",
      "D:\\Xelp_work\\Ins_Datasets\\Ada_data\\ADA_Training_data\\test\\img\\20220231262311408_000.jpg D:\\Xelp_work\\Ins_Datasets\\Ada_data\\ADA_Training_data\\test\\key\\20220231262311408_000.json\n",
      "D:\\Xelp_work\\Ins_Datasets\\Ada_data\\ADA_Training_data\\test\\img\\20220231282303826_000.jpg D:\\Xelp_work\\Ins_Datasets\\Ada_data\\ADA_Training_data\\test\\key\\20220231282303826_000.json\n",
      "Deleted\n",
      "D:\\Xelp_work\\Ins_Datasets\\Ada_data\\ADA_Training_data\\test\\img\\20220231282303840_000.jpg D:\\Xelp_work\\Ins_Datasets\\Ada_data\\ADA_Training_data\\test\\key\\20220231282303840_000.json\n",
      "Deleted\n",
      "D:\\Xelp_work\\Ins_Datasets\\Ada_data\\ADA_Training_data\\test\\img\\20220231282304221_000.jpg D:\\Xelp_work\\Ins_Datasets\\Ada_data\\ADA_Training_data\\test\\key\\20220231282304221_000.json\n",
      "D:\\Xelp_work\\Ins_Datasets\\Ada_data\\ADA_Training_data\\test\\img\\20220231282304228_000.jpg D:\\Xelp_work\\Ins_Datasets\\Ada_data\\ADA_Training_data\\test\\key\\20220231282304228_000.json\n",
      "D:\\Xelp_work\\Ins_Datasets\\Ada_data\\ADA_Training_data\\test\\img\\20220231282304755_000.jpg D:\\Xelp_work\\Ins_Datasets\\Ada_data\\ADA_Training_data\\test\\key\\20220231282304755_000.json\n",
      "D:\\Xelp_work\\Ins_Datasets\\Ada_data\\ADA_Training_data\\test\\img\\20220231282304759_000.jpg D:\\Xelp_work\\Ins_Datasets\\Ada_data\\ADA_Training_data\\test\\key\\20220231282304759_000.json\n",
      "D:\\Xelp_work\\Ins_Datasets\\Ada_data\\ADA_Training_data\\test\\img\\20220231282304842_000.jpg D:\\Xelp_work\\Ins_Datasets\\Ada_data\\ADA_Training_data\\test\\key\\20220231282304842_000.json\n",
      "D:\\Xelp_work\\Ins_Datasets\\Ada_data\\ADA_Training_data\\test\\img\\20220231282304934_000.jpg D:\\Xelp_work\\Ins_Datasets\\Ada_data\\ADA_Training_data\\test\\key\\20220231282304934_000.json\n",
      "D:\\Xelp_work\\Ins_Datasets\\Ada_data\\ADA_Training_data\\test\\img\\20220231282305098_000.jpg D:\\Xelp_work\\Ins_Datasets\\Ada_data\\ADA_Training_data\\test\\key\\20220231282305098_000.json\n",
      "Deleted\n",
      "D:\\Xelp_work\\Ins_Datasets\\Ada_data\\ADA_Training_data\\test\\img\\20220231282305347_000.jpg D:\\Xelp_work\\Ins_Datasets\\Ada_data\\ADA_Training_data\\test\\key\\20220231282305347_000.json\n",
      "D:\\Xelp_work\\Ins_Datasets\\Ada_data\\ADA_Training_data\\test\\img\\20220231282305367_000.jpg D:\\Xelp_work\\Ins_Datasets\\Ada_data\\ADA_Training_data\\test\\key\\20220231282305367_000.json\n",
      "Deleted\n",
      "D:\\Xelp_work\\Ins_Datasets\\Ada_data\\ADA_Training_data\\test\\img\\20220231282305598_000.jpg D:\\Xelp_work\\Ins_Datasets\\Ada_data\\ADA_Training_data\\test\\key\\20220231282305598_000.json\n",
      "D:\\Xelp_work\\Ins_Datasets\\Ada_data\\ADA_Training_data\\test\\img\\20220231282305615_000.jpg D:\\Xelp_work\\Ins_Datasets\\Ada_data\\ADA_Training_data\\test\\key\\20220231282305615_000.json\n",
      "D:\\Xelp_work\\Ins_Datasets\\Ada_data\\ADA_Training_data\\test\\img\\20220231282305738_000.jpg D:\\Xelp_work\\Ins_Datasets\\Ada_data\\ADA_Training_data\\test\\key\\20220231282305738_000.json\n",
      "D:\\Xelp_work\\Ins_Datasets\\Ada_data\\ADA_Training_data\\test\\img\\20220231282305850_000.jpg D:\\Xelp_work\\Ins_Datasets\\Ada_data\\ADA_Training_data\\test\\key\\20220231282305850_000.json\n",
      "D:\\Xelp_work\\Ins_Datasets\\Ada_data\\ADA_Training_data\\test\\img\\20220231282305952_000.jpg D:\\Xelp_work\\Ins_Datasets\\Ada_data\\ADA_Training_data\\test\\key\\20220231282305952_000.json\n",
      "D:\\Xelp_work\\Ins_Datasets\\Ada_data\\ADA_Training_data\\test\\img\\20220231282305969_000.jpg D:\\Xelp_work\\Ins_Datasets\\Ada_data\\ADA_Training_data\\test\\key\\20220231282305969_000.json\n",
      "D:\\Xelp_work\\Ins_Datasets\\Ada_data\\ADA_Training_data\\test\\img\\20220231282306082_000.jpg D:\\Xelp_work\\Ins_Datasets\\Ada_data\\ADA_Training_data\\test\\key\\20220231282306082_000.json\n",
      "D:\\Xelp_work\\Ins_Datasets\\Ada_data\\ADA_Training_data\\test\\img\\20220231282306176_000.jpg D:\\Xelp_work\\Ins_Datasets\\Ada_data\\ADA_Training_data\\test\\key\\20220231282306176_000.json\n",
      "D:\\Xelp_work\\Ins_Datasets\\Ada_data\\ADA_Training_data\\test\\img\\20220231282306180_000.jpg D:\\Xelp_work\\Ins_Datasets\\Ada_data\\ADA_Training_data\\test\\key\\20220231282306180_000.json\n",
      "D:\\Xelp_work\\Ins_Datasets\\Ada_data\\ADA_Training_data\\test\\img\\20220231282306607_000.jpg D:\\Xelp_work\\Ins_Datasets\\Ada_data\\ADA_Training_data\\test\\key\\20220231282306607_000.json\n",
      "D:\\Xelp_work\\Ins_Datasets\\Ada_data\\ADA_Training_data\\test\\img\\20220231282306801_000.jpg D:\\Xelp_work\\Ins_Datasets\\Ada_data\\ADA_Training_data\\test\\key\\20220231282306801_000.json\n",
      "D:\\Xelp_work\\Ins_Datasets\\Ada_data\\ADA_Training_data\\test\\img\\20220231282306996_000.jpg D:\\Xelp_work\\Ins_Datasets\\Ada_data\\ADA_Training_data\\test\\key\\20220231282306996_000.json\n",
      "D:\\Xelp_work\\Ins_Datasets\\Ada_data\\ADA_Training_data\\test\\img\\20220231282307054_000.jpg D:\\Xelp_work\\Ins_Datasets\\Ada_data\\ADA_Training_data\\test\\key\\20220231282307054_000.json\n",
      "D:\\Xelp_work\\Ins_Datasets\\Ada_data\\ADA_Training_data\\test\\img\\20220231282307203_000.jpg D:\\Xelp_work\\Ins_Datasets\\Ada_data\\ADA_Training_data\\test\\key\\20220231282307203_000.json\n",
      "D:\\Xelp_work\\Ins_Datasets\\Ada_data\\ADA_Training_data\\test\\img\\20220231282307470_000.jpg D:\\Xelp_work\\Ins_Datasets\\Ada_data\\ADA_Training_data\\test\\key\\20220231282307470_000.json\n",
      "D:\\Xelp_work\\Ins_Datasets\\Ada_data\\ADA_Training_data\\test\\img\\20220231282307663_000.jpg D:\\Xelp_work\\Ins_Datasets\\Ada_data\\ADA_Training_data\\test\\key\\20220231282307663_000.json\n",
      "D:\\Xelp_work\\Ins_Datasets\\Ada_data\\ADA_Training_data\\test\\img\\20220231282307714_000.jpg D:\\Xelp_work\\Ins_Datasets\\Ada_data\\ADA_Training_data\\test\\key\\20220231282307714_000.json\n",
      "D:\\Xelp_work\\Ins_Datasets\\Ada_data\\ADA_Training_data\\test\\img\\20220231282307809_000.jpg D:\\Xelp_work\\Ins_Datasets\\Ada_data\\ADA_Training_data\\test\\key\\20220231282307809_000.json\n",
      "D:\\Xelp_work\\Ins_Datasets\\Ada_data\\ADA_Training_data\\test\\img\\20220231282308542_000.jpg D:\\Xelp_work\\Ins_Datasets\\Ada_data\\ADA_Training_data\\test\\key\\20220231282308542_000.json\n",
      "Deleted\n",
      "D:\\Xelp_work\\Ins_Datasets\\Ada_data\\ADA_Training_data\\test\\img\\20220231286395173_000.jpg D:\\Xelp_work\\Ins_Datasets\\Ada_data\\ADA_Training_data\\test\\key\\20220231286395173_000.json\n",
      "D:\\Xelp_work\\Ins_Datasets\\Ada_data\\ADA_Training_data\\test\\img\\20220231286395271_000.jpg D:\\Xelp_work\\Ins_Datasets\\Ada_data\\ADA_Training_data\\test\\key\\20220231286395271_000.json\n",
      "D:\\Xelp_work\\Ins_Datasets\\Ada_data\\ADA_Training_data\\test\\img\\20220231286395323_000.jpg D:\\Xelp_work\\Ins_Datasets\\Ada_data\\ADA_Training_data\\test\\key\\20220231286395323_000.json\n",
      "D:\\Xelp_work\\Ins_Datasets\\Ada_data\\ADA_Training_data\\test\\img\\20220231286395348_000.jpg D:\\Xelp_work\\Ins_Datasets\\Ada_data\\ADA_Training_data\\test\\key\\20220231286395348_000.json\n",
      "D:\\Xelp_work\\Ins_Datasets\\Ada_data\\ADA_Training_data\\test\\img\\20220231292305755_000.jpg D:\\Xelp_work\\Ins_Datasets\\Ada_data\\ADA_Training_data\\test\\key\\20220231292305755_000.json\n",
      "D:\\Xelp_work\\Ins_Datasets\\Ada_data\\ADA_Training_data\\test\\img\\20220231292309287_000.jpg D:\\Xelp_work\\Ins_Datasets\\Ada_data\\ADA_Training_data\\test\\key\\20220231292309287_000.json\n",
      "D:\\Xelp_work\\Ins_Datasets\\Ada_data\\ADA_Training_data\\test\\img\\20220231332306314_000.jpg D:\\Xelp_work\\Ins_Datasets\\Ada_data\\ADA_Training_data\\test\\key\\20220231332306314_000.json\n",
      "Deleted\n",
      "D:\\Xelp_work\\Ins_Datasets\\Ada_data\\ADA_Training_data\\test\\img\\20220231332306342_000.jpg D:\\Xelp_work\\Ins_Datasets\\Ada_data\\ADA_Training_data\\test\\key\\20220231332306342_000.json\n",
      "D:\\Xelp_work\\Ins_Datasets\\Ada_data\\ADA_Training_data\\test\\img\\20220231332307219_000.jpg D:\\Xelp_work\\Ins_Datasets\\Ada_data\\ADA_Training_data\\test\\key\\20220231332307219_000.json\n",
      "D:\\Xelp_work\\Ins_Datasets\\Ada_data\\ADA_Training_data\\test\\img\\20220231332307919_000.jpg D:\\Xelp_work\\Ins_Datasets\\Ada_data\\ADA_Training_data\\test\\key\\20220231332307919_000.json\n",
      "D:\\Xelp_work\\Ins_Datasets\\Ada_data\\ADA_Training_data\\test\\img\\20220231332307942_000.jpg D:\\Xelp_work\\Ins_Datasets\\Ada_data\\ADA_Training_data\\test\\key\\20220231332307942_000.json\n",
      "D:\\Xelp_work\\Ins_Datasets\\Ada_data\\ADA_Training_data\\test\\img\\20220231332307950_000.jpg D:\\Xelp_work\\Ins_Datasets\\Ada_data\\ADA_Training_data\\test\\key\\20220231332307950_000.json\n",
      "D:\\Xelp_work\\Ins_Datasets\\Ada_data\\ADA_Training_data\\test\\img\\20220231332308049_000.jpg D:\\Xelp_work\\Ins_Datasets\\Ada_data\\ADA_Training_data\\test\\key\\20220231332308049_000.json\n",
      "D:\\Xelp_work\\Ins_Datasets\\Ada_data\\ADA_Training_data\\test\\img\\20220231332308103_000.jpg D:\\Xelp_work\\Ins_Datasets\\Ada_data\\ADA_Training_data\\test\\key\\20220231332308103_000.json\n",
      "D:\\Xelp_work\\Ins_Datasets\\Ada_data\\ADA_Training_data\\test\\img\\20220231332308145_000.jpg D:\\Xelp_work\\Ins_Datasets\\Ada_data\\ADA_Training_data\\test\\key\\20220231332308145_000.json\n",
      "D:\\Xelp_work\\Ins_Datasets\\Ada_data\\ADA_Training_data\\test\\img\\20220231332308155_000.jpg D:\\Xelp_work\\Ins_Datasets\\Ada_data\\ADA_Training_data\\test\\key\\20220231332308155_000.json\n",
      "D:\\Xelp_work\\Ins_Datasets\\Ada_data\\ADA_Training_data\\test\\img\\20220231332308979_000.jpg D:\\Xelp_work\\Ins_Datasets\\Ada_data\\ADA_Training_data\\test\\key\\20220231332308979_000.json\n",
      "D:\\Xelp_work\\Ins_Datasets\\Ada_data\\ADA_Training_data\\test\\img\\20220231332308984_000.jpg D:\\Xelp_work\\Ins_Datasets\\Ada_data\\ADA_Training_data\\test\\key\\20220231332308984_000.json\n",
      "D:\\Xelp_work\\Ins_Datasets\\Ada_data\\ADA_Training_data\\test\\img\\20220231332308999_000.jpg D:\\Xelp_work\\Ins_Datasets\\Ada_data\\ADA_Training_data\\test\\key\\20220231332308999_000.json\n",
      "D:\\Xelp_work\\Ins_Datasets\\Ada_data\\ADA_Training_data\\test\\img\\20220231332309004_000.jpg D:\\Xelp_work\\Ins_Datasets\\Ada_data\\ADA_Training_data\\test\\key\\20220231332309004_000.json\n",
      "D:\\Xelp_work\\Ins_Datasets\\Ada_data\\ADA_Training_data\\test\\img\\20220231332309131_000.jpg D:\\Xelp_work\\Ins_Datasets\\Ada_data\\ADA_Training_data\\test\\key\\20220231332309131_000.json\n",
      "D:\\Xelp_work\\Ins_Datasets\\Ada_data\\ADA_Training_data\\test\\img\\20220231332309171_000.jpg D:\\Xelp_work\\Ins_Datasets\\Ada_data\\ADA_Training_data\\test\\key\\20220231332309171_000.json\n",
      "D:\\Xelp_work\\Ins_Datasets\\Ada_data\\ADA_Training_data\\test\\img\\20220231332309325_000.jpg D:\\Xelp_work\\Ins_Datasets\\Ada_data\\ADA_Training_data\\test\\key\\20220231332309325_000.json\n",
      "D:\\Xelp_work\\Ins_Datasets\\Ada_data\\ADA_Training_data\\test\\img\\20220231332309336_000.jpg D:\\Xelp_work\\Ins_Datasets\\Ada_data\\ADA_Training_data\\test\\key\\20220231332309336_000.json\n",
      "D:\\Xelp_work\\Ins_Datasets\\Ada_data\\ADA_Training_data\\test\\img\\20220231332309345_000.jpg D:\\Xelp_work\\Ins_Datasets\\Ada_data\\ADA_Training_data\\test\\key\\20220231332309345_000.json\n",
      "D:\\Xelp_work\\Ins_Datasets\\Ada_data\\ADA_Training_data\\test\\img\\20220231332309355_000.jpg D:\\Xelp_work\\Ins_Datasets\\Ada_data\\ADA_Training_data\\test\\key\\20220231332309355_000.json\n",
      "D:\\Xelp_work\\Ins_Datasets\\Ada_data\\ADA_Training_data\\test\\img\\20220231332310301_000.jpg D:\\Xelp_work\\Ins_Datasets\\Ada_data\\ADA_Training_data\\test\\key\\20220231332310301_000.json\n",
      "D:\\Xelp_work\\Ins_Datasets\\Ada_data\\ADA_Training_data\\test\\img\\20220231332310442_000.jpg D:\\Xelp_work\\Ins_Datasets\\Ada_data\\ADA_Training_data\\test\\key\\20220231332310442_000.json\n",
      "D:\\Xelp_work\\Ins_Datasets\\Ada_data\\ADA_Training_data\\test\\img\\20220231332310577_000.jpg D:\\Xelp_work\\Ins_Datasets\\Ada_data\\ADA_Training_data\\test\\key\\20220231332310577_000.json\n",
      "D:\\Xelp_work\\Ins_Datasets\\Ada_data\\ADA_Training_data\\test\\img\\20220231332311074_000.jpg D:\\Xelp_work\\Ins_Datasets\\Ada_data\\ADA_Training_data\\test\\key\\20220231332311074_000.json\n",
      "Deleted\n",
      "D:\\Xelp_work\\Ins_Datasets\\Ada_data\\ADA_Training_data\\test\\img\\20220231332311299_000.jpg D:\\Xelp_work\\Ins_Datasets\\Ada_data\\ADA_Training_data\\test\\key\\20220231332311299_000.json\n",
      "D:\\Xelp_work\\Ins_Datasets\\Ada_data\\ADA_Training_data\\test\\img\\20220231332311379_000.jpg D:\\Xelp_work\\Ins_Datasets\\Ada_data\\ADA_Training_data\\test\\key\\20220231332311379_000.json\n",
      "D:\\Xelp_work\\Ins_Datasets\\Ada_data\\ADA_Training_data\\test\\img\\20220231332312524_000.jpg D:\\Xelp_work\\Ins_Datasets\\Ada_data\\ADA_Training_data\\test\\key\\20220231332312524_000.json\n",
      "D:\\Xelp_work\\Ins_Datasets\\Ada_data\\ADA_Training_data\\test\\img\\20220231332312677_000.jpg D:\\Xelp_work\\Ins_Datasets\\Ada_data\\ADA_Training_data\\test\\key\\20220231332312677_000.json\n",
      "D:\\Xelp_work\\Ins_Datasets\\Ada_data\\ADA_Training_data\\test\\img\\20220231332312749_000.jpg D:\\Xelp_work\\Ins_Datasets\\Ada_data\\ADA_Training_data\\test\\key\\20220231332312749_000.json\n",
      "D:\\Xelp_work\\Ins_Datasets\\Ada_data\\ADA_Training_data\\test\\img\\20220231332313657_000.jpg D:\\Xelp_work\\Ins_Datasets\\Ada_data\\ADA_Training_data\\test\\key\\20220231332313657_000.json\n",
      "D:\\Xelp_work\\Ins_Datasets\\Ada_data\\ADA_Training_data\\test\\img\\20220231332313753_000.jpg D:\\Xelp_work\\Ins_Datasets\\Ada_data\\ADA_Training_data\\test\\key\\20220231332313753_000.json\n",
      "D:\\Xelp_work\\Ins_Datasets\\Ada_data\\ADA_Training_data\\test\\img\\20220231332313757_000.jpg D:\\Xelp_work\\Ins_Datasets\\Ada_data\\ADA_Training_data\\test\\key\\20220231332313757_000.json\n",
      "D:\\Xelp_work\\Ins_Datasets\\Ada_data\\ADA_Training_data\\test\\img\\20220231332314152_000.jpg D:\\Xelp_work\\Ins_Datasets\\Ada_data\\ADA_Training_data\\test\\key\\20220231332314152_000.json\n",
      "D:\\Xelp_work\\Ins_Datasets\\Ada_data\\ADA_Training_data\\test\\img\\20220231332314198_000.jpg D:\\Xelp_work\\Ins_Datasets\\Ada_data\\ADA_Training_data\\test\\key\\20220231332314198_000.json\n",
      "D:\\Xelp_work\\Ins_Datasets\\Ada_data\\ADA_Training_data\\test\\img\\20220231332314288_000.jpg D:\\Xelp_work\\Ins_Datasets\\Ada_data\\ADA_Training_data\\test\\key\\20220231332314288_000.json\n",
      "Deleted\n",
      "D:\\Xelp_work\\Ins_Datasets\\Ada_data\\ADA_Training_data\\test\\img\\20220231332314453_000.jpg D:\\Xelp_work\\Ins_Datasets\\Ada_data\\ADA_Training_data\\test\\key\\20220231332314453_000.json\n",
      "D:\\Xelp_work\\Ins_Datasets\\Ada_data\\ADA_Training_data\\test\\img\\20220231332314557_000.jpg D:\\Xelp_work\\Ins_Datasets\\Ada_data\\ADA_Training_data\\test\\key\\20220231332314557_000.json\n",
      "D:\\Xelp_work\\Ins_Datasets\\Ada_data\\ADA_Training_data\\test\\img\\20220231332314639_000.jpg D:\\Xelp_work\\Ins_Datasets\\Ada_data\\ADA_Training_data\\test\\key\\20220231332314639_000.json\n",
      "D:\\Xelp_work\\Ins_Datasets\\Ada_data\\ADA_Training_data\\test\\img\\20220231332314644_000.jpg D:\\Xelp_work\\Ins_Datasets\\Ada_data\\ADA_Training_data\\test\\key\\20220231332314644_000.json\n",
      "D:\\Xelp_work\\Ins_Datasets\\Ada_data\\ADA_Training_data\\test\\img\\20220231332314673_000.jpg D:\\Xelp_work\\Ins_Datasets\\Ada_data\\ADA_Training_data\\test\\key\\20220231332314673_000.json\n",
      "D:\\Xelp_work\\Ins_Datasets\\Ada_data\\ADA_Training_data\\test\\img\\20220231332314695_000.jpg D:\\Xelp_work\\Ins_Datasets\\Ada_data\\ADA_Training_data\\test\\key\\20220231332314695_000.json\n",
      "D:\\Xelp_work\\Ins_Datasets\\Ada_data\\ADA_Training_data\\test\\img\\20220231336396804_000.jpg D:\\Xelp_work\\Ins_Datasets\\Ada_data\\ADA_Training_data\\test\\key\\20220231336396804_000.json\n",
      "D:\\Xelp_work\\Ins_Datasets\\Ada_data\\ADA_Training_data\\test\\img\\20220231352303628_000.jpg D:\\Xelp_work\\Ins_Datasets\\Ada_data\\ADA_Training_data\\test\\key\\20220231352303628_000.json\n",
      "D:\\Xelp_work\\Ins_Datasets\\Ada_data\\ADA_Training_data\\test\\img\\20220231352303670_000.jpg D:\\Xelp_work\\Ins_Datasets\\Ada_data\\ADA_Training_data\\test\\key\\20220231352303670_000.json\n",
      "D:\\Xelp_work\\Ins_Datasets\\Ada_data\\ADA_Training_data\\test\\img\\20220231352303694_000.jpg D:\\Xelp_work\\Ins_Datasets\\Ada_data\\ADA_Training_data\\test\\key\\20220231352303694_000.json\n",
      "Deleted\n",
      "D:\\Xelp_work\\Ins_Datasets\\Ada_data\\ADA_Training_data\\test\\img\\20220231352303695_000.jpg D:\\Xelp_work\\Ins_Datasets\\Ada_data\\ADA_Training_data\\test\\key\\20220231352303695_000.json\n",
      "D:\\Xelp_work\\Ins_Datasets\\Ada_data\\ADA_Training_data\\test\\img\\20220231352303697_000.jpg D:\\Xelp_work\\Ins_Datasets\\Ada_data\\ADA_Training_data\\test\\key\\20220231352303697_000.json\n",
      "D:\\Xelp_work\\Ins_Datasets\\Ada_data\\ADA_Training_data\\test\\img\\20220231352303736_000.jpg D:\\Xelp_work\\Ins_Datasets\\Ada_data\\ADA_Training_data\\test\\key\\20220231352303736_000.json\n",
      "D:\\Xelp_work\\Ins_Datasets\\Ada_data\\ADA_Training_data\\test\\img\\20220231352304065_000.jpg D:\\Xelp_work\\Ins_Datasets\\Ada_data\\ADA_Training_data\\test\\key\\20220231352304065_000.json\n",
      "Deleted\n",
      "D:\\Xelp_work\\Ins_Datasets\\Ada_data\\ADA_Training_data\\test\\img\\20220231352304290_000.jpg D:\\Xelp_work\\Ins_Datasets\\Ada_data\\ADA_Training_data\\test\\key\\20220231352304290_000.json\n",
      "D:\\Xelp_work\\Ins_Datasets\\Ada_data\\ADA_Training_data\\test\\img\\20220231352304812_000.jpg D:\\Xelp_work\\Ins_Datasets\\Ada_data\\ADA_Training_data\\test\\key\\20220231352304812_000.json\n",
      "D:\\Xelp_work\\Ins_Datasets\\Ada_data\\ADA_Training_data\\test\\img\\20220231352304909_000.jpg D:\\Xelp_work\\Ins_Datasets\\Ada_data\\ADA_Training_data\\test\\key\\20220231352304909_000.json\n",
      "D:\\Xelp_work\\Ins_Datasets\\Ada_data\\ADA_Training_data\\test\\img\\20220231352305493_000.jpg D:\\Xelp_work\\Ins_Datasets\\Ada_data\\ADA_Training_data\\test\\key\\20220231352305493_000.json\n",
      "D:\\Xelp_work\\Ins_Datasets\\Ada_data\\ADA_Training_data\\test\\img\\20220231352306127_000.jpg D:\\Xelp_work\\Ins_Datasets\\Ada_data\\ADA_Training_data\\test\\key\\20220231352306127_000.json\n",
      "Deleted\n",
      "D:\\Xelp_work\\Ins_Datasets\\Ada_data\\ADA_Training_data\\test\\img\\20220231352306738_000.jpg D:\\Xelp_work\\Ins_Datasets\\Ada_data\\ADA_Training_data\\test\\key\\20220231352306738_000.json\n",
      "D:\\Xelp_work\\Ins_Datasets\\Ada_data\\ADA_Training_data\\test\\img\\20220231352308027_000.jpg D:\\Xelp_work\\Ins_Datasets\\Ada_data\\ADA_Training_data\\test\\key\\20220231352308027_000.json\n",
      "Deleted\n",
      "D:\\Xelp_work\\Ins_Datasets\\Ada_data\\ADA_Training_data\\test\\img\\20220231352308061_000.jpg D:\\Xelp_work\\Ins_Datasets\\Ada_data\\ADA_Training_data\\test\\key\\20220231352308061_000.json\n",
      "D:\\Xelp_work\\Ins_Datasets\\Ada_data\\ADA_Training_data\\test\\img\\20220231352308161_000.jpg D:\\Xelp_work\\Ins_Datasets\\Ada_data\\ADA_Training_data\\test\\key\\20220231352308161_000.json\n",
      "D:\\Xelp_work\\Ins_Datasets\\Ada_data\\ADA_Training_data\\test\\img\\20220231352308233_000.jpg D:\\Xelp_work\\Ins_Datasets\\Ada_data\\ADA_Training_data\\test\\key\\20220231352308233_000.json\n",
      "D:\\Xelp_work\\Ins_Datasets\\Ada_data\\ADA_Training_data\\test\\img\\20220231352308314_000.jpg D:\\Xelp_work\\Ins_Datasets\\Ada_data\\ADA_Training_data\\test\\key\\20220231352308314_000.json\n",
      "D:\\Xelp_work\\Ins_Datasets\\Ada_data\\ADA_Training_data\\test\\img\\20220231352308411_000.jpg D:\\Xelp_work\\Ins_Datasets\\Ada_data\\ADA_Training_data\\test\\key\\20220231352308411_000.json\n",
      "D:\\Xelp_work\\Ins_Datasets\\Ada_data\\ADA_Training_data\\test\\img\\20220231352308418_000.jpg D:\\Xelp_work\\Ins_Datasets\\Ada_data\\ADA_Training_data\\test\\key\\20220231352308418_000.json\n",
      "D:\\Xelp_work\\Ins_Datasets\\Ada_data\\ADA_Training_data\\test\\img\\20220231352309383_000.jpg D:\\Xelp_work\\Ins_Datasets\\Ada_data\\ADA_Training_data\\test\\key\\20220231352309383_000.json\n",
      "D:\\Xelp_work\\Ins_Datasets\\Ada_data\\ADA_Training_data\\test\\img\\20220231352309412_000.jpg D:\\Xelp_work\\Ins_Datasets\\Ada_data\\ADA_Training_data\\test\\key\\20220231352309412_000.json\n",
      "D:\\Xelp_work\\Ins_Datasets\\Ada_data\\ADA_Training_data\\test\\img\\20220231352309413_000.jpg D:\\Xelp_work\\Ins_Datasets\\Ada_data\\ADA_Training_data\\test\\key\\20220231352309413_000.json\n",
      "D:\\Xelp_work\\Ins_Datasets\\Ada_data\\ADA_Training_data\\test\\img\\20220231352309438_000.jpg D:\\Xelp_work\\Ins_Datasets\\Ada_data\\ADA_Training_data\\test\\key\\20220231352309438_000.json\n",
      "D:\\Xelp_work\\Ins_Datasets\\Ada_data\\ADA_Training_data\\test\\img\\20220231352309443_000.jpg D:\\Xelp_work\\Ins_Datasets\\Ada_data\\ADA_Training_data\\test\\key\\20220231352309443_000.json\n",
      "D:\\Xelp_work\\Ins_Datasets\\Ada_data\\ADA_Training_data\\test\\img\\20220231352310011_000.jpg D:\\Xelp_work\\Ins_Datasets\\Ada_data\\ADA_Training_data\\test\\key\\20220231352310011_000.json\n",
      "D:\\Xelp_work\\Ins_Datasets\\Ada_data\\ADA_Training_data\\test\\img\\20220231352310108_000.jpg D:\\Xelp_work\\Ins_Datasets\\Ada_data\\ADA_Training_data\\test\\key\\20220231352310108_000.json\n",
      "D:\\Xelp_work\\Ins_Datasets\\Ada_data\\ADA_Training_data\\test\\img\\20220231352310839_000.jpg D:\\Xelp_work\\Ins_Datasets\\Ada_data\\ADA_Training_data\\test\\key\\20220231352310839_000.json\n",
      "D:\\Xelp_work\\Ins_Datasets\\Ada_data\\ADA_Training_data\\test\\img\\20220231352311032_000.jpg D:\\Xelp_work\\Ins_Datasets\\Ada_data\\ADA_Training_data\\test\\key\\20220231352311032_000.json\n",
      "D:\\Xelp_work\\Ins_Datasets\\Ada_data\\ADA_Training_data\\test\\img\\20220231352311868_000.jpg D:\\Xelp_work\\Ins_Datasets\\Ada_data\\ADA_Training_data\\test\\key\\20220231352311868_000.json\n",
      "D:\\Xelp_work\\Ins_Datasets\\Ada_data\\ADA_Training_data\\test\\img\\20220231352311871_000.jpg D:\\Xelp_work\\Ins_Datasets\\Ada_data\\ADA_Training_data\\test\\key\\20220231352311871_000.json\n",
      "D:\\Xelp_work\\Ins_Datasets\\Ada_data\\ADA_Training_data\\test\\img\\20220231352312940_000.jpg D:\\Xelp_work\\Ins_Datasets\\Ada_data\\ADA_Training_data\\test\\key\\20220231352312940_000.json\n",
      "D:\\Xelp_work\\Ins_Datasets\\Ada_data\\ADA_Training_data\\test\\img\\20220231352313314_000.jpg D:\\Xelp_work\\Ins_Datasets\\Ada_data\\ADA_Training_data\\test\\key\\20220231352313314_000.json\n",
      "D:\\Xelp_work\\Ins_Datasets\\Ada_data\\ADA_Training_data\\test\\img\\20220231352313396_000.jpg D:\\Xelp_work\\Ins_Datasets\\Ada_data\\ADA_Training_data\\test\\key\\20220231352313396_000.json\n",
      "D:\\Xelp_work\\Ins_Datasets\\Ada_data\\ADA_Training_data\\test\\img\\20220231352314225_000.jpg D:\\Xelp_work\\Ins_Datasets\\Ada_data\\ADA_Training_data\\test\\key\\20220231352314225_000.json\n",
      "D:\\Xelp_work\\Ins_Datasets\\Ada_data\\ADA_Training_data\\test\\img\\20220231352315120_000.jpg D:\\Xelp_work\\Ins_Datasets\\Ada_data\\ADA_Training_data\\test\\key\\20220231352315120_000.json\n",
      "D:\\Xelp_work\\Ins_Datasets\\Ada_data\\ADA_Training_data\\test\\img\\20220231352315671_000.jpg D:\\Xelp_work\\Ins_Datasets\\Ada_data\\ADA_Training_data\\test\\key\\20220231352315671_000.json\n",
      "D:\\Xelp_work\\Ins_Datasets\\Ada_data\\ADA_Training_data\\test\\img\\20220231352315689_000.jpg D:\\Xelp_work\\Ins_Datasets\\Ada_data\\ADA_Training_data\\test\\key\\20220231352315689_000.json\n",
      "D:\\Xelp_work\\Ins_Datasets\\Ada_data\\ADA_Training_data\\test\\img\\20220231352315798_000.jpg D:\\Xelp_work\\Ins_Datasets\\Ada_data\\ADA_Training_data\\test\\key\\20220231352315798_000.json\n",
      "D:\\Xelp_work\\Ins_Datasets\\Ada_data\\ADA_Training_data\\test\\img\\20220231352315922_000.jpg D:\\Xelp_work\\Ins_Datasets\\Ada_data\\ADA_Training_data\\test\\key\\20220231352315922_000.json\n",
      "D:\\Xelp_work\\Ins_Datasets\\Ada_data\\ADA_Training_data\\test\\img\\20220231352316150_000.jpg D:\\Xelp_work\\Ins_Datasets\\Ada_data\\ADA_Training_data\\test\\key\\20220231352316150_000.json\n",
      "D:\\Xelp_work\\Ins_Datasets\\Ada_data\\ADA_Training_data\\test\\img\\20220231352316560_000.jpg D:\\Xelp_work\\Ins_Datasets\\Ada_data\\ADA_Training_data\\test\\key\\20220231352316560_000.json\n",
      "D:\\Xelp_work\\Ins_Datasets\\Ada_data\\ADA_Training_data\\test\\img\\20220231352316727_000.jpg D:\\Xelp_work\\Ins_Datasets\\Ada_data\\ADA_Training_data\\test\\key\\20220231352316727_000.json\n",
      "D:\\Xelp_work\\Ins_Datasets\\Ada_data\\ADA_Training_data\\test\\img\\20220231352316758_000.jpg D:\\Xelp_work\\Ins_Datasets\\Ada_data\\ADA_Training_data\\test\\key\\20220231352316758_000.json\n",
      "D:\\Xelp_work\\Ins_Datasets\\Ada_data\\ADA_Training_data\\test\\img\\20220231352316761_000.jpg D:\\Xelp_work\\Ins_Datasets\\Ada_data\\ADA_Training_data\\test\\key\\20220231352316761_000.json\n",
      "D:\\Xelp_work\\Ins_Datasets\\Ada_data\\ADA_Training_data\\test\\img\\20220231352316846_000.jpg D:\\Xelp_work\\Ins_Datasets\\Ada_data\\ADA_Training_data\\test\\key\\20220231352316846_000.json\n",
      "D:\\Xelp_work\\Ins_Datasets\\Ada_data\\ADA_Training_data\\test\\img\\20220231352318286_000.jpg D:\\Xelp_work\\Ins_Datasets\\Ada_data\\ADA_Training_data\\test\\key\\20220231352318286_000.json\n",
      "D:\\Xelp_work\\Ins_Datasets\\Ada_data\\ADA_Training_data\\test\\img\\20220231352318378_000.jpg D:\\Xelp_work\\Ins_Datasets\\Ada_data\\ADA_Training_data\\test\\key\\20220231352318378_000.json\n",
      "D:\\Xelp_work\\Ins_Datasets\\Ada_data\\ADA_Training_data\\test\\img\\20220231352318392_000.jpg D:\\Xelp_work\\Ins_Datasets\\Ada_data\\ADA_Training_data\\test\\key\\20220231352318392_000.json\n",
      "D:\\Xelp_work\\Ins_Datasets\\Ada_data\\ADA_Training_data\\test\\img\\20220231352318530_000.jpg D:\\Xelp_work\\Ins_Datasets\\Ada_data\\ADA_Training_data\\test\\key\\20220231352318530_000.json\n",
      "Deleted\n",
      "D:\\Xelp_work\\Ins_Datasets\\Ada_data\\ADA_Training_data\\test\\img\\20220231352318701_000.jpg D:\\Xelp_work\\Ins_Datasets\\Ada_data\\ADA_Training_data\\test\\key\\20220231352318701_000.json\n",
      "D:\\Xelp_work\\Ins_Datasets\\Ada_data\\ADA_Training_data\\test\\img\\20220231352318848_000.jpg D:\\Xelp_work\\Ins_Datasets\\Ada_data\\ADA_Training_data\\test\\key\\20220231352318848_000.json\n",
      "D:\\Xelp_work\\Ins_Datasets\\Ada_data\\ADA_Training_data\\test\\img\\20220231352318909_000.jpg D:\\Xelp_work\\Ins_Datasets\\Ada_data\\ADA_Training_data\\test\\key\\20220231352318909_000.json\n",
      "D:\\Xelp_work\\Ins_Datasets\\Ada_data\\ADA_Training_data\\test\\img\\20220231352319389_000.jpg D:\\Xelp_work\\Ins_Datasets\\Ada_data\\ADA_Training_data\\test\\key\\20220231352319389_000.json\n",
      "D:\\Xelp_work\\Ins_Datasets\\Ada_data\\ADA_Training_data\\test\\img\\20220231352319683_000.jpg D:\\Xelp_work\\Ins_Datasets\\Ada_data\\ADA_Training_data\\test\\key\\20220231352319683_000.json\n",
      "Deleted\n",
      "D:\\Xelp_work\\Ins_Datasets\\Ada_data\\ADA_Training_data\\test\\img\\20220231352319770_000.jpg D:\\Xelp_work\\Ins_Datasets\\Ada_data\\ADA_Training_data\\test\\key\\20220231352319770_000.json\n",
      "D:\\Xelp_work\\Ins_Datasets\\Ada_data\\ADA_Training_data\\test\\img\\20220231352320064_000.jpg D:\\Xelp_work\\Ins_Datasets\\Ada_data\\ADA_Training_data\\test\\key\\20220231352320064_000.json\n",
      "D:\\Xelp_work\\Ins_Datasets\\Ada_data\\ADA_Training_data\\test\\img\\20220231352320490_000.jpg D:\\Xelp_work\\Ins_Datasets\\Ada_data\\ADA_Training_data\\test\\key\\20220231352320490_000.json\n",
      "D:\\Xelp_work\\Ins_Datasets\\Ada_data\\ADA_Training_data\\test\\img\\20220231352320769_000.jpg D:\\Xelp_work\\Ins_Datasets\\Ada_data\\ADA_Training_data\\test\\key\\20220231352320769_000.json\n",
      "Deleted\n",
      "D:\\Xelp_work\\Ins_Datasets\\Ada_data\\ADA_Training_data\\test\\img\\20220231352320886_000.jpg D:\\Xelp_work\\Ins_Datasets\\Ada_data\\ADA_Training_data\\test\\key\\20220231352320886_000.json\n",
      "D:\\Xelp_work\\Ins_Datasets\\Ada_data\\ADA_Training_data\\test\\img\\20220231356395834_000.jpg D:\\Xelp_work\\Ins_Datasets\\Ada_data\\ADA_Training_data\\test\\key\\20220231356395834_000.json\n",
      "D:\\Xelp_work\\Ins_Datasets\\Ada_data\\ADA_Training_data\\test\\img\\20220231362304064_000.jpg D:\\Xelp_work\\Ins_Datasets\\Ada_data\\ADA_Training_data\\test\\key\\20220231362304064_000.json\n",
      "D:\\Xelp_work\\Ins_Datasets\\Ada_data\\ADA_Training_data\\test\\img\\20220231362304385_000.jpg D:\\Xelp_work\\Ins_Datasets\\Ada_data\\ADA_Training_data\\test\\key\\20220231362304385_000.json\n",
      "D:\\Xelp_work\\Ins_Datasets\\Ada_data\\ADA_Training_data\\test\\img\\20220231362304459_000.jpg D:\\Xelp_work\\Ins_Datasets\\Ada_data\\ADA_Training_data\\test\\key\\20220231362304459_000.json\n",
      "D:\\Xelp_work\\Ins_Datasets\\Ada_data\\ADA_Training_data\\test\\img\\20220231362304460_000.jpg D:\\Xelp_work\\Ins_Datasets\\Ada_data\\ADA_Training_data\\test\\key\\20220231362304460_000.json\n",
      "D:\\Xelp_work\\Ins_Datasets\\Ada_data\\ADA_Training_data\\test\\img\\20220231362304643_000.jpg D:\\Xelp_work\\Ins_Datasets\\Ada_data\\ADA_Training_data\\test\\key\\20220231362304643_000.json\n",
      "Deleted\n",
      "D:\\Xelp_work\\Ins_Datasets\\Ada_data\\ADA_Training_data\\test\\img\\20220231362304786_000.jpg D:\\Xelp_work\\Ins_Datasets\\Ada_data\\ADA_Training_data\\test\\key\\20220231362304786_000.json\n",
      "D:\\Xelp_work\\Ins_Datasets\\Ada_data\\ADA_Training_data\\test\\img\\20220231362304866_000.jpg D:\\Xelp_work\\Ins_Datasets\\Ada_data\\ADA_Training_data\\test\\key\\20220231362304866_000.json\n",
      "D:\\Xelp_work\\Ins_Datasets\\Ada_data\\ADA_Training_data\\test\\img\\20220231362305415_000.jpg D:\\Xelp_work\\Ins_Datasets\\Ada_data\\ADA_Training_data\\test\\key\\20220231362305415_000.json\n",
      "D:\\Xelp_work\\Ins_Datasets\\Ada_data\\ADA_Training_data\\test\\img\\20220231362305421_000.jpg D:\\Xelp_work\\Ins_Datasets\\Ada_data\\ADA_Training_data\\test\\key\\20220231362305421_000.json\n",
      "D:\\Xelp_work\\Ins_Datasets\\Ada_data\\ADA_Training_data\\test\\img\\20220231362305472_000.jpg D:\\Xelp_work\\Ins_Datasets\\Ada_data\\ADA_Training_data\\test\\key\\20220231362305472_000.json\n",
      "D:\\Xelp_work\\Ins_Datasets\\Ada_data\\ADA_Training_data\\test\\img\\20220231362305494_000.jpg D:\\Xelp_work\\Ins_Datasets\\Ada_data\\ADA_Training_data\\test\\key\\20220231362305494_000.json\n",
      "D:\\Xelp_work\\Ins_Datasets\\Ada_data\\ADA_Training_data\\test\\img\\20220231362305625_000.jpg D:\\Xelp_work\\Ins_Datasets\\Ada_data\\ADA_Training_data\\test\\key\\20220231362305625_000.json\n",
      "D:\\Xelp_work\\Ins_Datasets\\Ada_data\\ADA_Training_data\\test\\img\\20220231362305724_000.jpg D:\\Xelp_work\\Ins_Datasets\\Ada_data\\ADA_Training_data\\test\\key\\20220231362305724_000.json\n",
      "D:\\Xelp_work\\Ins_Datasets\\Ada_data\\ADA_Training_data\\test\\img\\20220231362305757_000.jpg D:\\Xelp_work\\Ins_Datasets\\Ada_data\\ADA_Training_data\\test\\key\\20220231362305757_000.json\n",
      "Deleted\n",
      "D:\\Xelp_work\\Ins_Datasets\\Ada_data\\ADA_Training_data\\test\\img\\20220231362305759_000.jpg D:\\Xelp_work\\Ins_Datasets\\Ada_data\\ADA_Training_data\\test\\key\\20220231362305759_000.json\n",
      "Deleted\n",
      "D:\\Xelp_work\\Ins_Datasets\\Ada_data\\ADA_Training_data\\test\\img\\20220231362305782_000.jpg D:\\Xelp_work\\Ins_Datasets\\Ada_data\\ADA_Training_data\\test\\key\\20220231362305782_000.json\n",
      "D:\\Xelp_work\\Ins_Datasets\\Ada_data\\ADA_Training_data\\test\\img\\20220231362305875_000.jpg D:\\Xelp_work\\Ins_Datasets\\Ada_data\\ADA_Training_data\\test\\key\\20220231362305875_000.json\n",
      "Deleted\n",
      "D:\\Xelp_work\\Ins_Datasets\\Ada_data\\ADA_Training_data\\test\\img\\20220231362305889_000.jpg D:\\Xelp_work\\Ins_Datasets\\Ada_data\\ADA_Training_data\\test\\key\\20220231362305889_000.json\n",
      "Deleted\n",
      "D:\\Xelp_work\\Ins_Datasets\\Ada_data\\ADA_Training_data\\test\\img\\20220231362306012_000.jpg D:\\Xelp_work\\Ins_Datasets\\Ada_data\\ADA_Training_data\\test\\key\\20220231362306012_000.json\n",
      "D:\\Xelp_work\\Ins_Datasets\\Ada_data\\ADA_Training_data\\test\\img\\20220231362306191_000.jpg D:\\Xelp_work\\Ins_Datasets\\Ada_data\\ADA_Training_data\\test\\key\\20220231362306191_000.json\n",
      "D:\\Xelp_work\\Ins_Datasets\\Ada_data\\ADA_Training_data\\test\\img\\20220231362306202_000.jpg D:\\Xelp_work\\Ins_Datasets\\Ada_data\\ADA_Training_data\\test\\key\\20220231362306202_000.json\n",
      "D:\\Xelp_work\\Ins_Datasets\\Ada_data\\ADA_Training_data\\test\\img\\20220231362306410_000.jpg D:\\Xelp_work\\Ins_Datasets\\Ada_data\\ADA_Training_data\\test\\key\\20220231362306410_000.json\n",
      "D:\\Xelp_work\\Ins_Datasets\\Ada_data\\ADA_Training_data\\test\\img\\20220231362307393_000.jpg D:\\Xelp_work\\Ins_Datasets\\Ada_data\\ADA_Training_data\\test\\key\\20220231362307393_000.json\n",
      "D:\\Xelp_work\\Ins_Datasets\\Ada_data\\ADA_Training_data\\test\\img\\20220231362307426_000.jpg D:\\Xelp_work\\Ins_Datasets\\Ada_data\\ADA_Training_data\\test\\key\\20220231362307426_000.json\n",
      "D:\\Xelp_work\\Ins_Datasets\\Ada_data\\ADA_Training_data\\test\\img\\20220231362307654_000.jpg D:\\Xelp_work\\Ins_Datasets\\Ada_data\\ADA_Training_data\\test\\key\\20220231362307654_000.json\n",
      "D:\\Xelp_work\\Ins_Datasets\\Ada_data\\ADA_Training_data\\test\\img\\20220231362307956_000.jpg D:\\Xelp_work\\Ins_Datasets\\Ada_data\\ADA_Training_data\\test\\key\\20220231362307956_000.json\n",
      "Deleted\n",
      "D:\\Xelp_work\\Ins_Datasets\\Ada_data\\ADA_Training_data\\test\\img\\20220231362308118_000.jpg D:\\Xelp_work\\Ins_Datasets\\Ada_data\\ADA_Training_data\\test\\key\\20220231362308118_000.json\n",
      "Deleted\n",
      "D:\\Xelp_work\\Ins_Datasets\\Ada_data\\ADA_Training_data\\test\\img\\20220231362308181_000.jpg D:\\Xelp_work\\Ins_Datasets\\Ada_data\\ADA_Training_data\\test\\key\\20220231362308181_000.json\n",
      "D:\\Xelp_work\\Ins_Datasets\\Ada_data\\ADA_Training_data\\test\\img\\20220231362308185_000.jpg D:\\Xelp_work\\Ins_Datasets\\Ada_data\\ADA_Training_data\\test\\key\\20220231362308185_000.json\n",
      "Deleted\n",
      "D:\\Xelp_work\\Ins_Datasets\\Ada_data\\ADA_Training_data\\test\\img\\20220231362308200_000.jpg D:\\Xelp_work\\Ins_Datasets\\Ada_data\\ADA_Training_data\\test\\key\\20220231362308200_000.json\n",
      "D:\\Xelp_work\\Ins_Datasets\\Ada_data\\ADA_Training_data\\test\\img\\20220231362308676_000.jpg D:\\Xelp_work\\Ins_Datasets\\Ada_data\\ADA_Training_data\\test\\key\\20220231362308676_000.json\n",
      "D:\\Xelp_work\\Ins_Datasets\\Ada_data\\ADA_Training_data\\test\\img\\20220231362308754_000.jpg D:\\Xelp_work\\Ins_Datasets\\Ada_data\\ADA_Training_data\\test\\key\\20220231362308754_000.json\n",
      "D:\\Xelp_work\\Ins_Datasets\\Ada_data\\ADA_Training_data\\test\\img\\20220231362308874_000.jpg D:\\Xelp_work\\Ins_Datasets\\Ada_data\\ADA_Training_data\\test\\key\\20220231362308874_000.json\n",
      "D:\\Xelp_work\\Ins_Datasets\\Ada_data\\ADA_Training_data\\test\\img\\20220231362308894_000.jpg D:\\Xelp_work\\Ins_Datasets\\Ada_data\\ADA_Training_data\\test\\key\\20220231362308894_000.json\n",
      "D:\\Xelp_work\\Ins_Datasets\\Ada_data\\ADA_Training_data\\test\\img\\20220231362309100_000.jpg D:\\Xelp_work\\Ins_Datasets\\Ada_data\\ADA_Training_data\\test\\key\\20220231362309100_000.json\n",
      "D:\\Xelp_work\\Ins_Datasets\\Ada_data\\ADA_Training_data\\test\\img\\20220231362309349_000.jpg D:\\Xelp_work\\Ins_Datasets\\Ada_data\\ADA_Training_data\\test\\key\\20220231362309349_000.json\n",
      "D:\\Xelp_work\\Ins_Datasets\\Ada_data\\ADA_Training_data\\test\\img\\20220231366395482_000.jpg D:\\Xelp_work\\Ins_Datasets\\Ada_data\\ADA_Training_data\\test\\key\\20220231366395482_000.json\n",
      "D:\\Xelp_work\\Ins_Datasets\\Ada_data\\ADA_Training_data\\test\\img\\20220231372304904_000.jpg D:\\Xelp_work\\Ins_Datasets\\Ada_data\\ADA_Training_data\\test\\key\\20220231372304904_000.json\n",
      "D:\\Xelp_work\\Ins_Datasets\\Ada_data\\ADA_Training_data\\test\\img\\20220231372305013_000.jpg D:\\Xelp_work\\Ins_Datasets\\Ada_data\\ADA_Training_data\\test\\key\\20220231372305013_000.json\n",
      "Deleted\n",
      "D:\\Xelp_work\\Ins_Datasets\\Ada_data\\ADA_Training_data\\test\\img\\20220231372305198_000.jpg D:\\Xelp_work\\Ins_Datasets\\Ada_data\\ADA_Training_data\\test\\key\\20220231372305198_000.json\n",
      "D:\\Xelp_work\\Ins_Datasets\\Ada_data\\ADA_Training_data\\test\\img\\20220231372305282_000.jpg D:\\Xelp_work\\Ins_Datasets\\Ada_data\\ADA_Training_data\\test\\key\\20220231372305282_000.json\n",
      "D:\\Xelp_work\\Ins_Datasets\\Ada_data\\ADA_Training_data\\test\\img\\20220231372305506_000.jpg D:\\Xelp_work\\Ins_Datasets\\Ada_data\\ADA_Training_data\\test\\key\\20220231372305506_000.json\n",
      "Deleted\n",
      "D:\\Xelp_work\\Ins_Datasets\\Ada_data\\ADA_Training_data\\test\\img\\20220231372305568_000.jpg D:\\Xelp_work\\Ins_Datasets\\Ada_data\\ADA_Training_data\\test\\key\\20220231372305568_000.json\n",
      "D:\\Xelp_work\\Ins_Datasets\\Ada_data\\ADA_Training_data\\test\\img\\20220231372305791_000.jpg D:\\Xelp_work\\Ins_Datasets\\Ada_data\\ADA_Training_data\\test\\key\\20220231372305791_000.json\n",
      "D:\\Xelp_work\\Ins_Datasets\\Ada_data\\ADA_Training_data\\test\\img\\20220231372305855_000.jpg D:\\Xelp_work\\Ins_Datasets\\Ada_data\\ADA_Training_data\\test\\key\\20220231372305855_000.json\n",
      "D:\\Xelp_work\\Ins_Datasets\\Ada_data\\ADA_Training_data\\test\\img\\20220231372305856_000.jpg D:\\Xelp_work\\Ins_Datasets\\Ada_data\\ADA_Training_data\\test\\key\\20220231372305856_000.json\n",
      "D:\\Xelp_work\\Ins_Datasets\\Ada_data\\ADA_Training_data\\test\\img\\20220231372306030_000.jpg D:\\Xelp_work\\Ins_Datasets\\Ada_data\\ADA_Training_data\\test\\key\\20220231372306030_000.json\n",
      "D:\\Xelp_work\\Ins_Datasets\\Ada_data\\ADA_Training_data\\test\\img\\20220231372306061_000.jpg D:\\Xelp_work\\Ins_Datasets\\Ada_data\\ADA_Training_data\\test\\key\\20220231372306061_000.json\n",
      "D:\\Xelp_work\\Ins_Datasets\\Ada_data\\ADA_Training_data\\test\\img\\20220231372306179_000.jpg D:\\Xelp_work\\Ins_Datasets\\Ada_data\\ADA_Training_data\\test\\key\\20220231372306179_000.json\n",
      "Deleted\n",
      "D:\\Xelp_work\\Ins_Datasets\\Ada_data\\ADA_Training_data\\test\\img\\20220231372306203_000.jpg D:\\Xelp_work\\Ins_Datasets\\Ada_data\\ADA_Training_data\\test\\key\\20220231372306203_000.json\n",
      "Deleted\n",
      "D:\\Xelp_work\\Ins_Datasets\\Ada_data\\ADA_Training_data\\test\\img\\20220231372306242_000.jpg D:\\Xelp_work\\Ins_Datasets\\Ada_data\\ADA_Training_data\\test\\key\\20220231372306242_000.json\n",
      "D:\\Xelp_work\\Ins_Datasets\\Ada_data\\ADA_Training_data\\test\\img\\20220231372306296_000.jpg D:\\Xelp_work\\Ins_Datasets\\Ada_data\\ADA_Training_data\\test\\key\\20220231372306296_000.json\n",
      "D:\\Xelp_work\\Ins_Datasets\\Ada_data\\ADA_Training_data\\test\\img\\20220231372306311_000.jpg D:\\Xelp_work\\Ins_Datasets\\Ada_data\\ADA_Training_data\\test\\key\\20220231372306311_000.json\n",
      "D:\\Xelp_work\\Ins_Datasets\\Ada_data\\ADA_Training_data\\test\\img\\20220231372306360_000.jpg D:\\Xelp_work\\Ins_Datasets\\Ada_data\\ADA_Training_data\\test\\key\\20220231372306360_000.json\n",
      "Deleted\n",
      "D:\\Xelp_work\\Ins_Datasets\\Ada_data\\ADA_Training_data\\test\\img\\20220231372306367_000.jpg D:\\Xelp_work\\Ins_Datasets\\Ada_data\\ADA_Training_data\\test\\key\\20220231372306367_000.json\n",
      "D:\\Xelp_work\\Ins_Datasets\\Ada_data\\ADA_Training_data\\test\\img\\20220231372306590_000.jpg D:\\Xelp_work\\Ins_Datasets\\Ada_data\\ADA_Training_data\\test\\key\\20220231372306590_000.json\n",
      "D:\\Xelp_work\\Ins_Datasets\\Ada_data\\ADA_Training_data\\test\\img\\20220231372307040_000.jpg D:\\Xelp_work\\Ins_Datasets\\Ada_data\\ADA_Training_data\\test\\key\\20220231372307040_000.json\n",
      "D:\\Xelp_work\\Ins_Datasets\\Ada_data\\ADA_Training_data\\test\\img\\20220231372307088_000.jpg D:\\Xelp_work\\Ins_Datasets\\Ada_data\\ADA_Training_data\\test\\key\\20220231372307088_000.json\n",
      "D:\\Xelp_work\\Ins_Datasets\\Ada_data\\ADA_Training_data\\test\\img\\20220231372307266_000.jpg D:\\Xelp_work\\Ins_Datasets\\Ada_data\\ADA_Training_data\\test\\key\\20220231372307266_000.json\n",
      "D:\\Xelp_work\\Ins_Datasets\\Ada_data\\ADA_Training_data\\test\\img\\20220231372307561_000.jpg D:\\Xelp_work\\Ins_Datasets\\Ada_data\\ADA_Training_data\\test\\key\\20220231372307561_000.json\n",
      "D:\\Xelp_work\\Ins_Datasets\\Ada_data\\ADA_Training_data\\test\\img\\20220231372307820_000.jpg D:\\Xelp_work\\Ins_Datasets\\Ada_data\\ADA_Training_data\\test\\key\\20220231372307820_000.json\n",
      "D:\\Xelp_work\\Ins_Datasets\\Ada_data\\ADA_Training_data\\test\\img\\20220231372308334_000.jpg D:\\Xelp_work\\Ins_Datasets\\Ada_data\\ADA_Training_data\\test\\key\\20220231372308334_000.json\n",
      "Deleted\n",
      "D:\\Xelp_work\\Ins_Datasets\\Ada_data\\ADA_Training_data\\test\\img\\20220231372308451_000.jpg D:\\Xelp_work\\Ins_Datasets\\Ada_data\\ADA_Training_data\\test\\key\\20220231372308451_000.json\n",
      "Deleted\n",
      "D:\\Xelp_work\\Ins_Datasets\\Ada_data\\ADA_Training_data\\test\\img\\20220231372308882_000.jpg D:\\Xelp_work\\Ins_Datasets\\Ada_data\\ADA_Training_data\\test\\key\\20220231372308882_000.json\n",
      "D:\\Xelp_work\\Ins_Datasets\\Ada_data\\ADA_Training_data\\test\\img\\20220231372309232_000.jpg D:\\Xelp_work\\Ins_Datasets\\Ada_data\\ADA_Training_data\\test\\key\\20220231372309232_000.json\n",
      "Deleted\n",
      "D:\\Xelp_work\\Ins_Datasets\\Ada_data\\ADA_Training_data\\test\\img\\20220231372309354_000.jpg D:\\Xelp_work\\Ins_Datasets\\Ada_data\\ADA_Training_data\\test\\key\\20220231372309354_000.json\n",
      "D:\\Xelp_work\\Ins_Datasets\\Ada_data\\ADA_Training_data\\test\\img\\20220231372309403_000.jpg D:\\Xelp_work\\Ins_Datasets\\Ada_data\\ADA_Training_data\\test\\key\\20220231372309403_000.json\n",
      "D:\\Xelp_work\\Ins_Datasets\\Ada_data\\ADA_Training_data\\test\\img\\20220231372309523_000.jpg D:\\Xelp_work\\Ins_Datasets\\Ada_data\\ADA_Training_data\\test\\key\\20220231372309523_000.json\n",
      "D:\\Xelp_work\\Ins_Datasets\\Ada_data\\ADA_Training_data\\test\\img\\20220231372310058_000.jpg D:\\Xelp_work\\Ins_Datasets\\Ada_data\\ADA_Training_data\\test\\key\\20220231372310058_000.json\n",
      "D:\\Xelp_work\\Ins_Datasets\\Ada_data\\ADA_Training_data\\test\\img\\20220231372310061_000.jpg D:\\Xelp_work\\Ins_Datasets\\Ada_data\\ADA_Training_data\\test\\key\\20220231372310061_000.json\n",
      "D:\\Xelp_work\\Ins_Datasets\\Ada_data\\ADA_Training_data\\test\\img\\20220231372310062_000.jpg D:\\Xelp_work\\Ins_Datasets\\Ada_data\\ADA_Training_data\\test\\key\\20220231372310062_000.json\n",
      "D:\\Xelp_work\\Ins_Datasets\\Ada_data\\ADA_Training_data\\test\\img\\20220231382304434_000.jpg D:\\Xelp_work\\Ins_Datasets\\Ada_data\\ADA_Training_data\\test\\key\\20220231382304434_000.json\n",
      "D:\\Xelp_work\\Ins_Datasets\\Ada_data\\ADA_Training_data\\test\\img\\20220231382304667_000.jpg D:\\Xelp_work\\Ins_Datasets\\Ada_data\\ADA_Training_data\\test\\key\\20220231382304667_000.json\n",
      "D:\\Xelp_work\\Ins_Datasets\\Ada_data\\ADA_Training_data\\test\\img\\20220231382305691_000.jpg D:\\Xelp_work\\Ins_Datasets\\Ada_data\\ADA_Training_data\\test\\key\\20220231382305691_000.json\n",
      "D:\\Xelp_work\\Ins_Datasets\\Ada_data\\ADA_Training_data\\test\\img\\20220231382305721_000.jpg D:\\Xelp_work\\Ins_Datasets\\Ada_data\\ADA_Training_data\\test\\key\\20220231382305721_000.json\n",
      "D:\\Xelp_work\\Ins_Datasets\\Ada_data\\ADA_Training_data\\test\\img\\20220231382305803_000.jpg D:\\Xelp_work\\Ins_Datasets\\Ada_data\\ADA_Training_data\\test\\key\\20220231382305803_000.json\n",
      "D:\\Xelp_work\\Ins_Datasets\\Ada_data\\ADA_Training_data\\test\\img\\20220231382306118_000.jpg D:\\Xelp_work\\Ins_Datasets\\Ada_data\\ADA_Training_data\\test\\key\\20220231382306118_000.json\n",
      "D:\\Xelp_work\\Ins_Datasets\\Ada_data\\ADA_Training_data\\test\\img\\20220231382306127_000.jpg D:\\Xelp_work\\Ins_Datasets\\Ada_data\\ADA_Training_data\\test\\key\\20220231382306127_000.json\n",
      "D:\\Xelp_work\\Ins_Datasets\\Ada_data\\ADA_Training_data\\test\\img\\20220231382306635_000.jpg D:\\Xelp_work\\Ins_Datasets\\Ada_data\\ADA_Training_data\\test\\key\\20220231382306635_000.json\n",
      "D:\\Xelp_work\\Ins_Datasets\\Ada_data\\ADA_Training_data\\test\\img\\20220231382306727_000.jpg D:\\Xelp_work\\Ins_Datasets\\Ada_data\\ADA_Training_data\\test\\key\\20220231382306727_000.json\n",
      "Deleted\n",
      "D:\\Xelp_work\\Ins_Datasets\\Ada_data\\ADA_Training_data\\test\\img\\20220231382306733_000.jpg D:\\Xelp_work\\Ins_Datasets\\Ada_data\\ADA_Training_data\\test\\key\\20220231382306733_000.json\n",
      "D:\\Xelp_work\\Ins_Datasets\\Ada_data\\ADA_Training_data\\test\\img\\20220231382306970_000.jpg D:\\Xelp_work\\Ins_Datasets\\Ada_data\\ADA_Training_data\\test\\key\\20220231382306970_000.json\n",
      "D:\\Xelp_work\\Ins_Datasets\\Ada_data\\ADA_Training_data\\test\\img\\20220231382307359_000.jpg D:\\Xelp_work\\Ins_Datasets\\Ada_data\\ADA_Training_data\\test\\key\\20220231382307359_000.json\n",
      "D:\\Xelp_work\\Ins_Datasets\\Ada_data\\ADA_Training_data\\test\\img\\20220231382307467_000.jpg D:\\Xelp_work\\Ins_Datasets\\Ada_data\\ADA_Training_data\\test\\key\\20220231382307467_000.json\n",
      "D:\\Xelp_work\\Ins_Datasets\\Ada_data\\ADA_Training_data\\test\\img\\20220231382307547_000.jpg D:\\Xelp_work\\Ins_Datasets\\Ada_data\\ADA_Training_data\\test\\key\\20220231382307547_000.json\n",
      "D:\\Xelp_work\\Ins_Datasets\\Ada_data\\ADA_Training_data\\test\\img\\20220231382307578_000.jpg D:\\Xelp_work\\Ins_Datasets\\Ada_data\\ADA_Training_data\\test\\key\\20220231382307578_000.json\n",
      "D:\\Xelp_work\\Ins_Datasets\\Ada_data\\ADA_Training_data\\test\\img\\20220231382307610_000.jpg D:\\Xelp_work\\Ins_Datasets\\Ada_data\\ADA_Training_data\\test\\key\\20220231382307610_000.json\n",
      "D:\\Xelp_work\\Ins_Datasets\\Ada_data\\ADA_Training_data\\test\\img\\20220231382307647_000.jpg D:\\Xelp_work\\Ins_Datasets\\Ada_data\\ADA_Training_data\\test\\key\\20220231382307647_000.json\n",
      "D:\\Xelp_work\\Ins_Datasets\\Ada_data\\ADA_Training_data\\test\\img\\20220231382307654_000.jpg D:\\Xelp_work\\Ins_Datasets\\Ada_data\\ADA_Training_data\\test\\key\\20220231382307654_000.json\n",
      "D:\\Xelp_work\\Ins_Datasets\\Ada_data\\ADA_Training_data\\test\\img\\20220231382307702_000.jpg D:\\Xelp_work\\Ins_Datasets\\Ada_data\\ADA_Training_data\\test\\key\\20220231382307702_000.json\n",
      "D:\\Xelp_work\\Ins_Datasets\\Ada_data\\ADA_Training_data\\test\\img\\20220231382308227_000.jpg D:\\Xelp_work\\Ins_Datasets\\Ada_data\\ADA_Training_data\\test\\key\\20220231382308227_000.json\n",
      "D:\\Xelp_work\\Ins_Datasets\\Ada_data\\ADA_Training_data\\test\\img\\20220231382308311_000.jpg D:\\Xelp_work\\Ins_Datasets\\Ada_data\\ADA_Training_data\\test\\key\\20220231382308311_000.json\n",
      "D:\\Xelp_work\\Ins_Datasets\\Ada_data\\ADA_Training_data\\test\\img\\20220231382308313_000.jpg D:\\Xelp_work\\Ins_Datasets\\Ada_data\\ADA_Training_data\\test\\key\\20220231382308313_000.json\n",
      "D:\\Xelp_work\\Ins_Datasets\\Ada_data\\ADA_Training_data\\test\\img\\20220231382308376_000.jpg D:\\Xelp_work\\Ins_Datasets\\Ada_data\\ADA_Training_data\\test\\key\\20220231382308376_000.json\n",
      "D:\\Xelp_work\\Ins_Datasets\\Ada_data\\ADA_Training_data\\test\\img\\20220231382308638_000.jpg D:\\Xelp_work\\Ins_Datasets\\Ada_data\\ADA_Training_data\\test\\key\\20220231382308638_000.json\n",
      "Deleted\n",
      "D:\\Xelp_work\\Ins_Datasets\\Ada_data\\ADA_Training_data\\test\\img\\20220231382308879_000.jpg D:\\Xelp_work\\Ins_Datasets\\Ada_data\\ADA_Training_data\\test\\key\\20220231382308879_000.json\n",
      "D:\\Xelp_work\\Ins_Datasets\\Ada_data\\ADA_Training_data\\test\\img\\20220231382308906_000.jpg D:\\Xelp_work\\Ins_Datasets\\Ada_data\\ADA_Training_data\\test\\key\\20220231382308906_000.json\n",
      "Deleted\n",
      "D:\\Xelp_work\\Ins_Datasets\\Ada_data\\ADA_Training_data\\test\\img\\20220231382308917_000.jpg D:\\Xelp_work\\Ins_Datasets\\Ada_data\\ADA_Training_data\\test\\key\\20220231382308917_000.json\n",
      "D:\\Xelp_work\\Ins_Datasets\\Ada_data\\ADA_Training_data\\test\\img\\20220231386395046_000.jpg D:\\Xelp_work\\Ins_Datasets\\Ada_data\\ADA_Training_data\\test\\key\\20220231386395046_000.json\n",
      "D:\\Xelp_work\\Ins_Datasets\\Ada_data\\ADA_Training_data\\test\\img\\20220231392305596_000.jpg D:\\Xelp_work\\Ins_Datasets\\Ada_data\\ADA_Training_data\\test\\key\\20220231392305596_000.json\n",
      "D:\\Xelp_work\\Ins_Datasets\\Ada_data\\ADA_Training_data\\test\\img\\20220231392305642_000.jpg D:\\Xelp_work\\Ins_Datasets\\Ada_data\\ADA_Training_data\\test\\key\\20220231392305642_000.json\n",
      "Deleted\n",
      "D:\\Xelp_work\\Ins_Datasets\\Ada_data\\ADA_Training_data\\test\\img\\20220231392305778_000.jpg D:\\Xelp_work\\Ins_Datasets\\Ada_data\\ADA_Training_data\\test\\key\\20220231392305778_000.json\n",
      "Deleted\n",
      "D:\\Xelp_work\\Ins_Datasets\\Ada_data\\ADA_Training_data\\test\\img\\20220231392305845_000.jpg D:\\Xelp_work\\Ins_Datasets\\Ada_data\\ADA_Training_data\\test\\key\\20220231392305845_000.json\n",
      "D:\\Xelp_work\\Ins_Datasets\\Ada_data\\ADA_Training_data\\test\\img\\20220231392306530_000.jpg D:\\Xelp_work\\Ins_Datasets\\Ada_data\\ADA_Training_data\\test\\key\\20220231392306530_000.json\n",
      "D:\\Xelp_work\\Ins_Datasets\\Ada_data\\ADA_Training_data\\test\\img\\20220231392306565_000.jpg D:\\Xelp_work\\Ins_Datasets\\Ada_data\\ADA_Training_data\\test\\key\\20220231392306565_000.json\n",
      "D:\\Xelp_work\\Ins_Datasets\\Ada_data\\ADA_Training_data\\test\\img\\20220231392306697_000.jpg D:\\Xelp_work\\Ins_Datasets\\Ada_data\\ADA_Training_data\\test\\key\\20220231392306697_000.json\n",
      "D:\\Xelp_work\\Ins_Datasets\\Ada_data\\ADA_Training_data\\test\\img\\20220231392306744_000.jpg D:\\Xelp_work\\Ins_Datasets\\Ada_data\\ADA_Training_data\\test\\key\\20220231392306744_000.json\n",
      "D:\\Xelp_work\\Ins_Datasets\\Ada_data\\ADA_Training_data\\test\\img\\20220231392306745_000.jpg D:\\Xelp_work\\Ins_Datasets\\Ada_data\\ADA_Training_data\\test\\key\\20220231392306745_000.json\n",
      "D:\\Xelp_work\\Ins_Datasets\\Ada_data\\ADA_Training_data\\test\\img\\20220231392306872_000.jpg D:\\Xelp_work\\Ins_Datasets\\Ada_data\\ADA_Training_data\\test\\key\\20220231392306872_000.json\n",
      "Deleted\n",
      "D:\\Xelp_work\\Ins_Datasets\\Ada_data\\ADA_Training_data\\test\\img\\20220231392307088_000.jpg D:\\Xelp_work\\Ins_Datasets\\Ada_data\\ADA_Training_data\\test\\key\\20220231392307088_000.json\n",
      "D:\\Xelp_work\\Ins_Datasets\\Ada_data\\ADA_Training_data\\test\\img\\20220231392307255_000.jpg D:\\Xelp_work\\Ins_Datasets\\Ada_data\\ADA_Training_data\\test\\key\\20220231392307255_000.json\n",
      "D:\\Xelp_work\\Ins_Datasets\\Ada_data\\ADA_Training_data\\test\\img\\20220231392307493_000.jpg D:\\Xelp_work\\Ins_Datasets\\Ada_data\\ADA_Training_data\\test\\key\\20220231392307493_000.json\n",
      "D:\\Xelp_work\\Ins_Datasets\\Ada_data\\ADA_Training_data\\test\\img\\20220231392307622_000.jpg D:\\Xelp_work\\Ins_Datasets\\Ada_data\\ADA_Training_data\\test\\key\\20220231392307622_000.json\n",
      "Deleted\n",
      "D:\\Xelp_work\\Ins_Datasets\\Ada_data\\ADA_Training_data\\test\\img\\20220231392307708_000.jpg D:\\Xelp_work\\Ins_Datasets\\Ada_data\\ADA_Training_data\\test\\key\\20220231392307708_000.json\n",
      "D:\\Xelp_work\\Ins_Datasets\\Ada_data\\ADA_Training_data\\test\\img\\20220231392307903_000.jpg D:\\Xelp_work\\Ins_Datasets\\Ada_data\\ADA_Training_data\\test\\key\\20220231392307903_000.json\n",
      "D:\\Xelp_work\\Ins_Datasets\\Ada_data\\ADA_Training_data\\test\\img\\20220231392307936_000.jpg D:\\Xelp_work\\Ins_Datasets\\Ada_data\\ADA_Training_data\\test\\key\\20220231392307936_000.json\n",
      "D:\\Xelp_work\\Ins_Datasets\\Ada_data\\ADA_Training_data\\test\\img\\20220231392308050_000.jpg D:\\Xelp_work\\Ins_Datasets\\Ada_data\\ADA_Training_data\\test\\key\\20220231392308050_000.json\n",
      "D:\\Xelp_work\\Ins_Datasets\\Ada_data\\ADA_Training_data\\test\\img\\20220231392308216_000.jpg D:\\Xelp_work\\Ins_Datasets\\Ada_data\\ADA_Training_data\\test\\key\\20220231392308216_000.json\n",
      "D:\\Xelp_work\\Ins_Datasets\\Ada_data\\ADA_Training_data\\test\\img\\20220231392308874_000.jpg D:\\Xelp_work\\Ins_Datasets\\Ada_data\\ADA_Training_data\\test\\key\\20220231392308874_000.json\n",
      "D:\\Xelp_work\\Ins_Datasets\\Ada_data\\ADA_Training_data\\test\\img\\20220231392309716_000.jpg D:\\Xelp_work\\Ins_Datasets\\Ada_data\\ADA_Training_data\\test\\key\\20220231392309716_000.json\n",
      "D:\\Xelp_work\\Ins_Datasets\\Ada_data\\ADA_Training_data\\test\\img\\20220231392309966_000.jpg D:\\Xelp_work\\Ins_Datasets\\Ada_data\\ADA_Training_data\\test\\key\\20220231392309966_000.json\n",
      "Deleted\n",
      "D:\\Xelp_work\\Ins_Datasets\\Ada_data\\ADA_Training_data\\test\\img\\20220231396395242_000.jpg D:\\Xelp_work\\Ins_Datasets\\Ada_data\\ADA_Training_data\\test\\key\\20220231396395242_000.json\n",
      "D:\\Xelp_work\\Ins_Datasets\\Ada_data\\ADA_Training_data\\test\\img\\20220231396395539_000.jpg D:\\Xelp_work\\Ins_Datasets\\Ada_data\\ADA_Training_data\\test\\key\\20220231396395539_000.json\n",
      "Deleted\n",
      "D:\\Xelp_work\\Ins_Datasets\\Ada_data\\ADA_Training_data\\test\\img\\20220231402302897_000.jpg D:\\Xelp_work\\Ins_Datasets\\Ada_data\\ADA_Training_data\\test\\key\\20220231402302897_000.json\n",
      "D:\\Xelp_work\\Ins_Datasets\\Ada_data\\ADA_Training_data\\test\\img\\20220231402303366_000.jpg D:\\Xelp_work\\Ins_Datasets\\Ada_data\\ADA_Training_data\\test\\key\\20220231402303366_000.json\n",
      "D:\\Xelp_work\\Ins_Datasets\\Ada_data\\ADA_Training_data\\test\\img\\20220231402303403_000.jpg D:\\Xelp_work\\Ins_Datasets\\Ada_data\\ADA_Training_data\\test\\key\\20220231402303403_000.json\n",
      "D:\\Xelp_work\\Ins_Datasets\\Ada_data\\ADA_Training_data\\test\\img\\20220231402303910_000.jpg D:\\Xelp_work\\Ins_Datasets\\Ada_data\\ADA_Training_data\\test\\key\\20220231402303910_000.json\n",
      "D:\\Xelp_work\\Ins_Datasets\\Ada_data\\ADA_Training_data\\test\\img\\20220231402304023_000.jpg D:\\Xelp_work\\Ins_Datasets\\Ada_data\\ADA_Training_data\\test\\key\\20220231402304023_000.json\n",
      "D:\\Xelp_work\\Ins_Datasets\\Ada_data\\ADA_Training_data\\test\\img\\20220231402304292_000.jpg D:\\Xelp_work\\Ins_Datasets\\Ada_data\\ADA_Training_data\\test\\key\\20220231402304292_000.json\n",
      "D:\\Xelp_work\\Ins_Datasets\\Ada_data\\ADA_Training_data\\test\\img\\20220231402304747_000.jpg D:\\Xelp_work\\Ins_Datasets\\Ada_data\\ADA_Training_data\\test\\key\\20220231402304747_000.json\n",
      "D:\\Xelp_work\\Ins_Datasets\\Ada_data\\ADA_Training_data\\test\\img\\20220231402304859_000.jpg D:\\Xelp_work\\Ins_Datasets\\Ada_data\\ADA_Training_data\\test\\key\\20220231402304859_000.json\n"
     ]
    }
   ],
   "source": [
    "image_dir = r'D:\\Xelp_work\\Ins_Datasets\\Ada_data\\ADA_Training_data\\test\\img'\n",
    "key_dir = r'D:\\Xelp_work\\Ins_Datasets\\Ada_data\\ADA_Training_data\\test\\key'\n",
    "with open(\"Multi_ada.txt\", \"r\") as file:\n",
    "    file_list = file.readlines()\n",
    "    for line in file_list:\n",
    "        line = line.strip()  # Remove leading/trailing whitespaces and newlines\n",
    "        image_name = line.split(\".\")[0] + \".jpg\"\n",
    "        json_name = line.split(\".\")[0] + \".json\"\n",
    "        image_path = os.path.join(image_dir, image_name)\n",
    "        json_path = os.path.join(key_dir, json_name)\n",
    "        print(image_path, json_path)\n",
    "        try:\n",
    "            os.remove(image_path)\n",
    "            os.remove(json_path)\n",
    "            print(\"Deleted\")\n",
    "        except:\n",
    "            pass\n",
    "        "
   ]
  },
  {
   "cell_type": "code",
   "execution_count": 80,
   "id": "a363a302",
   "metadata": {},
   "outputs": [
    {
     "data": {
      "text/plain": [
       "'20220231192308248_000.TRANS\\n'"
      ]
     },
     "execution_count": 80,
     "metadata": {},
     "output_type": "execute_result"
    }
   ],
   "source": [
    "file_list"
   ]
  },
  {
   "cell_type": "code",
   "execution_count": 71,
   "id": "30c744ae",
   "metadata": {},
   "outputs": [
    {
     "name": "stdout",
     "output_type": "stream",
     "text": [
      "20220231192308248_000.jpg 20220231192308248_000.json\n"
     ]
    }
   ],
   "source": [
    "for each_multi in Multi_ADA:\n",
    "    image_name = each_multi.split(\".\")[0] + \".jpg\"\n",
    "    json_name = each_multi.split(\".\")[0] + \".json\"\n",
    "    print(image_name, json_name)"
   ]
  },
  {
   "cell_type": "code",
   "execution_count": null,
   "id": "95be1759",
   "metadata": {},
   "outputs": [],
   "source": []
  },
  {
   "cell_type": "code",
   "execution_count": null,
   "id": "30ac787c",
   "metadata": {},
   "outputs": [],
   "source": []
  }
 ],
 "metadata": {
  "kernelspec": {
   "display_name": "Python 3 (ipykernel)",
   "language": "python",
   "name": "python3"
  },
  "language_info": {
   "codemirror_mode": {
    "name": "ipython",
    "version": 3
   },
   "file_extension": ".py",
   "mimetype": "text/x-python",
   "name": "python",
   "nbconvert_exporter": "python",
   "pygments_lexer": "ipython3",
   "version": "3.11.5"
  }
 },
 "nbformat": 4,
 "nbformat_minor": 5
}
